{
  "nbformat": 4,
  "nbformat_minor": 0,
  "metadata": {
    "colab": {
      "provenance": [],
      "include_colab_link": true
    },
    "kernelspec": {
      "name": "python3",
      "display_name": "Python 3"
    },
    "language_info": {
      "name": "python"
    }
  },
  "cells": [
    {
      "cell_type": "markdown",
      "metadata": {
        "id": "view-in-github",
        "colab_type": "text"
      },
      "source": [
        "<a href=\"https://colab.research.google.com/github/student-akanksha/movie-recommendation-system/blob/main/Movie_Recommendation_System_Project(YBI).ipynb\" target=\"_parent\"><img src=\"https://colab.research.google.com/assets/colab-badge.svg\" alt=\"Open In Colab\"/></a>"
      ]
    },
    {
      "cell_type": "markdown",
      "source": [
        "# **Movie Recommendation System**\n",
        "\n",
        "# Movie Match: Revolutionizing Movie Recommendations with Close Match Algorithm\n",
        "\n",
        "**Movie Match** is a groundbreaking recommendation system engineered specifically for movie enthusiasts. Powered by the Close Match algorithm, Movie Match meticulously analyzes user inputs, accommodating even the subtlest variations, to suggest movies that closely align with users' preferences.\n",
        "\n",
        "**Close Match Precision**: Movie Match's Close Match algorithm ensures unparalleled accuracy, making it adept at handling typos, misspellings, or minor deviations in movie titles. Users can expect spot-on movie suggestions, enhancing their cinematic journey.\n",
        "\n",
        "**Tailored Movie Suggestions**: Whether you're into classics, thrillers, or rom-coms, Movie Match tailors its recommendations based on your movie choices. Explore a world of cinematic brilliance with handpicked suggestions that match your unique taste.\n",
        "\n",
        "**Seamless Movie Discovery**: Discovering movies has never been this intuitive. Movie Match simplifies the movie-search experience, offering a curated selection of films akin to your cinematic interests. Dive into a cinematic adventure that resonates with your preferences.\n",
        "\n",
        "Join Movie Match today and embark on a cinematic adventure designed exclusively for your unique taste.\n",
        "\n"
      ],
      "metadata": {
        "id": "3ZdTJrWQ23JC"
      }
    },
    {
      "cell_type": "markdown",
      "source": [
        "# **Objective**\n",
        "\n",
        "The objective of this Movie Recommendation System is to provide users with highly accurate and personalized movie suggestions based on their preferences and inputs. Utilizing the Close Match algorithm, this system aims to offer spot-on recommendations, even accommodating minor deviations in movie titles. By tailoring suggestions to individual tastes and ensuring a seamless user experience, this system strives to enhance user engagement and satisfaction, making movie discovery an enjoyable and effortless process for every user."
      ],
      "metadata": {
        "id": "BbyZnIzg5P6m"
      }
    },
    {
      "cell_type": "markdown",
      "source": [
        "**Data** **Source** - The dataset for this project was obtained from the YBI Foundation Kaggle repository. It includes information about movies, user ratings, and other relevant features necessary for building the recommendation system."
      ],
      "metadata": {
        "id": "8hMLtyiW6PVb"
      }
    },
    {
      "cell_type": "markdown",
      "source": [
        "# **Import Libraries**"
      ],
      "metadata": {
        "id": "lrrTejf17Sso"
      }
    },
    {
      "cell_type": "code",
      "source": [
        "import pandas as pd\n",
        "import numpy as np"
      ],
      "metadata": {
        "id": "X2iMQVMPhmAA"
      },
      "execution_count": 1,
      "outputs": []
    },
    {
      "cell_type": "markdown",
      "source": [
        "# **Import Dataset**"
      ],
      "metadata": {
        "id": "WTYn0slB7nY-"
      }
    },
    {
      "cell_type": "code",
      "source": [
        "df = pd.read_csv(r'https://raw.githubusercontent.com/YBI-Foundation/Dataset/main/Movies%20Recommendation.csv')"
      ],
      "metadata": {
        "id": "faGi8sq3i990"
      },
      "execution_count": 2,
      "outputs": []
    },
    {
      "cell_type": "code",
      "source": [
        "df.head()"
      ],
      "metadata": {
        "colab": {
          "base_uri": "https://localhost:8080/",
          "height": 672
        },
        "id": "OMgLoAiw7tG8",
        "outputId": "fb072721-cd9e-4493-9039-08b354cf0a0d"
      },
      "execution_count": 3,
      "outputs": [
        {
          "output_type": "execute_result",
          "data": {
            "text/plain": [
              "   Movie_ID      Movie_Title                       Movie_Genre Movie_Language  \\\n",
              "0         1       Four Rooms                      Crime Comedy             en   \n",
              "1         2        Star Wars  Adventure Action Science Fiction             en   \n",
              "2         3     Finding Nemo                  Animation Family             en   \n",
              "3         4     Forrest Gump              Comedy Drama Romance             en   \n",
              "4         5  American Beauty                             Drama             en   \n",
              "\n",
              "   Movie_Budget  Movie_Popularity Movie_Release_Date  Movie_Revenue  \\\n",
              "0       4000000         22.876230         09-12-1995        4300000   \n",
              "1      11000000        126.393695         25-05-1977      775398007   \n",
              "2      94000000         85.688789         30-05-2003      940335536   \n",
              "3      55000000        138.133331         06-07-1994      677945399   \n",
              "4      15000000         80.878605         15-09-1999      356296601   \n",
              "\n",
              "   Movie_Runtime  Movie_Vote  ...  \\\n",
              "0           98.0         6.5  ...   \n",
              "1          121.0         8.1  ...   \n",
              "2          100.0         7.6  ...   \n",
              "3          142.0         8.2  ...   \n",
              "4          122.0         7.9  ...   \n",
              "\n",
              "                                      Movie_Homepage  \\\n",
              "0                                                NaN   \n",
              "1  http://www.starwars.com/films/star-wars-episod...   \n",
              "2              http://movies.disney.com/finding-nemo   \n",
              "3                                                NaN   \n",
              "4                      http://www.dreamworks.com/ab/   \n",
              "\n",
              "                                      Movie_Keywords  \\\n",
              "0          hotel new year's eve witch bet hotel room   \n",
              "1        android galaxy hermit death star lightsaber   \n",
              "2  father son relationship harbor underwater fish...   \n",
              "3  vietnam veteran hippie mentally disabled runni...   \n",
              "4  male nudity female nudity adultery midlife cri...   \n",
              "\n",
              "                                      Movie_Overview  \\\n",
              "0  It's Ted the Bellhop's first night on the job....   \n",
              "1  Princess Leia is captured and held hostage by ...   \n",
              "2  Nemo, an adventurous young clownfish, is unexp...   \n",
              "3  A man with a low IQ has accomplished great thi...   \n",
              "4  Lester Burnham, a depressed suburban father in...   \n",
              "\n",
              "                              Movie_Production_House  \\\n",
              "0  [{\"name\": \"Miramax Films\", \"id\": 14}, {\"name\":...   \n",
              "1  [{\"name\": \"Lucasfilm\", \"id\": 1}, {\"name\": \"Twe...   \n",
              "2     [{\"name\": \"Pixar Animation Studios\", \"id\": 3}]   \n",
              "3          [{\"name\": \"Paramount Pictures\", \"id\": 4}]   \n",
              "4  [{\"name\": \"DreamWorks SKG\", \"id\": 27}, {\"name\"...   \n",
              "\n",
              "                            Movie_Production_Country  \\\n",
              "0  [{\"iso_3166_1\": \"US\", \"name\": \"United States o...   \n",
              "1  [{\"iso_3166_1\": \"US\", \"name\": \"United States o...   \n",
              "2  [{\"iso_3166_1\": \"US\", \"name\": \"United States o...   \n",
              "3  [{\"iso_3166_1\": \"US\", \"name\": \"United States o...   \n",
              "4  [{\"iso_3166_1\": \"US\", \"name\": \"United States o...   \n",
              "\n",
              "                      Movie_Spoken_Language  \\\n",
              "0  [{\"iso_639_1\": \"en\", \"name\": \"English\"}]   \n",
              "1  [{\"iso_639_1\": \"en\", \"name\": \"English\"}]   \n",
              "2  [{\"iso_639_1\": \"en\", \"name\": \"English\"}]   \n",
              "3  [{\"iso_639_1\": \"en\", \"name\": \"English\"}]   \n",
              "4  [{\"iso_639_1\": \"en\", \"name\": \"English\"}]   \n",
              "\n",
              "                                       Movie_Tagline  \\\n",
              "0  Twelve outrageous guests. Four scandalous requ...   \n",
              "1       A long time ago in a galaxy far, far away...   \n",
              "2  There are 3.7 trillion fish in the ocean, they...   \n",
              "3  The world will never be the same, once you've ...   \n",
              "4                                       Look closer.   \n",
              "\n",
              "                                          Movie_Cast  \\\n",
              "0  Tim Roth Antonio Banderas Jennifer Beals Madon...   \n",
              "1  Mark Hamill Harrison Ford Carrie Fisher Peter ...   \n",
              "2  Albert Brooks Ellen DeGeneres Alexander Gould ...   \n",
              "3  Tom Hanks Robin Wright Gary Sinise Mykelti Wil...   \n",
              "4  Kevin Spacey Annette Bening Thora Birch Wes Be...   \n",
              "\n",
              "                                          Movie_Crew   Movie_Director  \n",
              "0  [{'name': 'Allison Anders', 'gender': 1, 'depa...   Allison Anders  \n",
              "1  [{'name': 'George Lucas', 'gender': 2, 'depart...     George Lucas  \n",
              "2  [{'name': 'Andrew Stanton', 'gender': 2, 'depa...   Andrew Stanton  \n",
              "3  [{'name': 'Alan Silvestri', 'gender': 2, 'depa...  Robert Zemeckis  \n",
              "4  [{'name': 'Thomas Newman', 'gender': 2, 'depar...       Sam Mendes  \n",
              "\n",
              "[5 rows x 21 columns]"
            ],
            "text/html": [
              "\n",
              "  <div id=\"df-2008df38-bea4-429a-9adc-501218ff7d00\" class=\"colab-df-container\">\n",
              "    <div>\n",
              "<style scoped>\n",
              "    .dataframe tbody tr th:only-of-type {\n",
              "        vertical-align: middle;\n",
              "    }\n",
              "\n",
              "    .dataframe tbody tr th {\n",
              "        vertical-align: top;\n",
              "    }\n",
              "\n",
              "    .dataframe thead th {\n",
              "        text-align: right;\n",
              "    }\n",
              "</style>\n",
              "<table border=\"1\" class=\"dataframe\">\n",
              "  <thead>\n",
              "    <tr style=\"text-align: right;\">\n",
              "      <th></th>\n",
              "      <th>Movie_ID</th>\n",
              "      <th>Movie_Title</th>\n",
              "      <th>Movie_Genre</th>\n",
              "      <th>Movie_Language</th>\n",
              "      <th>Movie_Budget</th>\n",
              "      <th>Movie_Popularity</th>\n",
              "      <th>Movie_Release_Date</th>\n",
              "      <th>Movie_Revenue</th>\n",
              "      <th>Movie_Runtime</th>\n",
              "      <th>Movie_Vote</th>\n",
              "      <th>...</th>\n",
              "      <th>Movie_Homepage</th>\n",
              "      <th>Movie_Keywords</th>\n",
              "      <th>Movie_Overview</th>\n",
              "      <th>Movie_Production_House</th>\n",
              "      <th>Movie_Production_Country</th>\n",
              "      <th>Movie_Spoken_Language</th>\n",
              "      <th>Movie_Tagline</th>\n",
              "      <th>Movie_Cast</th>\n",
              "      <th>Movie_Crew</th>\n",
              "      <th>Movie_Director</th>\n",
              "    </tr>\n",
              "  </thead>\n",
              "  <tbody>\n",
              "    <tr>\n",
              "      <th>0</th>\n",
              "      <td>1</td>\n",
              "      <td>Four Rooms</td>\n",
              "      <td>Crime Comedy</td>\n",
              "      <td>en</td>\n",
              "      <td>4000000</td>\n",
              "      <td>22.876230</td>\n",
              "      <td>09-12-1995</td>\n",
              "      <td>4300000</td>\n",
              "      <td>98.0</td>\n",
              "      <td>6.5</td>\n",
              "      <td>...</td>\n",
              "      <td>NaN</td>\n",
              "      <td>hotel new year's eve witch bet hotel room</td>\n",
              "      <td>It's Ted the Bellhop's first night on the job....</td>\n",
              "      <td>[{\"name\": \"Miramax Films\", \"id\": 14}, {\"name\":...</td>\n",
              "      <td>[{\"iso_3166_1\": \"US\", \"name\": \"United States o...</td>\n",
              "      <td>[{\"iso_639_1\": \"en\", \"name\": \"English\"}]</td>\n",
              "      <td>Twelve outrageous guests. Four scandalous requ...</td>\n",
              "      <td>Tim Roth Antonio Banderas Jennifer Beals Madon...</td>\n",
              "      <td>[{'name': 'Allison Anders', 'gender': 1, 'depa...</td>\n",
              "      <td>Allison Anders</td>\n",
              "    </tr>\n",
              "    <tr>\n",
              "      <th>1</th>\n",
              "      <td>2</td>\n",
              "      <td>Star Wars</td>\n",
              "      <td>Adventure Action Science Fiction</td>\n",
              "      <td>en</td>\n",
              "      <td>11000000</td>\n",
              "      <td>126.393695</td>\n",
              "      <td>25-05-1977</td>\n",
              "      <td>775398007</td>\n",
              "      <td>121.0</td>\n",
              "      <td>8.1</td>\n",
              "      <td>...</td>\n",
              "      <td>http://www.starwars.com/films/star-wars-episod...</td>\n",
              "      <td>android galaxy hermit death star lightsaber</td>\n",
              "      <td>Princess Leia is captured and held hostage by ...</td>\n",
              "      <td>[{\"name\": \"Lucasfilm\", \"id\": 1}, {\"name\": \"Twe...</td>\n",
              "      <td>[{\"iso_3166_1\": \"US\", \"name\": \"United States o...</td>\n",
              "      <td>[{\"iso_639_1\": \"en\", \"name\": \"English\"}]</td>\n",
              "      <td>A long time ago in a galaxy far, far away...</td>\n",
              "      <td>Mark Hamill Harrison Ford Carrie Fisher Peter ...</td>\n",
              "      <td>[{'name': 'George Lucas', 'gender': 2, 'depart...</td>\n",
              "      <td>George Lucas</td>\n",
              "    </tr>\n",
              "    <tr>\n",
              "      <th>2</th>\n",
              "      <td>3</td>\n",
              "      <td>Finding Nemo</td>\n",
              "      <td>Animation Family</td>\n",
              "      <td>en</td>\n",
              "      <td>94000000</td>\n",
              "      <td>85.688789</td>\n",
              "      <td>30-05-2003</td>\n",
              "      <td>940335536</td>\n",
              "      <td>100.0</td>\n",
              "      <td>7.6</td>\n",
              "      <td>...</td>\n",
              "      <td>http://movies.disney.com/finding-nemo</td>\n",
              "      <td>father son relationship harbor underwater fish...</td>\n",
              "      <td>Nemo, an adventurous young clownfish, is unexp...</td>\n",
              "      <td>[{\"name\": \"Pixar Animation Studios\", \"id\": 3}]</td>\n",
              "      <td>[{\"iso_3166_1\": \"US\", \"name\": \"United States o...</td>\n",
              "      <td>[{\"iso_639_1\": \"en\", \"name\": \"English\"}]</td>\n",
              "      <td>There are 3.7 trillion fish in the ocean, they...</td>\n",
              "      <td>Albert Brooks Ellen DeGeneres Alexander Gould ...</td>\n",
              "      <td>[{'name': 'Andrew Stanton', 'gender': 2, 'depa...</td>\n",
              "      <td>Andrew Stanton</td>\n",
              "    </tr>\n",
              "    <tr>\n",
              "      <th>3</th>\n",
              "      <td>4</td>\n",
              "      <td>Forrest Gump</td>\n",
              "      <td>Comedy Drama Romance</td>\n",
              "      <td>en</td>\n",
              "      <td>55000000</td>\n",
              "      <td>138.133331</td>\n",
              "      <td>06-07-1994</td>\n",
              "      <td>677945399</td>\n",
              "      <td>142.0</td>\n",
              "      <td>8.2</td>\n",
              "      <td>...</td>\n",
              "      <td>NaN</td>\n",
              "      <td>vietnam veteran hippie mentally disabled runni...</td>\n",
              "      <td>A man with a low IQ has accomplished great thi...</td>\n",
              "      <td>[{\"name\": \"Paramount Pictures\", \"id\": 4}]</td>\n",
              "      <td>[{\"iso_3166_1\": \"US\", \"name\": \"United States o...</td>\n",
              "      <td>[{\"iso_639_1\": \"en\", \"name\": \"English\"}]</td>\n",
              "      <td>The world will never be the same, once you've ...</td>\n",
              "      <td>Tom Hanks Robin Wright Gary Sinise Mykelti Wil...</td>\n",
              "      <td>[{'name': 'Alan Silvestri', 'gender': 2, 'depa...</td>\n",
              "      <td>Robert Zemeckis</td>\n",
              "    </tr>\n",
              "    <tr>\n",
              "      <th>4</th>\n",
              "      <td>5</td>\n",
              "      <td>American Beauty</td>\n",
              "      <td>Drama</td>\n",
              "      <td>en</td>\n",
              "      <td>15000000</td>\n",
              "      <td>80.878605</td>\n",
              "      <td>15-09-1999</td>\n",
              "      <td>356296601</td>\n",
              "      <td>122.0</td>\n",
              "      <td>7.9</td>\n",
              "      <td>...</td>\n",
              "      <td>http://www.dreamworks.com/ab/</td>\n",
              "      <td>male nudity female nudity adultery midlife cri...</td>\n",
              "      <td>Lester Burnham, a depressed suburban father in...</td>\n",
              "      <td>[{\"name\": \"DreamWorks SKG\", \"id\": 27}, {\"name\"...</td>\n",
              "      <td>[{\"iso_3166_1\": \"US\", \"name\": \"United States o...</td>\n",
              "      <td>[{\"iso_639_1\": \"en\", \"name\": \"English\"}]</td>\n",
              "      <td>Look closer.</td>\n",
              "      <td>Kevin Spacey Annette Bening Thora Birch Wes Be...</td>\n",
              "      <td>[{'name': 'Thomas Newman', 'gender': 2, 'depar...</td>\n",
              "      <td>Sam Mendes</td>\n",
              "    </tr>\n",
              "  </tbody>\n",
              "</table>\n",
              "<p>5 rows × 21 columns</p>\n",
              "</div>\n",
              "    <div class=\"colab-df-buttons\">\n",
              "\n",
              "  <div class=\"colab-df-container\">\n",
              "    <button class=\"colab-df-convert\" onclick=\"convertToInteractive('df-2008df38-bea4-429a-9adc-501218ff7d00')\"\n",
              "            title=\"Convert this dataframe to an interactive table.\"\n",
              "            style=\"display:none;\">\n",
              "\n",
              "  <svg xmlns=\"http://www.w3.org/2000/svg\" height=\"24px\" viewBox=\"0 -960 960 960\">\n",
              "    <path d=\"M120-120v-720h720v720H120Zm60-500h600v-160H180v160Zm220 220h160v-160H400v160Zm0 220h160v-160H400v160ZM180-400h160v-160H180v160Zm440 0h160v-160H620v160ZM180-180h160v-160H180v160Zm440 0h160v-160H620v160Z\"/>\n",
              "  </svg>\n",
              "    </button>\n",
              "\n",
              "  <style>\n",
              "    .colab-df-container {\n",
              "      display:flex;\n",
              "      gap: 12px;\n",
              "    }\n",
              "\n",
              "    .colab-df-convert {\n",
              "      background-color: #E8F0FE;\n",
              "      border: none;\n",
              "      border-radius: 50%;\n",
              "      cursor: pointer;\n",
              "      display: none;\n",
              "      fill: #1967D2;\n",
              "      height: 32px;\n",
              "      padding: 0 0 0 0;\n",
              "      width: 32px;\n",
              "    }\n",
              "\n",
              "    .colab-df-convert:hover {\n",
              "      background-color: #E2EBFA;\n",
              "      box-shadow: 0px 1px 2px rgba(60, 64, 67, 0.3), 0px 1px 3px 1px rgba(60, 64, 67, 0.15);\n",
              "      fill: #174EA6;\n",
              "    }\n",
              "\n",
              "    .colab-df-buttons div {\n",
              "      margin-bottom: 4px;\n",
              "    }\n",
              "\n",
              "    [theme=dark] .colab-df-convert {\n",
              "      background-color: #3B4455;\n",
              "      fill: #D2E3FC;\n",
              "    }\n",
              "\n",
              "    [theme=dark] .colab-df-convert:hover {\n",
              "      background-color: #434B5C;\n",
              "      box-shadow: 0px 1px 3px 1px rgba(0, 0, 0, 0.15);\n",
              "      filter: drop-shadow(0px 1px 2px rgba(0, 0, 0, 0.3));\n",
              "      fill: #FFFFFF;\n",
              "    }\n",
              "  </style>\n",
              "\n",
              "    <script>\n",
              "      const buttonEl =\n",
              "        document.querySelector('#df-2008df38-bea4-429a-9adc-501218ff7d00 button.colab-df-convert');\n",
              "      buttonEl.style.display =\n",
              "        google.colab.kernel.accessAllowed ? 'block' : 'none';\n",
              "\n",
              "      async function convertToInteractive(key) {\n",
              "        const element = document.querySelector('#df-2008df38-bea4-429a-9adc-501218ff7d00');\n",
              "        const dataTable =\n",
              "          await google.colab.kernel.invokeFunction('convertToInteractive',\n",
              "                                                    [key], {});\n",
              "        if (!dataTable) return;\n",
              "\n",
              "        const docLinkHtml = 'Like what you see? Visit the ' +\n",
              "          '<a target=\"_blank\" href=https://colab.research.google.com/notebooks/data_table.ipynb>data table notebook</a>'\n",
              "          + ' to learn more about interactive tables.';\n",
              "        element.innerHTML = '';\n",
              "        dataTable['output_type'] = 'display_data';\n",
              "        await google.colab.output.renderOutput(dataTable, element);\n",
              "        const docLink = document.createElement('div');\n",
              "        docLink.innerHTML = docLinkHtml;\n",
              "        element.appendChild(docLink);\n",
              "      }\n",
              "    </script>\n",
              "  </div>\n",
              "\n",
              "\n",
              "<div id=\"df-8e5dd278-f6f8-4615-a4ae-34ef9b1b3478\">\n",
              "  <button class=\"colab-df-quickchart\" onclick=\"quickchart('df-8e5dd278-f6f8-4615-a4ae-34ef9b1b3478')\"\n",
              "            title=\"Suggest charts\"\n",
              "            style=\"display:none;\">\n",
              "\n",
              "<svg xmlns=\"http://www.w3.org/2000/svg\" height=\"24px\"viewBox=\"0 0 24 24\"\n",
              "     width=\"24px\">\n",
              "    <g>\n",
              "        <path d=\"M19 3H5c-1.1 0-2 .9-2 2v14c0 1.1.9 2 2 2h14c1.1 0 2-.9 2-2V5c0-1.1-.9-2-2-2zM9 17H7v-7h2v7zm4 0h-2V7h2v10zm4 0h-2v-4h2v4z\"/>\n",
              "    </g>\n",
              "</svg>\n",
              "  </button>\n",
              "\n",
              "<style>\n",
              "  .colab-df-quickchart {\n",
              "      --bg-color: #E8F0FE;\n",
              "      --fill-color: #1967D2;\n",
              "      --hover-bg-color: #E2EBFA;\n",
              "      --hover-fill-color: #174EA6;\n",
              "      --disabled-fill-color: #AAA;\n",
              "      --disabled-bg-color: #DDD;\n",
              "  }\n",
              "\n",
              "  [theme=dark] .colab-df-quickchart {\n",
              "      --bg-color: #3B4455;\n",
              "      --fill-color: #D2E3FC;\n",
              "      --hover-bg-color: #434B5C;\n",
              "      --hover-fill-color: #FFFFFF;\n",
              "      --disabled-bg-color: #3B4455;\n",
              "      --disabled-fill-color: #666;\n",
              "  }\n",
              "\n",
              "  .colab-df-quickchart {\n",
              "    background-color: var(--bg-color);\n",
              "    border: none;\n",
              "    border-radius: 50%;\n",
              "    cursor: pointer;\n",
              "    display: none;\n",
              "    fill: var(--fill-color);\n",
              "    height: 32px;\n",
              "    padding: 0;\n",
              "    width: 32px;\n",
              "  }\n",
              "\n",
              "  .colab-df-quickchart:hover {\n",
              "    background-color: var(--hover-bg-color);\n",
              "    box-shadow: 0 1px 2px rgba(60, 64, 67, 0.3), 0 1px 3px 1px rgba(60, 64, 67, 0.15);\n",
              "    fill: var(--button-hover-fill-color);\n",
              "  }\n",
              "\n",
              "  .colab-df-quickchart-complete:disabled,\n",
              "  .colab-df-quickchart-complete:disabled:hover {\n",
              "    background-color: var(--disabled-bg-color);\n",
              "    fill: var(--disabled-fill-color);\n",
              "    box-shadow: none;\n",
              "  }\n",
              "\n",
              "  .colab-df-spinner {\n",
              "    border: 2px solid var(--fill-color);\n",
              "    border-color: transparent;\n",
              "    border-bottom-color: var(--fill-color);\n",
              "    animation:\n",
              "      spin 1s steps(1) infinite;\n",
              "  }\n",
              "\n",
              "  @keyframes spin {\n",
              "    0% {\n",
              "      border-color: transparent;\n",
              "      border-bottom-color: var(--fill-color);\n",
              "      border-left-color: var(--fill-color);\n",
              "    }\n",
              "    20% {\n",
              "      border-color: transparent;\n",
              "      border-left-color: var(--fill-color);\n",
              "      border-top-color: var(--fill-color);\n",
              "    }\n",
              "    30% {\n",
              "      border-color: transparent;\n",
              "      border-left-color: var(--fill-color);\n",
              "      border-top-color: var(--fill-color);\n",
              "      border-right-color: var(--fill-color);\n",
              "    }\n",
              "    40% {\n",
              "      border-color: transparent;\n",
              "      border-right-color: var(--fill-color);\n",
              "      border-top-color: var(--fill-color);\n",
              "    }\n",
              "    60% {\n",
              "      border-color: transparent;\n",
              "      border-right-color: var(--fill-color);\n",
              "    }\n",
              "    80% {\n",
              "      border-color: transparent;\n",
              "      border-right-color: var(--fill-color);\n",
              "      border-bottom-color: var(--fill-color);\n",
              "    }\n",
              "    90% {\n",
              "      border-color: transparent;\n",
              "      border-bottom-color: var(--fill-color);\n",
              "    }\n",
              "  }\n",
              "</style>\n",
              "\n",
              "  <script>\n",
              "    async function quickchart(key) {\n",
              "      const quickchartButtonEl =\n",
              "        document.querySelector('#' + key + ' button');\n",
              "      quickchartButtonEl.disabled = true;  // To prevent multiple clicks.\n",
              "      quickchartButtonEl.classList.add('colab-df-spinner');\n",
              "      try {\n",
              "        const charts = await google.colab.kernel.invokeFunction(\n",
              "            'suggestCharts', [key], {});\n",
              "      } catch (error) {\n",
              "        console.error('Error during call to suggestCharts:', error);\n",
              "      }\n",
              "      quickchartButtonEl.classList.remove('colab-df-spinner');\n",
              "      quickchartButtonEl.classList.add('colab-df-quickchart-complete');\n",
              "    }\n",
              "    (() => {\n",
              "      let quickchartButtonEl =\n",
              "        document.querySelector('#df-8e5dd278-f6f8-4615-a4ae-34ef9b1b3478 button');\n",
              "      quickchartButtonEl.style.display =\n",
              "        google.colab.kernel.accessAllowed ? 'block' : 'none';\n",
              "    })();\n",
              "  </script>\n",
              "</div>\n",
              "\n",
              "    </div>\n",
              "  </div>\n"
            ],
            "application/vnd.google.colaboratory.intrinsic+json": {
              "type": "dataframe",
              "variable_name": "df"
            }
          },
          "metadata": {},
          "execution_count": 3
        }
      ]
    },
    {
      "cell_type": "code",
      "source": [
        "df.info()"
      ],
      "metadata": {
        "colab": {
          "base_uri": "https://localhost:8080/"
        },
        "id": "6kaMuKi870HW",
        "outputId": "f8b8b015-0927-4dc3-ef38-cda953c05352"
      },
      "execution_count": 4,
      "outputs": [
        {
          "output_type": "stream",
          "name": "stdout",
          "text": [
            "<class 'pandas.core.frame.DataFrame'>\n",
            "RangeIndex: 4760 entries, 0 to 4759\n",
            "Data columns (total 21 columns):\n",
            " #   Column                    Non-Null Count  Dtype  \n",
            "---  ------                    --------------  -----  \n",
            " 0   Movie_ID                  4760 non-null   int64  \n",
            " 1   Movie_Title               4760 non-null   object \n",
            " 2   Movie_Genre               4760 non-null   object \n",
            " 3   Movie_Language            4760 non-null   object \n",
            " 4   Movie_Budget              4760 non-null   int64  \n",
            " 5   Movie_Popularity          4760 non-null   float64\n",
            " 6   Movie_Release_Date        4760 non-null   object \n",
            " 7   Movie_Revenue             4760 non-null   int64  \n",
            " 8   Movie_Runtime             4758 non-null   float64\n",
            " 9   Movie_Vote                4760 non-null   float64\n",
            " 10  Movie_Vote_Count          4760 non-null   int64  \n",
            " 11  Movie_Homepage            1699 non-null   object \n",
            " 12  Movie_Keywords            4373 non-null   object \n",
            " 13  Movie_Overview            4757 non-null   object \n",
            " 14  Movie_Production_House    4760 non-null   object \n",
            " 15  Movie_Production_Country  4760 non-null   object \n",
            " 16  Movie_Spoken_Language     4760 non-null   object \n",
            " 17  Movie_Tagline             3942 non-null   object \n",
            " 18  Movie_Cast                4733 non-null   object \n",
            " 19  Movie_Crew                4760 non-null   object \n",
            " 20  Movie_Director            4738 non-null   object \n",
            "dtypes: float64(3), int64(4), object(14)\n",
            "memory usage: 781.1+ KB\n"
          ]
        }
      ]
    },
    {
      "cell_type": "code",
      "source": [
        "df.shape"
      ],
      "metadata": {
        "colab": {
          "base_uri": "https://localhost:8080/"
        },
        "id": "CSrojM8U74QK",
        "outputId": "dc20f00b-1d46-4181-b76e-a9041b89b12a"
      },
      "execution_count": 5,
      "outputs": [
        {
          "output_type": "execute_result",
          "data": {
            "text/plain": [
              "(4760, 21)"
            ]
          },
          "metadata": {},
          "execution_count": 5
        }
      ]
    },
    {
      "cell_type": "code",
      "source": [
        "df.columns"
      ],
      "metadata": {
        "colab": {
          "base_uri": "https://localhost:8080/"
        },
        "id": "eeDm-5Vr761m",
        "outputId": "64319bae-e401-48ff-cd64-d05d25f89de2"
      },
      "execution_count": null,
      "outputs": [
        {
          "output_type": "execute_result",
          "data": {
            "text/plain": [
              "Index(['Movie_ID', 'Movie_Title', 'Movie_Genre', 'Movie_Language',\n",
              "       'Movie_Budget', 'Movie_Popularity', 'Movie_Release_Date',\n",
              "       'Movie_Revenue', 'Movie_Runtime', 'Movie_Vote', 'Movie_Vote_Count',\n",
              "       'Movie_Homepage', 'Movie_Keywords', 'Movie_Overview',\n",
              "       'Movie_Production_House', 'Movie_Production_Country',\n",
              "       'Movie_Spoken_Language', 'Movie_Tagline', 'Movie_Cast', 'Movie_Crew',\n",
              "       'Movie_Director'],\n",
              "      dtype='object')"
            ]
          },
          "metadata": {},
          "execution_count": 6
        }
      ]
    },
    {
      "cell_type": "markdown",
      "source": [
        "# **Get Feature Selection**\n",
        "\n"
      ],
      "metadata": {
        "id": "_yVpd4kAkS-6"
      }
    },
    {
      "cell_type": "code",
      "source": [
        "df_features = df[[ 'Movie_Genre', 'Movie_Keywords', 'Movie_Tagline', 'Movie_Cast', 'Movie_Director']].fillna('')"
      ],
      "metadata": {
        "id": "Wcb1Zj72keAQ"
      },
      "execution_count": 6,
      "outputs": []
    },
    {
      "cell_type": "code",
      "source": [
        "df_features.shape"
      ],
      "metadata": {
        "colab": {
          "base_uri": "https://localhost:8080/"
        },
        "id": "vfYbeers8FuI",
        "outputId": "ebf68585-f452-4c21-d743-853a0950eb42"
      },
      "execution_count": 7,
      "outputs": [
        {
          "output_type": "execute_result",
          "data": {
            "text/plain": [
              "(4760, 5)"
            ]
          },
          "metadata": {},
          "execution_count": 7
        }
      ]
    },
    {
      "cell_type": "code",
      "source": [
        "df_features"
      ],
      "metadata": {
        "colab": {
          "base_uri": "https://localhost:8080/",
          "height": 493
        },
        "id": "lb9jHzZw8LC3",
        "outputId": "d3fb5e0d-5e5e-4a6d-eea2-a1f005306991"
      },
      "execution_count": 8,
      "outputs": [
        {
          "output_type": "execute_result",
          "data": {
            "text/plain": [
              "                           Movie_Genre  \\\n",
              "0                         Crime Comedy   \n",
              "1     Adventure Action Science Fiction   \n",
              "2                     Animation Family   \n",
              "3                 Comedy Drama Romance   \n",
              "4                                Drama   \n",
              "...                                ...   \n",
              "4755                            Horror   \n",
              "4756               Comedy Family Drama   \n",
              "4757                    Thriller Drama   \n",
              "4758                            Family   \n",
              "4759                       Documentary   \n",
              "\n",
              "                                         Movie_Keywords  \\\n",
              "0             hotel new year's eve witch bet hotel room   \n",
              "1           android galaxy hermit death star lightsaber   \n",
              "2     father son relationship harbor underwater fish...   \n",
              "3     vietnam veteran hippie mentally disabled runni...   \n",
              "4     male nudity female nudity adultery midlife cri...   \n",
              "...                                                 ...   \n",
              "4755                                                      \n",
              "4756                                                      \n",
              "4757                     christian film sex trafficking   \n",
              "4758                                                      \n",
              "4759  music actors legendary perfomer classic hollyw...   \n",
              "\n",
              "                                          Movie_Tagline  \\\n",
              "0     Twelve outrageous guests. Four scandalous requ...   \n",
              "1          A long time ago in a galaxy far, far away...   \n",
              "2     There are 3.7 trillion fish in the ocean, they...   \n",
              "3     The world will never be the same, once you've ...   \n",
              "4                                          Look closer.   \n",
              "...                                                 ...   \n",
              "4755                The hot spot where Satan's waitin'.   \n",
              "4756           It’s better to stand out than to fit in.   \n",
              "4757           She never knew it could happen to her...   \n",
              "4758                                                      \n",
              "4759                                                      \n",
              "\n",
              "                                             Movie_Cast     Movie_Director  \n",
              "0     Tim Roth Antonio Banderas Jennifer Beals Madon...     Allison Anders  \n",
              "1     Mark Hamill Harrison Ford Carrie Fisher Peter ...       George Lucas  \n",
              "2     Albert Brooks Ellen DeGeneres Alexander Gould ...     Andrew Stanton  \n",
              "3     Tom Hanks Robin Wright Gary Sinise Mykelti Wil...    Robert Zemeckis  \n",
              "4     Kevin Spacey Annette Bening Thora Birch Wes Be...         Sam Mendes  \n",
              "...                                                 ...                ...  \n",
              "4755  Lisa Hart Carroll Michael Des Barres Paul Drak...         Pece Dingo  \n",
              "4756  Roni Akurati Brighton Sharbino Jason Lee Anjul...       Frank Lotito  \n",
              "4757  Nicole Smolen Kim Baldwin Ariana Stephens Brys...       Jaco Booyens  \n",
              "4758                                                                        \n",
              "4759                                    Tony Oppedisano  Simon Napier-Bell  \n",
              "\n",
              "[4760 rows x 5 columns]"
            ],
            "text/html": [
              "\n",
              "  <div id=\"df-4b1b67cd-c61e-4a54-98d2-7cde6a79684d\" class=\"colab-df-container\">\n",
              "    <div>\n",
              "<style scoped>\n",
              "    .dataframe tbody tr th:only-of-type {\n",
              "        vertical-align: middle;\n",
              "    }\n",
              "\n",
              "    .dataframe tbody tr th {\n",
              "        vertical-align: top;\n",
              "    }\n",
              "\n",
              "    .dataframe thead th {\n",
              "        text-align: right;\n",
              "    }\n",
              "</style>\n",
              "<table border=\"1\" class=\"dataframe\">\n",
              "  <thead>\n",
              "    <tr style=\"text-align: right;\">\n",
              "      <th></th>\n",
              "      <th>Movie_Genre</th>\n",
              "      <th>Movie_Keywords</th>\n",
              "      <th>Movie_Tagline</th>\n",
              "      <th>Movie_Cast</th>\n",
              "      <th>Movie_Director</th>\n",
              "    </tr>\n",
              "  </thead>\n",
              "  <tbody>\n",
              "    <tr>\n",
              "      <th>0</th>\n",
              "      <td>Crime Comedy</td>\n",
              "      <td>hotel new year's eve witch bet hotel room</td>\n",
              "      <td>Twelve outrageous guests. Four scandalous requ...</td>\n",
              "      <td>Tim Roth Antonio Banderas Jennifer Beals Madon...</td>\n",
              "      <td>Allison Anders</td>\n",
              "    </tr>\n",
              "    <tr>\n",
              "      <th>1</th>\n",
              "      <td>Adventure Action Science Fiction</td>\n",
              "      <td>android galaxy hermit death star lightsaber</td>\n",
              "      <td>A long time ago in a galaxy far, far away...</td>\n",
              "      <td>Mark Hamill Harrison Ford Carrie Fisher Peter ...</td>\n",
              "      <td>George Lucas</td>\n",
              "    </tr>\n",
              "    <tr>\n",
              "      <th>2</th>\n",
              "      <td>Animation Family</td>\n",
              "      <td>father son relationship harbor underwater fish...</td>\n",
              "      <td>There are 3.7 trillion fish in the ocean, they...</td>\n",
              "      <td>Albert Brooks Ellen DeGeneres Alexander Gould ...</td>\n",
              "      <td>Andrew Stanton</td>\n",
              "    </tr>\n",
              "    <tr>\n",
              "      <th>3</th>\n",
              "      <td>Comedy Drama Romance</td>\n",
              "      <td>vietnam veteran hippie mentally disabled runni...</td>\n",
              "      <td>The world will never be the same, once you've ...</td>\n",
              "      <td>Tom Hanks Robin Wright Gary Sinise Mykelti Wil...</td>\n",
              "      <td>Robert Zemeckis</td>\n",
              "    </tr>\n",
              "    <tr>\n",
              "      <th>4</th>\n",
              "      <td>Drama</td>\n",
              "      <td>male nudity female nudity adultery midlife cri...</td>\n",
              "      <td>Look closer.</td>\n",
              "      <td>Kevin Spacey Annette Bening Thora Birch Wes Be...</td>\n",
              "      <td>Sam Mendes</td>\n",
              "    </tr>\n",
              "    <tr>\n",
              "      <th>...</th>\n",
              "      <td>...</td>\n",
              "      <td>...</td>\n",
              "      <td>...</td>\n",
              "      <td>...</td>\n",
              "      <td>...</td>\n",
              "    </tr>\n",
              "    <tr>\n",
              "      <th>4755</th>\n",
              "      <td>Horror</td>\n",
              "      <td></td>\n",
              "      <td>The hot spot where Satan's waitin'.</td>\n",
              "      <td>Lisa Hart Carroll Michael Des Barres Paul Drak...</td>\n",
              "      <td>Pece Dingo</td>\n",
              "    </tr>\n",
              "    <tr>\n",
              "      <th>4756</th>\n",
              "      <td>Comedy Family Drama</td>\n",
              "      <td></td>\n",
              "      <td>It’s better to stand out than to fit in.</td>\n",
              "      <td>Roni Akurati Brighton Sharbino Jason Lee Anjul...</td>\n",
              "      <td>Frank Lotito</td>\n",
              "    </tr>\n",
              "    <tr>\n",
              "      <th>4757</th>\n",
              "      <td>Thriller Drama</td>\n",
              "      <td>christian film sex trafficking</td>\n",
              "      <td>She never knew it could happen to her...</td>\n",
              "      <td>Nicole Smolen Kim Baldwin Ariana Stephens Brys...</td>\n",
              "      <td>Jaco Booyens</td>\n",
              "    </tr>\n",
              "    <tr>\n",
              "      <th>4758</th>\n",
              "      <td>Family</td>\n",
              "      <td></td>\n",
              "      <td></td>\n",
              "      <td></td>\n",
              "      <td></td>\n",
              "    </tr>\n",
              "    <tr>\n",
              "      <th>4759</th>\n",
              "      <td>Documentary</td>\n",
              "      <td>music actors legendary perfomer classic hollyw...</td>\n",
              "      <td></td>\n",
              "      <td>Tony Oppedisano</td>\n",
              "      <td>Simon Napier-Bell</td>\n",
              "    </tr>\n",
              "  </tbody>\n",
              "</table>\n",
              "<p>4760 rows × 5 columns</p>\n",
              "</div>\n",
              "    <div class=\"colab-df-buttons\">\n",
              "\n",
              "  <div class=\"colab-df-container\">\n",
              "    <button class=\"colab-df-convert\" onclick=\"convertToInteractive('df-4b1b67cd-c61e-4a54-98d2-7cde6a79684d')\"\n",
              "            title=\"Convert this dataframe to an interactive table.\"\n",
              "            style=\"display:none;\">\n",
              "\n",
              "  <svg xmlns=\"http://www.w3.org/2000/svg\" height=\"24px\" viewBox=\"0 -960 960 960\">\n",
              "    <path d=\"M120-120v-720h720v720H120Zm60-500h600v-160H180v160Zm220 220h160v-160H400v160Zm0 220h160v-160H400v160ZM180-400h160v-160H180v160Zm440 0h160v-160H620v160ZM180-180h160v-160H180v160Zm440 0h160v-160H620v160Z\"/>\n",
              "  </svg>\n",
              "    </button>\n",
              "\n",
              "  <style>\n",
              "    .colab-df-container {\n",
              "      display:flex;\n",
              "      gap: 12px;\n",
              "    }\n",
              "\n",
              "    .colab-df-convert {\n",
              "      background-color: #E8F0FE;\n",
              "      border: none;\n",
              "      border-radius: 50%;\n",
              "      cursor: pointer;\n",
              "      display: none;\n",
              "      fill: #1967D2;\n",
              "      height: 32px;\n",
              "      padding: 0 0 0 0;\n",
              "      width: 32px;\n",
              "    }\n",
              "\n",
              "    .colab-df-convert:hover {\n",
              "      background-color: #E2EBFA;\n",
              "      box-shadow: 0px 1px 2px rgba(60, 64, 67, 0.3), 0px 1px 3px 1px rgba(60, 64, 67, 0.15);\n",
              "      fill: #174EA6;\n",
              "    }\n",
              "\n",
              "    .colab-df-buttons div {\n",
              "      margin-bottom: 4px;\n",
              "    }\n",
              "\n",
              "    [theme=dark] .colab-df-convert {\n",
              "      background-color: #3B4455;\n",
              "      fill: #D2E3FC;\n",
              "    }\n",
              "\n",
              "    [theme=dark] .colab-df-convert:hover {\n",
              "      background-color: #434B5C;\n",
              "      box-shadow: 0px 1px 3px 1px rgba(0, 0, 0, 0.15);\n",
              "      filter: drop-shadow(0px 1px 2px rgba(0, 0, 0, 0.3));\n",
              "      fill: #FFFFFF;\n",
              "    }\n",
              "  </style>\n",
              "\n",
              "    <script>\n",
              "      const buttonEl =\n",
              "        document.querySelector('#df-4b1b67cd-c61e-4a54-98d2-7cde6a79684d button.colab-df-convert');\n",
              "      buttonEl.style.display =\n",
              "        google.colab.kernel.accessAllowed ? 'block' : 'none';\n",
              "\n",
              "      async function convertToInteractive(key) {\n",
              "        const element = document.querySelector('#df-4b1b67cd-c61e-4a54-98d2-7cde6a79684d');\n",
              "        const dataTable =\n",
              "          await google.colab.kernel.invokeFunction('convertToInteractive',\n",
              "                                                    [key], {});\n",
              "        if (!dataTable) return;\n",
              "\n",
              "        const docLinkHtml = 'Like what you see? Visit the ' +\n",
              "          '<a target=\"_blank\" href=https://colab.research.google.com/notebooks/data_table.ipynb>data table notebook</a>'\n",
              "          + ' to learn more about interactive tables.';\n",
              "        element.innerHTML = '';\n",
              "        dataTable['output_type'] = 'display_data';\n",
              "        await google.colab.output.renderOutput(dataTable, element);\n",
              "        const docLink = document.createElement('div');\n",
              "        docLink.innerHTML = docLinkHtml;\n",
              "        element.appendChild(docLink);\n",
              "      }\n",
              "    </script>\n",
              "  </div>\n",
              "\n",
              "\n",
              "<div id=\"df-2810597f-a3bb-4d4a-9c05-af165a425a78\">\n",
              "  <button class=\"colab-df-quickchart\" onclick=\"quickchart('df-2810597f-a3bb-4d4a-9c05-af165a425a78')\"\n",
              "            title=\"Suggest charts\"\n",
              "            style=\"display:none;\">\n",
              "\n",
              "<svg xmlns=\"http://www.w3.org/2000/svg\" height=\"24px\"viewBox=\"0 0 24 24\"\n",
              "     width=\"24px\">\n",
              "    <g>\n",
              "        <path d=\"M19 3H5c-1.1 0-2 .9-2 2v14c0 1.1.9 2 2 2h14c1.1 0 2-.9 2-2V5c0-1.1-.9-2-2-2zM9 17H7v-7h2v7zm4 0h-2V7h2v10zm4 0h-2v-4h2v4z\"/>\n",
              "    </g>\n",
              "</svg>\n",
              "  </button>\n",
              "\n",
              "<style>\n",
              "  .colab-df-quickchart {\n",
              "      --bg-color: #E8F0FE;\n",
              "      --fill-color: #1967D2;\n",
              "      --hover-bg-color: #E2EBFA;\n",
              "      --hover-fill-color: #174EA6;\n",
              "      --disabled-fill-color: #AAA;\n",
              "      --disabled-bg-color: #DDD;\n",
              "  }\n",
              "\n",
              "  [theme=dark] .colab-df-quickchart {\n",
              "      --bg-color: #3B4455;\n",
              "      --fill-color: #D2E3FC;\n",
              "      --hover-bg-color: #434B5C;\n",
              "      --hover-fill-color: #FFFFFF;\n",
              "      --disabled-bg-color: #3B4455;\n",
              "      --disabled-fill-color: #666;\n",
              "  }\n",
              "\n",
              "  .colab-df-quickchart {\n",
              "    background-color: var(--bg-color);\n",
              "    border: none;\n",
              "    border-radius: 50%;\n",
              "    cursor: pointer;\n",
              "    display: none;\n",
              "    fill: var(--fill-color);\n",
              "    height: 32px;\n",
              "    padding: 0;\n",
              "    width: 32px;\n",
              "  }\n",
              "\n",
              "  .colab-df-quickchart:hover {\n",
              "    background-color: var(--hover-bg-color);\n",
              "    box-shadow: 0 1px 2px rgba(60, 64, 67, 0.3), 0 1px 3px 1px rgba(60, 64, 67, 0.15);\n",
              "    fill: var(--button-hover-fill-color);\n",
              "  }\n",
              "\n",
              "  .colab-df-quickchart-complete:disabled,\n",
              "  .colab-df-quickchart-complete:disabled:hover {\n",
              "    background-color: var(--disabled-bg-color);\n",
              "    fill: var(--disabled-fill-color);\n",
              "    box-shadow: none;\n",
              "  }\n",
              "\n",
              "  .colab-df-spinner {\n",
              "    border: 2px solid var(--fill-color);\n",
              "    border-color: transparent;\n",
              "    border-bottom-color: var(--fill-color);\n",
              "    animation:\n",
              "      spin 1s steps(1) infinite;\n",
              "  }\n",
              "\n",
              "  @keyframes spin {\n",
              "    0% {\n",
              "      border-color: transparent;\n",
              "      border-bottom-color: var(--fill-color);\n",
              "      border-left-color: var(--fill-color);\n",
              "    }\n",
              "    20% {\n",
              "      border-color: transparent;\n",
              "      border-left-color: var(--fill-color);\n",
              "      border-top-color: var(--fill-color);\n",
              "    }\n",
              "    30% {\n",
              "      border-color: transparent;\n",
              "      border-left-color: var(--fill-color);\n",
              "      border-top-color: var(--fill-color);\n",
              "      border-right-color: var(--fill-color);\n",
              "    }\n",
              "    40% {\n",
              "      border-color: transparent;\n",
              "      border-right-color: var(--fill-color);\n",
              "      border-top-color: var(--fill-color);\n",
              "    }\n",
              "    60% {\n",
              "      border-color: transparent;\n",
              "      border-right-color: var(--fill-color);\n",
              "    }\n",
              "    80% {\n",
              "      border-color: transparent;\n",
              "      border-right-color: var(--fill-color);\n",
              "      border-bottom-color: var(--fill-color);\n",
              "    }\n",
              "    90% {\n",
              "      border-color: transparent;\n",
              "      border-bottom-color: var(--fill-color);\n",
              "    }\n",
              "  }\n",
              "</style>\n",
              "\n",
              "  <script>\n",
              "    async function quickchart(key) {\n",
              "      const quickchartButtonEl =\n",
              "        document.querySelector('#' + key + ' button');\n",
              "      quickchartButtonEl.disabled = true;  // To prevent multiple clicks.\n",
              "      quickchartButtonEl.classList.add('colab-df-spinner');\n",
              "      try {\n",
              "        const charts = await google.colab.kernel.invokeFunction(\n",
              "            'suggestCharts', [key], {});\n",
              "      } catch (error) {\n",
              "        console.error('Error during call to suggestCharts:', error);\n",
              "      }\n",
              "      quickchartButtonEl.classList.remove('colab-df-spinner');\n",
              "      quickchartButtonEl.classList.add('colab-df-quickchart-complete');\n",
              "    }\n",
              "    (() => {\n",
              "      let quickchartButtonEl =\n",
              "        document.querySelector('#df-2810597f-a3bb-4d4a-9c05-af165a425a78 button');\n",
              "      quickchartButtonEl.style.display =\n",
              "        google.colab.kernel.accessAllowed ? 'block' : 'none';\n",
              "    })();\n",
              "  </script>\n",
              "</div>\n",
              "\n",
              "  <div id=\"id_9b80021d-6b58-4e14-a099-966503ba70b2\">\n",
              "    <style>\n",
              "      .colab-df-generate {\n",
              "        background-color: #E8F0FE;\n",
              "        border: none;\n",
              "        border-radius: 50%;\n",
              "        cursor: pointer;\n",
              "        display: none;\n",
              "        fill: #1967D2;\n",
              "        height: 32px;\n",
              "        padding: 0 0 0 0;\n",
              "        width: 32px;\n",
              "      }\n",
              "\n",
              "      .colab-df-generate:hover {\n",
              "        background-color: #E2EBFA;\n",
              "        box-shadow: 0px 1px 2px rgba(60, 64, 67, 0.3), 0px 1px 3px 1px rgba(60, 64, 67, 0.15);\n",
              "        fill: #174EA6;\n",
              "      }\n",
              "\n",
              "      [theme=dark] .colab-df-generate {\n",
              "        background-color: #3B4455;\n",
              "        fill: #D2E3FC;\n",
              "      }\n",
              "\n",
              "      [theme=dark] .colab-df-generate:hover {\n",
              "        background-color: #434B5C;\n",
              "        box-shadow: 0px 1px 3px 1px rgba(0, 0, 0, 0.15);\n",
              "        filter: drop-shadow(0px 1px 2px rgba(0, 0, 0, 0.3));\n",
              "        fill: #FFFFFF;\n",
              "      }\n",
              "    </style>\n",
              "    <button class=\"colab-df-generate\" onclick=\"generateWithVariable('df_features')\"\n",
              "            title=\"Generate code using this dataframe.\"\n",
              "            style=\"display:none;\">\n",
              "\n",
              "  <svg xmlns=\"http://www.w3.org/2000/svg\" height=\"24px\"viewBox=\"0 0 24 24\"\n",
              "       width=\"24px\">\n",
              "    <path d=\"M7,19H8.4L18.45,9,17,7.55,7,17.6ZM5,21V16.75L18.45,3.32a2,2,0,0,1,2.83,0l1.4,1.43a1.91,1.91,0,0,1,.58,1.4,1.91,1.91,0,0,1-.58,1.4L9.25,21ZM18.45,9,17,7.55Zm-12,3A5.31,5.31,0,0,0,4.9,8.1,5.31,5.31,0,0,0,1,6.5,5.31,5.31,0,0,0,4.9,4.9,5.31,5.31,0,0,0,6.5,1,5.31,5.31,0,0,0,8.1,4.9,5.31,5.31,0,0,0,12,6.5,5.46,5.46,0,0,0,6.5,12Z\"/>\n",
              "  </svg>\n",
              "    </button>\n",
              "    <script>\n",
              "      (() => {\n",
              "      const buttonEl =\n",
              "        document.querySelector('#id_9b80021d-6b58-4e14-a099-966503ba70b2 button.colab-df-generate');\n",
              "      buttonEl.style.display =\n",
              "        google.colab.kernel.accessAllowed ? 'block' : 'none';\n",
              "\n",
              "      buttonEl.onclick = () => {\n",
              "        google.colab.notebook.generateWithVariable('df_features');\n",
              "      }\n",
              "      })();\n",
              "    </script>\n",
              "  </div>\n",
              "\n",
              "    </div>\n",
              "  </div>\n"
            ],
            "application/vnd.google.colaboratory.intrinsic+json": {
              "type": "dataframe",
              "variable_name": "df_features",
              "summary": "{\n  \"name\": \"df_features\",\n  \"rows\": 4760,\n  \"fields\": [\n    {\n      \"column\": \"Movie_Genre\",\n      \"properties\": {\n        \"dtype\": \"category\",\n        \"num_unique_values\": 1164,\n        \"samples\": [\n          \"Family Animation Adventure\",\n          \"Adventure Science Fiction Action\",\n          \"Action Crime Drama Romance Thriller\"\n        ],\n        \"semantic_type\": \"\",\n        \"description\": \"\"\n      }\n    },\n    {\n      \"column\": \"Movie_Keywords\",\n      \"properties\": {\n        \"dtype\": \"string\",\n        \"num_unique_values\": 4203,\n        \"samples\": [\n          \"canada nazis sequel spin off ancient evil\",\n          \"sex professor wedding woman director columbia university\",\n          \"prophecy sea beach gold small town\"\n        ],\n        \"semantic_type\": \"\",\n        \"description\": \"\"\n      }\n    },\n    {\n      \"column\": \"Movie_Tagline\",\n      \"properties\": {\n        \"dtype\": \"string\",\n        \"num_unique_values\": 3928,\n        \"samples\": [\n          \"The messenger must be silenced.\",\n          \"It's not the house that's haunted.\",\n          \"The final hunt begins.\"\n        ],\n        \"semantic_type\": \"\",\n        \"description\": \"\"\n      }\n    },\n    {\n      \"column\": \"Movie_Cast\",\n      \"properties\": {\n        \"dtype\": \"string\",\n        \"num_unique_values\": 4715,\n        \"samples\": [\n          \"Robin Tunney Fairuza Balk Neve Campbell Rachel True Skeet Ulrich\",\n          \"Peter Sellers Christopher Plummer Herbert Lom Catherine Schell Peter Arne\",\n          \"John Wayne Laraine Day Cedric Hardwicke Judith Anderson Anthony Quinn\"\n        ],\n        \"semantic_type\": \"\",\n        \"description\": \"\"\n      }\n    },\n    {\n      \"column\": \"Movie_Director\",\n      \"properties\": {\n        \"dtype\": \"category\",\n        \"num_unique_values\": 2332,\n        \"samples\": [\n          \"Rob McKittrick\",\n          \"Terron R. Parsons\",\n          \"Cyrus Nowrasteh\"\n        ],\n        \"semantic_type\": \"\",\n        \"description\": \"\"\n      }\n    }\n  ]\n}"
            }
          },
          "metadata": {},
          "execution_count": 8
        }
      ]
    },
    {
      "cell_type": "code",
      "source": [
        "x = df_features['Movie_Genre'] + '' + df_features['Movie_Keywords'] + '' + df_features['Movie_Tagline'] +''+ df_features['Movie_Cast']+ ''+ df_features['Movie_Director']"
      ],
      "metadata": {
        "id": "_ytxKvp08OFN"
      },
      "execution_count": 9,
      "outputs": []
    },
    {
      "cell_type": "code",
      "source": [
        "x"
      ],
      "metadata": {
        "colab": {
          "base_uri": "https://localhost:8080/",
          "height": 458
        },
        "id": "98Dglwm_nY7S",
        "outputId": "eaee4918-1410-45e2-b17e-30c4c627405e"
      },
      "execution_count": 10,
      "outputs": [
        {
          "output_type": "execute_result",
          "data": {
            "text/plain": [
              "0       Crime Comedyhotel new year's eve witch bet hot...\n",
              "1       Adventure Action Science Fictionandroid galaxy...\n",
              "2       Animation Familyfather son relationship harbor...\n",
              "3       Comedy Drama Romancevietnam veteran hippie men...\n",
              "4       Dramamale nudity female nudity adultery midlif...\n",
              "                              ...                        \n",
              "4755    HorrorThe hot spot where Satan's waitin'.Lisa ...\n",
              "4756    Comedy Family DramaIt’s better to stand out th...\n",
              "4757    Thriller Dramachristian film sex traffickingSh...\n",
              "4758                                               Family\n",
              "4759    Documentarymusic actors legendary perfomer cla...\n",
              "Length: 4760, dtype: object"
            ],
            "text/html": [
              "<div>\n",
              "<style scoped>\n",
              "    .dataframe tbody tr th:only-of-type {\n",
              "        vertical-align: middle;\n",
              "    }\n",
              "\n",
              "    .dataframe tbody tr th {\n",
              "        vertical-align: top;\n",
              "    }\n",
              "\n",
              "    .dataframe thead th {\n",
              "        text-align: right;\n",
              "    }\n",
              "</style>\n",
              "<table border=\"1\" class=\"dataframe\">\n",
              "  <thead>\n",
              "    <tr style=\"text-align: right;\">\n",
              "      <th></th>\n",
              "      <th>0</th>\n",
              "    </tr>\n",
              "  </thead>\n",
              "  <tbody>\n",
              "    <tr>\n",
              "      <th>0</th>\n",
              "      <td>Crime Comedyhotel new year's eve witch bet hot...</td>\n",
              "    </tr>\n",
              "    <tr>\n",
              "      <th>1</th>\n",
              "      <td>Adventure Action Science Fictionandroid galaxy...</td>\n",
              "    </tr>\n",
              "    <tr>\n",
              "      <th>2</th>\n",
              "      <td>Animation Familyfather son relationship harbor...</td>\n",
              "    </tr>\n",
              "    <tr>\n",
              "      <th>3</th>\n",
              "      <td>Comedy Drama Romancevietnam veteran hippie men...</td>\n",
              "    </tr>\n",
              "    <tr>\n",
              "      <th>4</th>\n",
              "      <td>Dramamale nudity female nudity adultery midlif...</td>\n",
              "    </tr>\n",
              "    <tr>\n",
              "      <th>...</th>\n",
              "      <td>...</td>\n",
              "    </tr>\n",
              "    <tr>\n",
              "      <th>4755</th>\n",
              "      <td>HorrorThe hot spot where Satan's waitin'.Lisa ...</td>\n",
              "    </tr>\n",
              "    <tr>\n",
              "      <th>4756</th>\n",
              "      <td>Comedy Family DramaIt’s better to stand out th...</td>\n",
              "    </tr>\n",
              "    <tr>\n",
              "      <th>4757</th>\n",
              "      <td>Thriller Dramachristian film sex traffickingSh...</td>\n",
              "    </tr>\n",
              "    <tr>\n",
              "      <th>4758</th>\n",
              "      <td>Family</td>\n",
              "    </tr>\n",
              "    <tr>\n",
              "      <th>4759</th>\n",
              "      <td>Documentarymusic actors legendary perfomer cla...</td>\n",
              "    </tr>\n",
              "  </tbody>\n",
              "</table>\n",
              "<p>4760 rows × 1 columns</p>\n",
              "</div><br><label><b>dtype:</b> object</label>"
            ]
          },
          "metadata": {},
          "execution_count": 10
        }
      ]
    },
    {
      "cell_type": "code",
      "source": [
        "x.shape"
      ],
      "metadata": {
        "colab": {
          "base_uri": "https://localhost:8080/"
        },
        "id": "q-mCZkWo8TxF",
        "outputId": "dfe0cb14-be37-46d3-bc15-86f5a5493ecb"
      },
      "execution_count": 11,
      "outputs": [
        {
          "output_type": "execute_result",
          "data": {
            "text/plain": [
              "(4760,)"
            ]
          },
          "metadata": {},
          "execution_count": 11
        }
      ]
    },
    {
      "cell_type": "markdown",
      "source": [
        "# Get Feature Text Conversion to Tokens"
      ],
      "metadata": {
        "id": "6ktGaplEnqQ6"
      }
    },
    {
      "cell_type": "code",
      "source": [
        "from sklearn.feature_extraction.text import TfidfVectorizer\n"
      ],
      "metadata": {
        "id": "n3RfUY3an2Hf"
      },
      "execution_count": 12,
      "outputs": []
    },
    {
      "cell_type": "code",
      "source": [
        "tfidf = TfidfVectorizer()\n"
      ],
      "metadata": {
        "id": "DhXgmLLVofc9"
      },
      "execution_count": 13,
      "outputs": []
    },
    {
      "cell_type": "code",
      "source": [
        "x = tfidf.fit_transform(x)\n"
      ],
      "metadata": {
        "id": "pRHHv0PPolfF"
      },
      "execution_count": 14,
      "outputs": []
    },
    {
      "cell_type": "code",
      "source": [
        "x.shape"
      ],
      "metadata": {
        "colab": {
          "base_uri": "https://localhost:8080/"
        },
        "id": "CPSJBOc3o1FJ",
        "outputId": "879f4c81-ac9d-4ed0-92b3-4fcdc9e1d237"
      },
      "execution_count": 15,
      "outputs": [
        {
          "output_type": "execute_result",
          "data": {
            "text/plain": [
              "(4760, 27466)"
            ]
          },
          "metadata": {},
          "execution_count": 15
        }
      ]
    },
    {
      "cell_type": "code",
      "source": [
        "print(x)"
      ],
      "metadata": {
        "colab": {
          "base_uri": "https://localhost:8080/"
        },
        "id": "w_a-F7a4o5-Z",
        "outputId": "abab0833-b8c3-4a3c-ed1f-3e5d5f75dc90"
      },
      "execution_count": 16,
      "outputs": [
        {
          "output_type": "stream",
          "name": "stdout",
          "text": [
            "  (0, 1028)\t0.16196019146631543\n",
            "  (0, 24785)\t0.1954632929283795\n",
            "  (0, 15844)\t0.14205053053187272\n",
            "  (0, 15553)\t0.17099186675469502\n",
            "  (0, 2132)\t0.18002354204307464\n",
            "  (0, 13312)\t0.09914387783149516\n",
            "  (0, 1887)\t0.14106037409792174\n",
            "  (0, 1216)\t0.13920306109638164\n",
            "  (0, 21158)\t0.14205053053187272\n",
            "  (0, 24701)\t0.11357423942624927\n",
            "  (0, 14943)\t0.091376722056839\n",
            "  (0, 18098)\t0.06200430666985742\n",
            "  (0, 26738)\t0.175053052455033\n",
            "  (0, 9790)\t0.08712552095655665\n",
            "  (0, 26675)\t0.1116831168780693\n",
            "  (0, 13401)\t0.13748876529263096\n",
            "  (0, 24105)\t0.10726395493180996\n",
            "  (0, 18192)\t0.07278761942152372\n",
            "  (0, 6172)\t0.11970212451073885\n",
            "  (0, 9626)\t0.11757910435818826\n",
            "  (0, 11960)\t0.20134029899961134\n",
            "  (0, 12801)\t0.1530338818199682\n",
            "  (0, 2292)\t0.1954632929283795\n",
            "  (0, 15172)\t0.1537691763994982\n",
            "  (0, 18196)\t0.08579029869987485\n",
            "  :\t:\n",
            "  (4757, 1839)\t0.19327629083107672\n",
            "  (4757, 5410)\t0.19734759150400596\n",
            "  (4757, 11350)\t0.21582294886514122\n",
            "  (4757, 22017)\t0.1646400247918531\n",
            "  (4757, 17789)\t0.18881341937258544\n",
            "  (4757, 9484)\t0.1411164779725638\n",
            "  (4757, 14176)\t0.2330831990045816\n",
            "  (4757, 11762)\t0.17321388936472645\n",
            "  (4757, 14052)\t0.1776312353410007\n",
            "  (4757, 24232)\t0.10947784435203887\n",
            "  (4757, 24746)\t0.09744940789814222\n",
            "  (4757, 13079)\t0.12400374714145113\n",
            "  (4757, 17721)\t0.1489085353667712\n",
            "  (4758, 8651)\t1.0\n",
            "  (4759, 18229)\t0.33527342183765224\n",
            "  (4759, 22434)\t0.33527342183765224\n",
            "  (4759, 18841)\t0.33527342183765224\n",
            "  (4759, 6950)\t0.33527342183765224\n",
            "  (4759, 345)\t0.31978160936741457\n",
            "  (4759, 14742)\t0.31978160936741457\n",
            "  (4759, 12139)\t0.2778063685558062\n",
            "  (4759, 4446)\t0.282306565154911\n",
            "  (4759, 17552)\t0.3087899934962816\n",
            "  (4759, 9955)\t0.21805075638656476\n",
            "  (4759, 2285)\t0.21465229435984196\n"
          ]
        }
      ]
    },
    {
      "cell_type": "markdown",
      "source": [
        "# **Get Similarity Score using Cosine Similarity**\n",
        "\n",
        "cosine_similarity computes the L2-normalized dot product of vectors. Euclidean (L2) normalization projects the vectors onto the unit sphere, and their dot product is then the cosine of the angle between the points denoted by the vectors.\n"
      ],
      "metadata": {
        "id": "F1s2B2S9pO2H"
      }
    },
    {
      "cell_type": "code",
      "source": [
        "from sklearn.metrics.pairwise import cosine_similarity\n"
      ],
      "metadata": {
        "id": "1zFMR2LZpg_G"
      },
      "execution_count": 17,
      "outputs": []
    },
    {
      "cell_type": "code",
      "source": [
        "Similarity_Score = cosine_similarity(x)\n"
      ],
      "metadata": {
        "id": "6Dw7zlukppaW"
      },
      "execution_count": 18,
      "outputs": []
    },
    {
      "cell_type": "code",
      "source": [
        "Similarity_Score"
      ],
      "metadata": {
        "colab": {
          "base_uri": "https://localhost:8080/"
        },
        "id": "tkTqhzqQqAZ6",
        "outputId": "698d27f7-37a5-45a4-c695-62b7228ddd80"
      },
      "execution_count": 19,
      "outputs": [
        {
          "output_type": "execute_result",
          "data": {
            "text/plain": [
              "array([[1.        , 0.01438634, 0.03807033, ..., 0.        , 0.        ,\n",
              "        0.        ],\n",
              "       [0.01438634, 1.        , 0.00844858, ..., 0.        , 0.        ,\n",
              "        0.        ],\n",
              "       [0.03807033, 0.00844858, 1.        , ..., 0.        , 0.        ,\n",
              "        0.        ],\n",
              "       ...,\n",
              "       [0.        , 0.        , 0.        , ..., 1.        , 0.        ,\n",
              "        0.        ],\n",
              "       [0.        , 0.        , 0.        , ..., 0.        , 1.        ,\n",
              "        0.        ],\n",
              "       [0.        , 0.        , 0.        , ..., 0.        , 0.        ,\n",
              "        1.        ]])"
            ]
          },
          "metadata": {},
          "execution_count": 19
        }
      ]
    },
    {
      "cell_type": "code",
      "source": [
        "Similarity_Score.shape"
      ],
      "metadata": {
        "colab": {
          "base_uri": "https://localhost:8080/"
        },
        "id": "_Cj3mKCWqJqO",
        "outputId": "0846aaec-1d01-4c06-cc5f-b50c83d71039"
      },
      "execution_count": 20,
      "outputs": [
        {
          "output_type": "execute_result",
          "data": {
            "text/plain": [
              "(4760, 4760)"
            ]
          },
          "metadata": {},
          "execution_count": 20
        }
      ]
    },
    {
      "cell_type": "markdown",
      "source": [
        "**Get Movie Name as Input from User and Validate for Closest Spelling**"
      ],
      "metadata": {
        "id": "07ygpSC0qN01"
      }
    },
    {
      "cell_type": "code",
      "source": [
        "Favourite_Movie_Name = input(' Enter your favourite movie name :')\n"
      ],
      "metadata": {
        "colab": {
          "base_uri": "https://localhost:8080/"
        },
        "id": "UjzxHG6QrA2e",
        "outputId": "9622506d-c228-49b6-d2c8-4dcfbc94f406"
      },
      "execution_count": 21,
      "outputs": [
        {
          "name": "stdout",
          "output_type": "stream",
          "text": [
            " Enter your favourite movie name :hotel\n"
          ]
        }
      ]
    },
    {
      "cell_type": "code",
      "source": [
        "All_Movies_Title_List = df['Movie_Title'].tolist()"
      ],
      "metadata": {
        "id": "Qtq2jnvfshlJ"
      },
      "execution_count": 23,
      "outputs": []
    },
    {
      "cell_type": "code",
      "source": [
        "import difflib"
      ],
      "metadata": {
        "id": "r6dk2ESPsqLB"
      },
      "execution_count": 24,
      "outputs": []
    },
    {
      "cell_type": "code",
      "source": [
        "Movie_Recommendation = difflib.get_close_matches (Favourite_Movie_Name, All_Movies_Title_List)\n",
        "print(Movie_Recommendation)\n"
      ],
      "metadata": {
        "colab": {
          "base_uri": "https://localhost:8080/"
        },
        "id": "9NGk22JGsvan",
        "outputId": "f018c91c-5732-44e6-f9b6-c98d71a0a9cb"
      },
      "execution_count": 25,
      "outputs": [
        {
          "output_type": "stream",
          "name": "stdout",
          "text": [
            "['Hostel', 'The Motel', 'Shooter']\n"
          ]
        }
      ]
    },
    {
      "cell_type": "code",
      "source": [
        "Close_Match = Movie_Recommendation[0]\n",
        "print (Close_Match)"
      ],
      "metadata": {
        "colab": {
          "base_uri": "https://localhost:8080/"
        },
        "id": "RNLvKO979-nq",
        "outputId": "468fcec6-bfe6-489e-8276-c321343e697a"
      },
      "execution_count": 26,
      "outputs": [
        {
          "output_type": "stream",
          "name": "stdout",
          "text": [
            "Hostel\n"
          ]
        }
      ]
    },
    {
      "cell_type": "code",
      "source": [
        "\n",
        "Index_of_Close_Match_Movie = df [df.Movie_Title == Close_Match]['Movie_ID'].values[0]\n",
        "print(Index_of_Close_Match_Movie)\n"
      ],
      "metadata": {
        "colab": {
          "base_uri": "https://localhost:8080/"
        },
        "id": "tzQUudQmtYiQ",
        "outputId": "4b23a46b-57dc-4992-a401-aa6692b6f64c"
      },
      "execution_count": 27,
      "outputs": [
        {
          "output_type": "stream",
          "name": "stdout",
          "text": [
            "557\n"
          ]
        }
      ]
    },
    {
      "cell_type": "code",
      "source": [
        "# getting a list of similar movies\n",
        "\n",
        "Recommendation_Score = list(enumerate(Similarity_Score[Index_of_Close_Match_Movie]))\n",
        "print (Recommendation_Score)\n",
        "\n",
        "\n"
      ],
      "metadata": {
        "colab": {
          "base_uri": "https://localhost:8080/"
        },
        "id": "rz-GrRlxuOEW",
        "outputId": "f2156485-12df-4ffe-e4ea-65d08e72d822"
      },
      "execution_count": 28,
      "outputs": [
        {
          "output_type": "stream",
          "name": "stdout",
          "text": [
            "[(0, 0.027931429388393214), (1, 0.0), (2, 0.017189629022629604), (3, 0.0), (4, 0.0), (5, 0.0), (6, 0.020676095775773815), (7, 0.014192159469626922), (8, 0.0), (9, 0.0), (10, 0.0), (11, 0.0), (12, 0.0), (13, 0.016128461469789107), (14, 0.0), (15, 0.0), (16, 0.0), (17, 0.0), (18, 0.0), (19, 0.017293104722901242), (20, 0.0), (21, 0.0), (22, 0.0), (23, 0.0), (24, 0.0), (25, 0.0), (26, 0.0), (27, 0.0), (28, 0.0), (29, 0.0), (30, 0.0), (31, 0.016372612188666324), (32, 0.016095051435699045), (33, 0.0), (34, 0.0), (35, 0.0), (36, 0.0), (37, 0.01573773140387208), (38, 0.0), (39, 0.016928229308203417), (40, 0.0), (41, 0.01967406248740282), (42, 0.0), (43, 0.0), (44, 0.0), (45, 0.0), (46, 0.0), (47, 0.0), (48, 0.0), (49, 0.01762747970323185), (50, 0.0), (51, 0.0), (52, 0.0), (53, 0.0), (54, 0.0), (55, 0.0), (56, 0.0), (57, 0.0), (58, 0.0), (59, 0.023569712890044232), (60, 0.0), (61, 0.0), (62, 0.0), (63, 0.0), (64, 0.0), (65, 0.0), (66, 0.0), (67, 0.0), (68, 0.0), (69, 0.0), (70, 0.0), (71, 0.0), (72, 0.0), (73, 0.0), (74, 0.0), (75, 0.0), (76, 0.0), (77, 0.0), (78, 0.03708511689510111), (79, 0.0), (80, 0.0), (81, 0.0), (82, 0.0), (83, 0.01911447204996909), (84, 0.0), (85, 0.0), (86, 0.0), (87, 0.0), (88, 0.0), (89, 0.02067832291201732), (90, 0.0), (91, 0.038120157441250815), (92, 0.032364193917435995), (93, 0.0), (94, 0.0), (95, 0.0), (96, 0.017179721341958297), (97, 0.0), (98, 0.0), (99, 0.0), (100, 0.0), (101, 0.0), (102, 0.0), (103, 0.0), (104, 0.0), (105, 0.0), (106, 0.031504898721774616), (107, 0.0), (108, 0.0), (109, 0.017946980581574224), (110, 0.0), (111, 0.02207982146704244), (112, 0.0), (113, 0.0), (114, 0.0), (115, 0.0241029023279751), (116, 0.0), (117, 0.0), (118, 0.041491777529482646), (119, 0.0), (120, 0.0), (121, 0.0), (122, 0.0), (123, 0.0), (124, 0.0), (125, 0.0), (126, 0.0), (127, 0.0), (128, 0.0), (129, 0.0), (130, 0.0), (131, 0.018078623607599625), (132, 0.0), (133, 0.0), (134, 0.0), (135, 0.01719398678406087), (136, 0.0), (137, 0.0), (138, 0.0), (139, 0.0), (140, 0.0), (141, 0.0), (142, 0.0), (143, 0.0), (144, 0.0), (145, 0.0), (146, 0.0), (147, 0.0), (148, 0.03436449155245242), (149, 0.0), (150, 0.01805614600927108), (151, 0.01904183775606096), (152, 0.0), (153, 0.0), (154, 0.0), (155, 0.0), (156, 0.0431919863392554), (157, 0.0), (158, 0.0), (159, 0.0), (160, 0.017231417234498562), (161, 0.021303847781443494), (162, 0.0), (163, 0.027226236984362284), (164, 0.0), (165, 0.0), (166, 0.0), (167, 0.0), (168, 0.013920779330604071), (169, 0.0), (170, 0.0), (171, 0.0), (172, 0.0), (173, 0.0), (174, 0.0), (175, 0.0), (176, 0.0), (177, 0.0), (178, 0.019717097482268315), (179, 0.0), (180, 0.0), (181, 0.0), (182, 0.0), (183, 0.0), (184, 0.0), (185, 0.03739421098844992), (186, 0.0), (187, 0.0), (188, 0.0), (189, 0.0), (190, 0.0), (191, 0.0), (192, 0.019140346689848188), (193, 0.0), (194, 0.0), (195, 0.0), (196, 0.0), (197, 0.0), (198, 0.0), (199, 0.0), (200, 0.017496947904149907), (201, 0.018101185598655537), (202, 0.0), (203, 0.0), (204, 0.0), (205, 0.0), (206, 0.0), (207, 0.042795752163539404), (208, 0.0203026783848139), (209, 0.0), (210, 0.0), (211, 0.0), (212, 0.016052618968928258), (213, 0.0), (214, 0.016133271116609497), (215, 0.0), (216, 0.0), (217, 0.01912107101284233), (218, 0.01738437627843054), (219, 0.0), (220, 0.0), (221, 0.0), (222, 0.0), (223, 0.0), (224, 0.0), (225, 0.0), (226, 0.0), (227, 0.0), (228, 0.0), (229, 0.0), (230, 0.0), (231, 0.0), (232, 0.0), (233, 0.0), (234, 0.0), (235, 0.02611837104004401), (236, 0.0), (237, 0.0), (238, 0.0), (239, 0.01899694731888636), (240, 0.0), (241, 0.0), (242, 0.0), (243, 0.0), (244, 0.0), (245, 0.0), (246, 0.0), (247, 0.0), (248, 0.0), (249, 0.0), (250, 0.0), (251, 0.0), (252, 0.0), (253, 0.0), (254, 0.0), (255, 0.0), (256, 0.0), (257, 0.0), (258, 0.0), (259, 0.017474049956711122), (260, 0.017131223133911154), (261, 0.01695878858032989), (262, 0.0), (263, 0.0), (264, 0.0), (265, 0.03403907041886808), (266, 0.0), (267, 0.0), (268, 0.0), (269, 0.01488021272194819), (270, 0.0), (271, 0.0), (272, 0.0), (273, 0.0), (274, 0.0), (275, 0.0), (276, 0.017916488787489453), (277, 0.0), (278, 0.0), (279, 0.0), (280, 0.017484711558282164), (281, 0.0), (282, 0.0), (283, 0.0), (284, 0.0), (285, 0.017052150737167978), (286, 0.0), (287, 0.01667454011176308), (288, 0.0), (289, 0.0), (290, 0.0), (291, 0.021819054077076024), (292, 0.0), (293, 0.0), (294, 0.0), (295, 0.0), (296, 0.0), (297, 0.01915106266046546), (298, 0.019120243001184086), (299, 0.0), (300, 0.0), (301, 0.0), (302, 0.0), (303, 0.0), (304, 0.022232318777182642), (305, 0.016910829533357638), (306, 0.0527385057968751), (307, 0.0), (308, 0.0), (309, 0.0), (310, 0.056026107427031055), (311, 0.0), (312, 0.0), (313, 0.0), (314, 0.04959478779994887), (315, 0.03880347610543537), (316, 0.036972654642206684), (317, 0.0), (318, 0.0), (319, 0.0), (320, 0.040875501594296745), (321, 0.0), (322, 0.0), (323, 0.03452196441609876), (324, 0.0), (325, 0.0), (326, 0.0), (327, 0.015782917255926916), (328, 0.0), (329, 0.0), (330, 0.0), (331, 0.0), (332, 0.0), (333, 0.0), (334, 0.0), (335, 0.0), (336, 0.0), (337, 0.016314106626357582), (338, 0.0), (339, 0.017857197846550724), (340, 0.0), (341, 0.03600058270850192), (342, 0.0), (343, 0.0), (344, 0.0), (345, 0.0), (346, 0.0), (347, 0.018819540078337554), (348, 0.0), (349, 0.0), (350, 0.0), (351, 0.0), (352, 0.0), (353, 0.0), (354, 0.01731308141375278), (355, 0.0), (356, 0.0), (357, 0.0), (358, 0.019307230200898265), (359, 0.0), (360, 0.0), (361, 0.0), (362, 0.0), (363, 0.0), (364, 0.03907488215371246), (365, 0.0), (366, 0.0), (367, 0.0), (368, 0.038394622886369995), (369, 0.0), (370, 0.0), (371, 0.0), (372, 0.017159132168660437), (373, 0.03587222554177902), (374, 0.0), (375, 0.024172809280682606), (376, 0.0), (377, 0.01835444587837321), (378, 0.018613696375774764), (379, 0.039172447560585216), (380, 0.0), (381, 0.0), (382, 0.04035418173286414), (383, 0.0), (384, 0.0), (385, 0.0), (386, 0.03950652678476105), (387, 0.017487966113467656), (388, 0.0), (389, 0.0), (390, 0.0), (391, 0.0), (392, 0.0), (393, 0.0), (394, 0.015180356064053947), (395, 0.04595525862456193), (396, 0.0), (397, 0.03532874834869253), (398, 0.0), (399, 0.0), (400, 0.0), (401, 0.0), (402, 0.0), (403, 0.0), (404, 0.0), (405, 0.0), (406, 0.0), (407, 0.0), (408, 0.0164066986219508), (409, 0.0), (410, 0.01569052885324183), (411, 0.0), (412, 0.014840959482074692), (413, 0.0), (414, 0.0), (415, 0.020896827384333443), (416, 0.0), (417, 0.0), (418, 0.0), (419, 0.0), (420, 0.0), (421, 0.0), (422, 0.01730451643241542), (423, 0.0), (424, 0.0), (425, 0.020568257171654482), (426, 0.0), (427, 0.0), (428, 0.0), (429, 0.01976779102459901), (430, 0.0), (431, 0.0), (432, 0.0), (433, 0.0), (434, 0.03532000585766915), (435, 0.030577814930762757), (436, 0.0), (437, 0.0), (438, 0.0), (439, 0.018026002854969286), (440, 0.0), (441, 0.0), (442, 0.0), (443, 0.0), (444, 0.0), (445, 0.0), (446, 0.0), (447, 0.0), (448, 0.0), (449, 0.0), (450, 0.0), (451, 0.0), (452, 0.0), (453, 0.0), (454, 0.02880191977593271), (455, 0.0), (456, 0.0), (457, 0.0), (458, 0.021340302149161862), (459, 0.0), (460, 0.0), (461, 0.0), (462, 0.0), (463, 0.0), (464, 0.0), (465, 0.0), (466, 0.0), (467, 0.017926937824266735), (468, 0.016948431121576017), (469, 0.015094763259322344), (470, 0.0), (471, 0.0), (472, 0.0), (473, 0.0), (474, 0.0), (475, 0.0), (476, 0.0), (477, 0.01539245689672069), (478, 0.0), (479, 0.020451368095714163), (480, 0.0), (481, 0.0), (482, 0.0), (483, 0.01859854604273664), (484, 0.0), (485, 0.0), (486, 0.0), (487, 0.0), (488, 0.0), (489, 0.0), (490, 0.0), (491, 0.0), (492, 0.0), (493, 0.0), (494, 0.0), (495, 0.0), (496, 0.016463553785760743), (497, 0.0), (498, 0.0), (499, 0.0), (500, 0.0), (501, 0.03571624902248462), (502, 0.0), (503, 0.0), (504, 0.0), (505, 0.0), (506, 0.0), (507, 0.0), (508, 0.0), (509, 0.0), (510, 0.0), (511, 0.0), (512, 0.0), (513, 0.0), (514, 0.0), (515, 0.03269240619792031), (516, 0.0), (517, 0.0), (518, 0.0), (519, 0.0), (520, 0.0), (521, 0.0), (522, 0.0), (523, 0.0), (524, 0.0), (525, 0.0), (526, 0.0), (527, 0.0), (528, 0.0), (529, 0.0), (530, 0.0), (531, 0.0), (532, 0.0), (533, 0.0), (534, 0.0), (535, 0.0), (536, 0.0), (537, 0.0), (538, 0.0), (539, 0.0), (540, 0.0), (541, 0.04092183089207076), (542, 0.041259409063261365), (543, 0.0), (544, 0.0), (545, 0.0), (546, 0.03765794462125888), (547, 0.0), (548, 0.0), (549, 0.0), (550, 0.0), (551, 0.0), (552, 0.0), (553, 0.0), (554, 0.0), (555, 0.0), (556, 0.038236306558322185), (557, 1.0), (558, 0.0), (559, 0.0), (560, 0.044241716101774284), (561, 0.0), (562, 0.029035189627519824), (563, 0.0), (564, 0.0), (565, 0.034384460405049035), (566, 0.01573613523289864), (567, 0.01922325894366315), (568, 0.0), (569, 0.0), (570, 0.0), (571, 0.0), (572, 0.0), (573, 0.0), (574, 0.04555953091633397), (575, 0.0), (576, 0.0), (577, 0.0), (578, 0.0), (579, 0.0), (580, 0.0), (581, 0.05227027586757509), (582, 0.0), (583, 0.0), (584, 0.0), (585, 0.0), (586, 0.0), (587, 0.0), (588, 0.0), (589, 0.0), (590, 0.0), (591, 0.0), (592, 0.0), (593, 0.0), (594, 0.0), (595, 0.0), (596, 0.0), (597, 0.0), (598, 0.0), (599, 0.0), (600, 0.0), (601, 0.0), (602, 0.0), (603, 0.0), (604, 0.0), (605, 0.0), (606, 0.0), (607, 0.0), (608, 0.0), (609, 0.014028398851655249), (610, 0.0), (611, 0.0), (612, 0.03390917821911169), (613, 0.017072294929956232), (614, 0.0), (615, 0.0), (616, 0.0), (617, 0.0), (618, 0.0), (619, 0.0), (620, 0.0), (621, 0.0), (622, 0.0), (623, 0.0), (624, 0.01876589461330097), (625, 0.0), (626, 0.014817203231609255), (627, 0.0), (628, 0.0), (629, 0.0), (630, 0.0), (631, 0.0), (632, 0.0), (633, 0.0), (634, 0.0), (635, 0.0), (636, 0.0), (637, 0.0), (638, 0.0), (639, 0.0), (640, 0.0), (641, 0.0), (642, 0.015134689213219685), (643, 0.0), (644, 0.0), (645, 0.0), (646, 0.0), (647, 0.039565680283928796), (648, 0.01593766032042534), (649, 0.0), (650, 0.0), (651, 0.0), (652, 0.0), (653, 0.0), (654, 0.0), (655, 0.0), (656, 0.01799605967275067), (657, 0.01620996603583379), (658, 0.019825374443604195), (659, 0.022154606319040704), (660, 0.0), (661, 0.0), (662, 0.0), (663, 0.0), (664, 0.015596092006513225), (665, 0.0), (666, 0.0), (667, 0.0), (668, 0.018863527889143472), (669, 0.0), (670, 0.028332977860181116), (671, 0.0), (672, 0.0), (673, 0.0), (674, 0.0), (675, 0.0), (676, 0.0), (677, 0.0), (678, 0.0), (679, 0.02053569781506677), (680, 0.0), (681, 0.0), (682, 0.0), (683, 0.0), (684, 0.01420681256794026), (685, 0.0), (686, 0.03718588391165831), (687, 0.0), (688, 0.0), (689, 0.0), (690, 0.04202433968529363), (691, 0.0), (692, 0.0), (693, 0.0), (694, 0.01720176074922482), (695, 0.0), (696, 0.02010783336328222), (697, 0.03155826556482661), (698, 0.0), (699, 0.0), (700, 0.0), (701, 0.0), (702, 0.016686947484241602), (703, 0.0), (704, 0.0), (705, 0.0), (706, 0.015747192328744455), (707, 0.0), (708, 0.04131346957598422), (709, 0.03318013711313873), (710, 0.0), (711, 0.0431292918994755), (712, 0.0), (713, 0.0), (714, 0.0), (715, 0.0), (716, 0.0), (717, 0.0), (718, 0.0), (719, 0.0), (720, 0.0), (721, 0.0), (722, 0.0), (723, 0.0), (724, 0.0), (725, 0.0), (726, 0.0), (727, 0.0), (728, 0.025032667457681734), (729, 0.0), (730, 0.0), (731, 0.0), (732, 0.0), (733, 0.0), (734, 0.0), (735, 0.0), (736, 0.0), (737, 0.0), (738, 0.0), (739, 0.020338191115616532), (740, 0.013779640851340457), (741, 0.0), (742, 0.016302104790588853), (743, 0.0), (744, 0.0), (745, 0.0), (746, 0.0), (747, 0.019704440057597025), (748, 0.03456182082033326), (749, 0.0), (750, 0.019768234391668284), (751, 0.0), (752, 0.032363501573618156), (753, 0.0), (754, 0.0), (755, 0.0), (756, 0.0), (757, 0.0), (758, 0.0), (759, 0.0), (760, 0.0), (761, 0.0), (762, 0.0), (763, 0.0), (764, 0.0), (765, 0.0), (766, 0.0), (767, 0.0), (768, 0.0), (769, 0.0), (770, 0.0), (771, 0.0), (772, 0.0), (773, 0.0), (774, 0.0), (775, 0.0), (776, 0.0), (777, 0.0), (778, 0.0), (779, 0.0), (780, 0.0), (781, 0.01906053677726425), (782, 0.0), (783, 0.0), (784, 0.0), (785, 0.0), (786, 0.0), (787, 0.011833174500549038), (788, 0.0), (789, 0.0), (790, 0.0), (791, 0.0), (792, 0.0), (793, 0.0), (794, 0.0), (795, 0.0), (796, 0.0), (797, 0.019053170900431973), (798, 0.0), (799, 0.0), (800, 0.0), (801, 0.07097318839241458), (802, 0.0), (803, 0.0), (804, 0.0), (805, 0.0), (806, 0.018746055510179906), (807, 0.0), (808, 0.0), (809, 0.0), (810, 0.0), (811, 0.0), (812, 0.0), (813, 0.0), (814, 0.0), (815, 0.017827794701992566), (816, 0.0), (817, 0.0), (818, 0.0), (819, 0.0), (820, 0.04425076558786366), (821, 0.0), (822, 0.0), (823, 0.0), (824, 0.02948611930274736), (825, 0.0), (826, 0.0), (827, 0.0), (828, 0.0), (829, 0.0), (830, 0.0), (831, 0.0), (832, 0.0), (833, 0.0), (834, 0.0), (835, 0.0), (836, 0.01758391724438576), (837, 0.029904578613294718), (838, 0.0), (839, 0.0), (840, 0.0), (841, 0.0), (842, 0.0), (843, 0.0), (844, 0.0), (845, 0.0), (846, 0.0), (847, 0.0), (848, 0.0), (849, 0.04144368201253615), (850, 0.0), (851, 0.01700782164904097), (852, 0.0), (853, 0.015429791579135963), (854, 0.0), (855, 0.0), (856, 0.0), (857, 0.0), (858, 0.012818122864006673), (859, 0.0), (860, 0.0), (861, 0.017203901883309117), (862, 0.0), (863, 0.0), (864, 0.0), (865, 0.0), (866, 0.016466694005570593), (867, 0.0), (868, 0.0), (869, 0.0), (870, 0.0), (871, 0.0), (872, 0.0), (873, 0.0197995977213249), (874, 0.0), (875, 0.039245029827280044), (876, 0.0), (877, 0.0), (878, 0.0), (879, 0.0), (880, 0.0), (881, 0.060418261545864035), (882, 0.0), (883, 0.0), (884, 0.0), (885, 0.0), (886, 0.0), (887, 0.0), (888, 0.0), (889, 0.022157807697611248), (890, 0.0), (891, 0.021104197298803203), (892, 0.021015076885082907), (893, 0.01851845592954015), (894, 0.0), (895, 0.0), (896, 0.0), (897, 0.0), (898, 0.0), (899, 0.0), (900, 0.0), (901, 0.0), (902, 0.0), (903, 0.0), (904, 0.0), (905, 0.0), (906, 0.017426435231111214), (907, 0.0), (908, 0.0), (909, 0.0), (910, 0.0), (911, 0.03580303014044278), (912, 0.0177111183197151), (913, 0.0), (914, 0.0), (915, 0.016415530396576613), (916, 0.021828967520013256), (917, 0.0), (918, 0.0), (919, 0.0), (920, 0.0), (921, 0.0), (922, 0.0), (923, 0.0), (924, 0.0), (925, 0.0), (926, 0.0), (927, 0.0), (928, 0.0), (929, 0.013333009265257009), (930, 0.0), (931, 0.019253464745849803), (932, 0.0), (933, 0.0), (934, 0.0), (935, 0.0), (936, 0.034465334036223205), (937, 0.0), (938, 0.017179597699441076), (939, 0.0), (940, 0.013250171262273942), (941, 0.0), (942, 0.0), (943, 0.0), (944, 0.0), (945, 0.0), (946, 0.020260645065971833), (947, 0.0), (948, 0.0), (949, 0.0), (950, 0.020576530204897282), (951, 0.0), (952, 0.0), (953, 0.0), (954, 0.0), (955, 0.0), (956, 0.0), (957, 0.0), (958, 0.0), (959, 0.0), (960, 0.0), (961, 0.0), (962, 0.0), (963, 0.01622270331648857), (964, 0.0), (965, 0.0), (966, 0.017834097509496178), (967, 0.0), (968, 0.03637594960671272), (969, 0.0), (970, 0.0), (971, 0.0), (972, 0.0), (973, 0.03073242352621399), (974, 0.0), (975, 0.0), (976, 0.0), (977, 0.0), (978, 0.0), (979, 0.0), (980, 0.019147871912092433), (981, 0.0), (982, 0.0), (983, 0.0), (984, 0.0), (985, 0.0), (986, 0.0), (987, 0.0), (988, 0.0), (989, 0.018233913240979054), (990, 0.0), (991, 0.021097691595219528), (992, 0.0), (993, 0.0), (994, 0.019277131363516168), (995, 0.01909915839230514), (996, 0.0), (997, 0.0), (998, 0.0), (999, 0.0), (1000, 0.0), (1001, 0.0), (1002, 0.0), (1003, 0.0), (1004, 0.0), (1005, 0.0), (1006, 0.0), (1007, 0.0), (1008, 0.017066290059331402), (1009, 0.0), (1010, 0.03349859494415057), (1011, 0.0), (1012, 0.0), (1013, 0.0), (1014, 0.0), (1015, 0.0), (1016, 0.0), (1017, 0.0), (1018, 0.017323254042036558), (1019, 0.0), (1020, 0.0), (1021, 0.023036451809589437), (1022, 0.0), (1023, 0.019498711487663523), (1024, 0.0), (1025, 0.0), (1026, 0.030520169663847362), (1027, 0.0), (1028, 0.018107934942451786), (1029, 0.0), (1030, 0.0), (1031, 0.0), (1032, 0.0), (1033, 0.0), (1034, 0.0), (1035, 0.0), (1036, 0.0), (1037, 0.0), (1038, 0.0), (1039, 0.0), (1040, 0.0), (1041, 0.0), (1042, 0.0), (1043, 0.0), (1044, 0.0), (1045, 0.0), (1046, 0.037747886100915846), (1047, 0.0), (1048, 0.0), (1049, 0.0), (1050, 0.0), (1051, 0.0), (1052, 0.0), (1053, 0.0), (1054, 0.0), (1055, 0.0), (1056, 0.0), (1057, 0.0), (1058, 0.0), (1059, 0.0), (1060, 0.017640986053913486), (1061, 0.01623079869713883), (1062, 0.0), (1063, 0.0), (1064, 0.0), (1065, 0.0), (1066, 0.0), (1067, 0.0), (1068, 0.0), (1069, 0.0), (1070, 0.0), (1071, 0.0), (1072, 0.0), (1073, 0.0), (1074, 0.0), (1075, 0.0), (1076, 0.0), (1077, 0.0), (1078, 0.0), (1079, 0.0), (1080, 0.0), (1081, 0.0), (1082, 0.038035193641516606), (1083, 0.0), (1084, 0.0), (1085, 0.0), (1086, 0.0), (1087, 0.0), (1088, 0.0), (1089, 0.0), (1090, 0.0), (1091, 0.0), (1092, 0.0), (1093, 0.01594718259293983), (1094, 0.0), (1095, 0.0), (1096, 0.016622851985132154), (1097, 0.019378031514872794), (1098, 0.0), (1099, 0.0), (1100, 0.0), (1101, 0.0), (1102, 0.0), (1103, 0.0), (1104, 0.040766865301548744), (1105, 0.05580744532745411), (1106, 0.0), (1107, 0.035024278996465416), (1108, 0.0), (1109, 0.019319667513583164), (1110, 0.0), (1111, 0.017334423484582952), (1112, 0.0), (1113, 0.03852603653478401), (1114, 0.0), (1115, 0.017122817907272873), (1116, 0.0), (1117, 0.0), (1118, 0.0), (1119, 0.0), (1120, 0.0), (1121, 0.0), (1122, 0.0), (1123, 0.0), (1124, 0.0), (1125, 0.0), (1126, 0.0), (1127, 0.0), (1128, 0.0), (1129, 0.0), (1130, 0.022702699688445134), (1131, 0.017679430160171223), (1132, 0.0), (1133, 0.0), (1134, 0.0), (1135, 0.0), (1136, 0.0), (1137, 0.0), (1138, 0.0), (1139, 0.0), (1140, 0.0), (1141, 0.0), (1142, 0.0), (1143, 0.0), (1144, 0.0), (1145, 0.0), (1146, 0.0), (1147, 0.0), (1148, 0.0), (1149, 0.015796840523222555), (1150, 0.0), (1151, 0.018044610840193598), (1152, 0.03715686964328142), (1153, 0.014834285634263833), (1154, 0.0), (1155, 0.0), (1156, 0.0), (1157, 0.0), (1158, 0.0), (1159, 0.01923209421571639), (1160, 0.0), (1161, 0.0), (1162, 0.0), (1163, 0.0), (1164, 0.016749362946306627), (1165, 0.0), (1166, 0.0), (1167, 0.0), (1168, 0.0), (1169, 0.0), (1170, 0.017105734677672773), (1171, 0.0), (1172, 0.0), (1173, 0.0), (1174, 0.0), (1175, 0.0), (1176, 0.0), (1177, 0.0), (1178, 0.017166946058376664), (1179, 0.0), (1180, 0.0), (1181, 0.0), (1182, 0.0), (1183, 0.017957212135111724), (1184, 0.0), (1185, 0.0), (1186, 0.0), (1187, 0.0), (1188, 0.0), (1189, 0.0), (1190, 0.0), (1191, 0.0), (1192, 0.03862190901421755), (1193, 0.0), (1194, 0.0), (1195, 0.0), (1196, 0.0), (1197, 0.0), (1198, 0.0), (1199, 0.0), (1200, 0.030956756624530443), (1201, 0.0), (1202, 0.016893768151772817), (1203, 0.029378467407629807), (1204, 0.0), (1205, 0.0), (1206, 0.0), (1207, 0.016654847898116127), (1208, 0.0), (1209, 0.0), (1210, 0.029709711556303666), (1211, 0.0), (1212, 0.0), (1213, 0.0), (1214, 0.0), (1215, 0.0), (1216, 0.03695158790070424), (1217, 0.0), (1218, 0.0), (1219, 0.01571850544092591), (1220, 0.0), (1221, 0.0), (1222, 0.0), (1223, 0.0), (1224, 0.0), (1225, 0.0), (1226, 0.0), (1227, 0.019370452790878328), (1228, 0.019932820292290983), (1229, 0.0), (1230, 0.0), (1231, 0.0), (1232, 0.0), (1233, 0.0), (1234, 0.018047349535279266), (1235, 0.01820091967449633), (1236, 0.0), (1237, 0.03879525457882238), (1238, 0.0376919531523574), (1239, 0.0), (1240, 0.0), (1241, 0.01571565613831292), (1242, 0.0), (1243, 0.0), (1244, 0.018688923422568685), (1245, 0.0), (1246, 0.0), (1247, 0.023118195112639867), (1248, 0.0), (1249, 0.021119790433500568), (1250, 0.0), (1251, 0.017756089544432693), (1252, 0.018415470561416673), (1253, 0.0), (1254, 0.0), (1255, 0.0), (1256, 0.017323342057596024), (1257, 0.0), (1258, 0.0), (1259, 0.0), (1260, 0.0), (1261, 0.0), (1262, 0.0), (1263, 0.0), (1264, 0.0), (1265, 0.0), (1266, 0.0), (1267, 0.0), (1268, 0.0), (1269, 0.017425155067747843), (1270, 0.02173870708389802), (1271, 0.0), (1272, 0.0), (1273, 0.0), (1274, 0.0), (1275, 0.0), (1276, 0.0), (1277, 0.0), (1278, 0.0), (1279, 0.0), (1280, 0.0), (1281, 0.015641116663352453), (1282, 0.0595913446772242), (1283, 0.0), (1284, 0.0), (1285, 0.0), (1286, 0.0), (1287, 0.0), (1288, 0.0), (1289, 0.0), (1290, 0.0), (1291, 0.0), (1292, 0.017136180965264078), (1293, 0.05034357178920613), (1294, 0.0), (1295, 0.0), (1296, 0.0), (1297, 0.0), (1298, 0.0), (1299, 0.0), (1300, 0.0), (1301, 0.0), (1302, 0.017392529253837156), (1303, 0.0), (1304, 0.0), (1305, 0.0), (1306, 0.014682799374222118), (1307, 0.0), (1308, 0.0), (1309, 0.03277408525622446), (1310, 0.0), (1311, 0.0), (1312, 0.0), (1313, 0.0), (1314, 0.0), (1315, 0.0), (1316, 0.0), (1317, 0.0), (1318, 0.0), (1319, 0.0), (1320, 0.0), (1321, 0.0), (1322, 0.0), (1323, 0.0), (1324, 0.0), (1325, 0.0), (1326, 0.03112865623214335), (1327, 0.0), (1328, 0.0), (1329, 0.0), (1330, 0.0), (1331, 0.0), (1332, 0.0), (1333, 0.0), (1334, 0.0), (1335, 0.0), (1336, 0.0), (1337, 0.0), (1338, 0.0), (1339, 0.10678550988814772), (1340, 0.0), (1341, 0.0307792365074284), (1342, 0.03168604313578595), (1343, 0.0), (1344, 0.0), (1345, 0.0), (1346, 0.0), (1347, 0.0), (1348, 0.028049431350611668), (1349, 0.0), (1350, 0.0), (1351, 0.025412311690775978), (1352, 0.0), (1353, 0.0), (1354, 0.0), (1355, 0.0), (1356, 0.019828459727227743), (1357, 0.0), (1358, 0.0), (1359, 0.0), (1360, 0.0), (1361, 0.0), (1362, 0.0), (1363, 0.0), (1364, 0.0), (1365, 0.0), (1366, 0.0), (1367, 0.0), (1368, 0.0), (1369, 0.0), (1370, 0.0), (1371, 0.0), (1372, 0.0), (1373, 0.018663064427205146), (1374, 0.0), (1375, 0.0), (1376, 0.0), (1377, 0.016141532903650124), (1378, 0.0), (1379, 0.020456596104216795), (1380, 0.0), (1381, 0.0), (1382, 0.0), (1383, 0.02132643388071975), (1384, 0.0), (1385, 0.0), (1386, 0.01803049201175003), (1387, 0.0), (1388, 0.0), (1389, 0.0), (1390, 0.021251713291136932), (1391, 0.0), (1392, 0.0), (1393, 0.0), (1394, 0.0), (1395, 0.0), (1396, 0.0), (1397, 0.0), (1398, 0.0), (1399, 0.0), (1400, 0.0), (1401, 0.0), (1402, 0.0), (1403, 0.0), (1404, 0.0), (1405, 0.0), (1406, 0.0), (1407, 0.0), (1408, 0.0), (1409, 0.0), (1410, 0.0), (1411, 0.0), (1412, 0.01627945028489466), (1413, 0.0), (1414, 0.0), (1415, 0.015572381307669237), (1416, 0.0), (1417, 0.0), (1418, 0.0), (1419, 0.0), (1420, 0.0), (1421, 0.0), (1422, 0.0), (1423, 0.0), (1424, 0.0), (1425, 0.01678815513740882), (1426, 0.0), (1427, 0.0), (1428, 0.0), (1429, 0.0), (1430, 0.0), (1431, 0.017790182184090644), (1432, 0.0), (1433, 0.0), (1434, 0.0), (1435, 0.01768348862918821), (1436, 0.0), (1437, 0.0), (1438, 0.0), (1439, 0.0), (1440, 0.0), (1441, 0.033629049216712344), (1442, 0.01700154075149979), (1443, 0.017759293117250222), (1444, 0.0), (1445, 0.02470111861098723), (1446, 0.0), (1447, 0.0), (1448, 0.0), (1449, 0.0), (1450, 0.052815150332714285), (1451, 0.0), (1452, 0.0), (1453, 0.0), (1454, 0.02117151811345928), (1455, 0.0), (1456, 0.015812156674027817), (1457, 0.0), (1458, 0.015379344585117603), (1459, 0.0), (1460, 0.02133985818774437), (1461, 0.0), (1462, 0.0), (1463, 0.0), (1464, 0.0), (1465, 0.0), (1466, 0.0), (1467, 0.0), (1468, 0.0), (1469, 0.0), (1470, 0.0), (1471, 0.0), (1472, 0.0), (1473, 0.0), (1474, 0.0), (1475, 0.0), (1476, 0.037865687801795854), (1477, 0.0), (1478, 0.0), (1479, 0.0), (1480, 0.0), (1481, 0.03718901542155936), (1482, 0.08760284628562734), (1483, 0.0), (1484, 0.0), (1485, 0.017234927792005632), (1486, 0.025921621835054278), (1487, 0.0), (1488, 0.018609448563878136), (1489, 0.0), (1490, 0.0), (1491, 0.0), (1492, 0.015079585368970631), (1493, 0.0), (1494, 0.01847787324321172), (1495, 0.0), (1496, 0.0), (1497, 0.0), (1498, 0.0), (1499, 0.0), (1500, 0.0), (1501, 0.0), (1502, 0.0), (1503, 0.01591263933128601), (1504, 0.0), (1505, 0.037263978307622264), (1506, 0.0), (1507, 0.0), (1508, 0.0), (1509, 0.016502273324451682), (1510, 0.0), (1511, 0.0), (1512, 0.0), (1513, 0.019562212263987244), (1514, 0.0), (1515, 0.0), (1516, 0.0), (1517, 0.0), (1518, 0.0), (1519, 0.0), (1520, 0.0), (1521, 0.0), (1522, 0.0), (1523, 0.02931762373515414), (1524, 0.0), (1525, 0.0), (1526, 0.0), (1527, 0.01788688182853703), (1528, 0.0), (1529, 0.0), (1530, 0.0), (1531, 0.019978606617316843), (1532, 0.0), (1533, 0.0), (1534, 0.0), (1535, 0.0), (1536, 0.0), (1537, 0.03348405644042188), (1538, 0.0), (1539, 0.0), (1540, 0.02195196218097907), (1541, 0.0), (1542, 0.0), (1543, 0.0), (1544, 0.019219511866453914), (1545, 0.0), (1546, 0.0), (1547, 0.0), (1548, 0.02279905585907276), (1549, 0.0), (1550, 0.019228230395837938), (1551, 0.0), (1552, 0.0), (1553, 0.015172335914354141), (1554, 0.0), (1555, 0.0), (1556, 0.0), (1557, 0.0), (1558, 0.0), (1559, 0.0), (1560, 0.0), (1561, 0.0), (1562, 0.0313008256247481), (1563, 0.0), (1564, 0.0), (1565, 0.0), (1566, 0.0), (1567, 0.0), (1568, 0.018328887077778015), (1569, 0.0), (1570, 0.0), (1571, 0.0), (1572, 0.0), (1573, 0.0), (1574, 0.0), (1575, 0.0), (1576, 0.01555126460168947), (1577, 0.0), (1578, 0.0), (1579, 0.016067201933503687), (1580, 0.0), (1581, 0.0), (1582, 0.0), (1583, 0.0), (1584, 0.0), (1585, 0.0), (1586, 0.0), (1587, 0.0), (1588, 0.0), (1589, 0.0), (1590, 0.0), (1591, 0.0), (1592, 0.022746209192774265), (1593, 0.0), (1594, 0.0), (1595, 0.036446651529498365), (1596, 0.0), (1597, 0.0), (1598, 0.0), (1599, 0.0), (1600, 0.0), (1601, 0.0), (1602, 0.0), (1603, 0.0), (1604, 0.0), (1605, 0.0), (1606, 0.0), (1607, 0.0), (1608, 0.0), (1609, 0.0), (1610, 0.019272212571421633), (1611, 0.0435330987305842), (1612, 0.0), (1613, 0.0), (1614, 0.0), (1615, 0.0), (1616, 0.0), (1617, 0.018200765303157215), (1618, 0.0), (1619, 0.0), (1620, 0.0), (1621, 0.0), (1622, 0.0), (1623, 0.0), (1624, 0.02618389214066831), (1625, 0.0), (1626, 0.0), (1627, 0.0), (1628, 0.0), (1629, 0.0), (1630, 0.0), (1631, 0.0), (1632, 0.0), (1633, 0.0), (1634, 0.0), (1635, 0.03287036035185211), (1636, 0.0), (1637, 0.0), (1638, 0.019148380303209162), (1639, 0.0), (1640, 0.0), (1641, 0.0), (1642, 0.0), (1643, 0.0), (1644, 0.0), (1645, 0.0), (1646, 0.0), (1647, 0.0), (1648, 0.0), (1649, 0.0), (1650, 0.0166391644591321), (1651, 0.0), (1652, 0.0), (1653, 0.0), (1654, 0.0), (1655, 0.0), (1656, 0.02021098343339583), (1657, 0.0), (1658, 0.0), (1659, 0.0), (1660, 0.0), (1661, 0.0), (1662, 0.035517263218864406), (1663, 0.0), (1664, 0.0), (1665, 0.018042157137918707), (1666, 0.0), (1667, 0.0), (1668, 0.0), (1669, 0.0), (1670, 0.0), (1671, 0.0), (1672, 0.0), (1673, 0.0), (1674, 0.0), (1675, 0.0), (1676, 0.032545226939835206), (1677, 0.01919067584984977), (1678, 0.0), (1679, 0.0), (1680, 0.017540902881803433), (1681, 0.0), (1682, 0.018665842049563952), (1683, 0.0), (1684, 0.0), (1685, 0.0), (1686, 0.0), (1687, 0.0), (1688, 0.0), (1689, 0.0), (1690, 0.015660524942246627), (1691, 0.0), (1692, 0.0), (1693, 0.017028493821100967), (1694, 0.017536405927129704), (1695, 0.0), (1696, 0.0), (1697, 0.0), (1698, 0.0), (1699, 0.03478539636196586), (1700, 0.01988795635889335), (1701, 0.013611771096781532), (1702, 0.0), (1703, 0.0), (1704, 0.0), (1705, 0.0), (1706, 0.0), (1707, 0.0), (1708, 0.0), (1709, 0.0), (1710, 0.0), (1711, 0.0), (1712, 0.02017885066997845), (1713, 0.0), (1714, 0.0), (1715, 0.0), (1716, 0.0), (1717, 0.0), (1718, 0.0), (1719, 0.0), (1720, 0.023439801140986462), (1721, 0.0), (1722, 0.0), (1723, 0.0), (1724, 0.0), (1725, 0.0), (1726, 0.0), (1727, 0.0), (1728, 0.014367675239635657), (1729, 0.0), (1730, 0.0), (1731, 0.019348645779576696), (1732, 0.0), (1733, 0.0), (1734, 0.0), (1735, 0.019230244720692177), (1736, 0.0), (1737, 0.0), (1738, 0.0), (1739, 0.0), (1740, 0.0), (1741, 0.0), (1742, 0.0), (1743, 0.01539921920169571), (1744, 0.0), (1745, 0.0), (1746, 0.016227691174174018), (1747, 0.0), (1748, 0.0), (1749, 0.01777747949148568), (1750, 0.0), (1751, 0.0), (1752, 0.0), (1753, 0.0), (1754, 0.0), (1755, 0.0), (1756, 0.0), (1757, 0.0), (1758, 0.0), (1759, 0.0), (1760, 0.03509898073485163), (1761, 0.0), (1762, 0.0), (1763, 0.0), (1764, 0.015463874720794267), (1765, 0.0), (1766, 0.0), (1767, 0.0), (1768, 0.0), (1769, 0.03397720441242676), (1770, 0.0), (1771, 0.0), (1772, 0.0), (1773, 0.0), (1774, 0.0), (1775, 0.0), (1776, 0.017512548707265718), (1777, 0.0), (1778, 0.0), (1779, 0.032115972386490756), (1780, 0.022161246666586823), (1781, 0.0), (1782, 0.0), (1783, 0.0), (1784, 0.021415219930827043), (1785, 0.0), (1786, 0.020849400616138446), (1787, 0.0), (1788, 0.0), (1789, 0.0), (1790, 0.0), (1791, 0.0), (1792, 0.0), (1793, 0.016587026122908084), (1794, 0.0), (1795, 0.0), (1796, 0.0), (1797, 0.07215901613741946), (1798, 0.01988700353064252), (1799, 0.0), (1800, 0.0), (1801, 0.0), (1802, 0.03570880265641952), (1803, 0.0), (1804, 0.0), (1805, 0.0), (1806, 0.0), (1807, 0.0), (1808, 0.0), (1809, 0.0), (1810, 0.0), (1811, 0.0), (1812, 0.0), (1813, 0.0), (1814, 0.01746942477121256), (1815, 0.0), (1816, 0.0), (1817, 0.0), (1818, 0.01624997304833743), (1819, 0.0), (1820, 0.0), (1821, 0.0), (1822, 0.0), (1823, 0.0), (1824, 0.0), (1825, 0.0), (1826, 0.0), (1827, 0.021660676828551616), (1828, 0.0), (1829, 0.036468477129934604), (1830, 0.016933846797555545), (1831, 0.01831907599882888), (1832, 0.0), (1833, 0.0), (1834, 0.0), (1835, 0.0), (1836, 0.0), (1837, 0.0), (1838, 0.0), (1839, 0.0), (1840, 0.0), (1841, 0.0), (1842, 0.0), (1843, 0.0), (1844, 0.0), (1845, 0.0), (1846, 0.0), (1847, 0.0), (1848, 0.0), (1849, 0.01958876986644811), (1850, 0.0), (1851, 0.0), (1852, 0.0), (1853, 0.0), (1854, 0.0), (1855, 0.03794458437495734), (1856, 0.0), (1857, 0.0), (1858, 0.0), (1859, 0.0), (1860, 0.0), (1861, 0.0), (1862, 0.0), (1863, 0.0), (1864, 0.0), (1865, 0.0), (1866, 0.0), (1867, 0.07725968711141262), (1868, 0.0), (1869, 0.0), (1870, 0.015609214884674873), (1871, 0.0), (1872, 0.0), (1873, 0.0), (1874, 0.019406779244908003), (1875, 0.0), (1876, 0.0), (1877, 0.0), (1878, 0.031855462806748294), (1879, 0.0), (1880, 0.0), (1881, 0.0), (1882, 0.0), (1883, 0.0), (1884, 0.0), (1885, 0.0), (1886, 0.0), (1887, 0.0), (1888, 0.0), (1889, 0.01870936826874886), (1890, 0.0), (1891, 0.0), (1892, 0.0), (1893, 0.0), (1894, 0.019811290550548456), (1895, 0.0), (1896, 0.0), (1897, 0.0), (1898, 0.03575809698205103), (1899, 0.0), (1900, 0.0), (1901, 0.03911236310288273), (1902, 0.01957092917213501), (1903, 0.036353270235063226), (1904, 0.0), (1905, 0.0), (1906, 0.0), (1907, 0.0), (1908, 0.0), (1909, 0.0), (1910, 0.0), (1911, 0.0), (1912, 0.0), (1913, 0.0), (1914, 0.0), (1915, 0.023647977643751598), (1916, 0.0), (1917, 0.0), (1918, 0.0), (1919, 0.0), (1920, 0.016420384958298506), (1921, 0.0), (1922, 0.0), (1923, 0.0), (1924, 0.0), (1925, 0.0), (1926, 0.01973043320205273), (1927, 0.0), (1928, 0.03668390507044304), (1929, 0.0), (1930, 0.0), (1931, 0.017733044234978387), (1932, 0.01938311581867245), (1933, 0.02003379789736808), (1934, 0.016343851907476968), (1935, 0.0), (1936, 0.038415110834694795), (1937, 0.018545465721492647), (1938, 0.0), (1939, 0.0), (1940, 0.0), (1941, 0.0), (1942, 0.0), (1943, 0.0), (1944, 0.0166467270391912), (1945, 0.0), (1946, 0.0), (1947, 0.0), (1948, 0.0), (1949, 0.0), (1950, 0.0), (1951, 0.0), (1952, 0.0), (1953, 0.0), (1954, 0.08261549810548931), (1955, 0.0), (1956, 0.0), (1957, 0.0), (1958, 0.0), (1959, 0.0), (1960, 0.0), (1961, 0.0), (1962, 0.0), (1963, 0.032073111230383644), (1964, 0.0), (1965, 0.0), (1966, 0.0), (1967, 0.0), (1968, 0.06365101286780148), (1969, 0.018177007740837033), (1970, 0.0), (1971, 0.0), (1972, 0.0), (1973, 0.0), (1974, 0.0), (1975, 0.0), (1976, 0.0), (1977, 0.0), (1978, 0.0), (1979, 0.0), (1980, 0.0), (1981, 0.0), (1982, 0.0), (1983, 0.0), (1984, 0.0), (1985, 0.0), (1986, 0.0), (1987, 0.0), (1988, 0.01741554392309786), (1989, 0.019207394044722624), (1990, 0.01662338600385226), (1991, 0.0), (1992, 0.0), (1993, 0.03346294390012903), (1994, 0.0), (1995, 0.0), (1996, 0.0), (1997, 0.0), (1998, 0.0), (1999, 0.0), (2000, 0.0), (2001, 0.0), (2002, 0.0), (2003, 0.0), (2004, 0.0), (2005, 0.03512457366763103), (2006, 0.0), (2007, 0.0), (2008, 0.0), (2009, 0.0), (2010, 0.0), (2011, 0.0), (2012, 0.0), (2013, 0.0), (2014, 0.0), (2015, 0.0), (2016, 0.0), (2017, 0.0), (2018, 0.0), (2019, 0.0), (2020, 0.0), (2021, 0.0), (2022, 0.0), (2023, 0.0), (2024, 0.0), (2025, 0.014721507139747823), (2026, 0.017866039636185525), (2027, 0.0), (2028, 0.04532309830676483), (2029, 0.0), (2030, 0.02502758349005464), (2031, 0.0), (2032, 0.0), (2033, 0.0), (2034, 0.0), (2035, 0.0), (2036, 0.0), (2037, 0.0), (2038, 0.0), (2039, 0.0), (2040, 0.0), (2041, 0.0), (2042, 0.0), (2043, 0.015856353795599226), (2044, 0.01933824229366739), (2045, 0.0), (2046, 0.0), (2047, 0.0), (2048, 0.0), (2049, 0.0), (2050, 0.0), (2051, 0.0), (2052, 0.0), (2053, 0.0), (2054, 0.0), (2055, 0.01805586191404499), (2056, 0.0), (2057, 0.0), (2058, 0.0), (2059, 0.0), (2060, 0.0), (2061, 0.0), (2062, 0.0), (2063, 0.05258086856300288), (2064, 0.0321393765664022), (2065, 0.03364347873849984), (2066, 0.0), (2067, 0.0), (2068, 0.017676301835959717), (2069, 0.0), (2070, 0.0), (2071, 0.0), (2072, 0.0), (2073, 0.018901507242823936), (2074, 0.0), (2075, 0.0), (2076, 0.0), (2077, 0.047702940599566916), (2078, 0.01401191855491361), (2079, 0.0), (2080, 0.0), (2081, 0.0), (2082, 0.0), (2083, 0.0), (2084, 0.0), (2085, 0.0), (2086, 0.019370547385097067), (2087, 0.0), (2088, 0.019970981032334183), (2089, 0.0), (2090, 0.0), (2091, 0.0), (2092, 0.018328202326944196), (2093, 0.0), (2094, 0.0), (2095, 0.0), (2096, 0.0), (2097, 0.0), (2098, 0.0), (2099, 0.0), (2100, 0.0), (2101, 0.0), (2102, 0.0), (2103, 0.0), (2104, 0.0), (2105, 0.0), (2106, 0.0), (2107, 0.0), (2108, 0.019457116989702396), (2109, 0.0), (2110, 0.029332376797954675), (2111, 0.0), (2112, 0.0), (2113, 0.0), (2114, 0.0), (2115, 0.0), (2116, 0.0), (2117, 0.0), (2118, 0.0), (2119, 0.01754803211023008), (2120, 0.0), (2121, 0.01857746222381163), (2122, 0.0), (2123, 0.0), (2124, 0.0), (2125, 0.0), (2126, 0.0), (2127, 0.0), (2128, 0.0), (2129, 0.021675864925174065), (2130, 0.0), (2131, 0.0), (2132, 0.0), (2133, 0.0), (2134, 0.0), (2135, 0.0), (2136, 0.0), (2137, 0.0), (2138, 0.0), (2139, 0.0), (2140, 0.0), (2141, 0.016238091664089432), (2142, 0.0), (2143, 0.0), (2144, 0.0), (2145, 0.0), (2146, 0.0), (2147, 0.03672658046874991), (2148, 0.018853091115564113), (2149, 0.0), (2150, 0.0), (2151, 0.0), (2152, 0.0), (2153, 0.0), (2154, 0.0), (2155, 0.04399504495689953), (2156, 0.016673906120114806), (2157, 0.0), (2158, 0.0), (2159, 0.0), (2160, 0.017031706492227516), (2161, 0.03097860265280922), (2162, 0.0), (2163, 0.0), (2164, 0.0), (2165, 0.0), (2166, 0.0), (2167, 0.0), (2168, 0.0), (2169, 0.0), (2170, 0.018536676217821565), (2171, 0.0), (2172, 0.0), (2173, 0.0), (2174, 0.0), (2175, 0.0), (2176, 0.0), (2177, 0.02034560923625097), (2178, 0.0), (2179, 0.0), (2180, 0.0), (2181, 0.0), (2182, 0.01836334330367638), (2183, 0.0), (2184, 0.0), (2185, 0.0), (2186, 0.0), (2187, 0.0), (2188, 0.0), (2189, 0.0), (2190, 0.0), (2191, 0.0), (2192, 0.0), (2193, 0.0), (2194, 0.0), (2195, 0.03258529753766762), (2196, 0.0), (2197, 0.017027380058947304), (2198, 0.0), (2199, 0.0), (2200, 0.0), (2201, 0.0), (2202, 0.0), (2203, 0.015890791315004746), (2204, 0.02028372641419973), (2205, 0.017520214247329267), (2206, 0.0), (2207, 0.0), (2208, 0.0), (2209, 0.037380691275693635), (2210, 0.0), (2211, 0.0), (2212, 0.0), (2213, 0.02174668105304586), (2214, 0.01902550627663019), (2215, 0.0), (2216, 0.0), (2217, 0.0), (2218, 0.021477723536105452), (2219, 0.0), (2220, 0.0), (2221, 0.0), (2222, 0.0), (2223, 0.0), (2224, 0.0), (2225, 0.0), (2226, 0.017189144163762122), (2227, 0.0), (2228, 0.0), (2229, 0.0), (2230, 0.0), (2231, 0.0), (2232, 0.0), (2233, 0.0), (2234, 0.01731923844777416), (2235, 0.0), (2236, 0.0), (2237, 0.0), (2238, 0.0), (2239, 0.0), (2240, 0.0), (2241, 0.0), (2242, 0.0), (2243, 0.0), (2244, 0.0), (2245, 0.0), (2246, 0.0), (2247, 0.0), (2248, 0.017323320352646113), (2249, 0.0), (2250, 0.0), (2251, 0.0), (2252, 0.0), (2253, 0.0), (2254, 0.0), (2255, 0.0), (2256, 0.0), (2257, 0.0), (2258, 0.0), (2259, 0.0), (2260, 0.0), (2261, 0.0437301403358923), (2262, 0.0), (2263, 0.0), (2264, 0.021452151155522587), (2265, 0.0), (2266, 0.02278579754165811), (2267, 0.0), (2268, 0.0), (2269, 0.0), (2270, 0.0), (2271, 0.0), (2272, 0.0), (2273, 0.0), (2274, 0.0), (2275, 0.0), (2276, 0.0), (2277, 0.0), (2278, 0.0), (2279, 0.0), (2280, 0.0), (2281, 0.0), (2282, 0.0), (2283, 0.0), (2284, 0.0), (2285, 0.0), (2286, 0.0), (2287, 0.0), (2288, 0.0), (2289, 0.0), (2290, 0.0), (2291, 0.0), (2292, 0.0), (2293, 0.0), (2294, 0.0), (2295, 0.0), (2296, 0.015598715596204769), (2297, 0.0), (2298, 0.0), (2299, 0.04316284991775028), (2300, 0.018147806834251767), (2301, 0.0), (2302, 0.0), (2303, 0.0), (2304, 0.0), (2305, 0.0), (2306, 0.0), (2307, 0.0), (2308, 0.0), (2309, 0.0), (2310, 0.0), (2311, 0.0), (2312, 0.0), (2313, 0.0), (2314, 0.0), (2315, 0.015831114507183316), (2316, 0.0), (2317, 0.0), (2318, 0.0), (2319, 0.0), (2320, 0.0), (2321, 0.0), (2322, 0.019227515455903156), (2323, 0.0), (2324, 0.0), (2325, 0.019973358462581272), (2326, 0.0), (2327, 0.017192635371337358), (2328, 0.0), (2329, 0.0), (2330, 0.0), (2331, 0.0), (2332, 0.0), (2333, 0.0), (2334, 0.0), (2335, 0.0), (2336, 0.0), (2337, 0.0), (2338, 0.0), (2339, 0.0), (2340, 0.0), (2341, 0.0), (2342, 0.0), (2343, 0.0), (2344, 0.0), (2345, 0.0), (2346, 0.04415759200743334), (2347, 0.0), (2348, 0.0), (2349, 0.0), (2350, 0.0), (2351, 0.0), (2352, 0.0), (2353, 0.0), (2354, 0.0), (2355, 0.0), (2356, 0.0), (2357, 0.0), (2358, 0.0), (2359, 0.04827898881907396), (2360, 0.01797011760803314), (2361, 0.0), (2362, 0.0), (2363, 0.0), (2364, 0.0), (2365, 0.0), (2366, 0.018180464607822366), (2367, 0.0), (2368, 0.022168243526736447), (2369, 0.0), (2370, 0.0), (2371, 0.0), (2372, 0.0), (2373, 0.0), (2374, 0.0), (2375, 0.0), (2376, 0.0), (2377, 0.0), (2378, 0.0), (2379, 0.0), (2380, 0.0), (2381, 0.0), (2382, 0.0), (2383, 0.043745127627610736), (2384, 0.0), (2385, 0.018382327019517457), (2386, 0.0), (2387, 0.0), (2388, 0.0), (2389, 0.0), (2390, 0.0), (2391, 0.0), (2392, 0.0), (2393, 0.0), (2394, 0.0), (2395, 0.0), (2396, 0.0), (2397, 0.0), (2398, 0.015549206545257814), (2399, 0.0), (2400, 0.0), (2401, 0.0), (2402, 0.01672608033762012), (2403, 0.0), (2404, 0.0), (2405, 0.0), (2406, 0.0), (2407, 0.0), (2408, 0.0), (2409, 0.0), (2410, 0.0), (2411, 0.0), (2412, 0.0), (2413, 0.020983026135145785), (2414, 0.0), (2415, 0.0), (2416, 0.05625050535469184), (2417, 0.0), (2418, 0.0), (2419, 0.0), (2420, 0.0), (2421, 0.0), (2422, 0.031228096500156944), (2423, 0.0), (2424, 0.0), (2425, 0.0), (2426, 0.0), (2427, 0.0), (2428, 0.0), (2429, 0.0), (2430, 0.01772907256346357), (2431, 0.0), (2432, 0.016847060643412248), (2433, 0.0), (2434, 0.0), (2435, 0.0), (2436, 0.0), (2437, 0.0), (2438, 0.0), (2439, 0.0), (2440, 0.0), (2441, 0.0), (2442, 0.0), (2443, 0.029607529490764502), (2444, 0.0), (2445, 0.01838179596889379), (2446, 0.0), (2447, 0.0), (2448, 0.0), (2449, 0.0), (2450, 0.0), (2451, 0.0), (2452, 0.0), (2453, 0.0), (2454, 0.0), (2455, 0.0), (2456, 0.0), (2457, 0.0), (2458, 0.0), (2459, 0.0), (2460, 0.0), (2461, 0.04857397640200295), (2462, 0.0), (2463, 0.0), (2464, 0.0), (2465, 0.017925760999376126), (2466, 0.0), (2467, 0.0), (2468, 0.0), (2469, 0.0), (2470, 0.0), (2471, 0.0), (2472, 0.0), (2473, 0.0), (2474, 0.0), (2475, 0.0), (2476, 0.020697907497630057), (2477, 0.0), (2478, 0.0), (2479, 0.0), (2480, 0.0), (2481, 0.0), (2482, 0.0), (2483, 0.0), (2484, 0.0), (2485, 0.0), (2486, 0.0), (2487, 0.0), (2488, 0.021809501100943398), (2489, 0.0), (2490, 0.0), (2491, 0.0), (2492, 0.0), (2493, 0.0), (2494, 0.020529291197397676), (2495, 0.0), (2496, 0.019435864455949713), (2497, 0.021907080418427136), (2498, 0.0), (2499, 0.0), (2500, 0.0), (2501, 0.0), (2502, 0.0), (2503, 0.0), (2504, 0.0), (2505, 0.0), (2506, 0.0), (2507, 0.0), (2508, 0.0), (2509, 0.0), (2510, 0.0), (2511, 0.0), (2512, 0.0), (2513, 0.0), (2514, 0.0), (2515, 0.0), (2516, 0.04156622549572381), (2517, 0.029519363607554937), (2518, 0.019391829076373435), (2519, 0.0), (2520, 0.0), (2521, 0.0), (2522, 0.0), (2523, 0.0), (2524, 0.0), (2525, 0.0), (2526, 0.03221833261587679), (2527, 0.0), (2528, 0.01743941700693484), (2529, 0.0), (2530, 0.0), (2531, 0.0), (2532, 0.0), (2533, 0.0), (2534, 0.0), (2535, 0.0), (2536, 0.0), (2537, 0.0), (2538, 0.0), (2539, 0.0), (2540, 0.03675550942194088), (2541, 0.0), (2542, 0.0), (2543, 0.0), (2544, 0.0), (2545, 0.0), (2546, 0.0), (2547, 0.0), (2548, 0.0), (2549, 0.0), (2550, 0.0), (2551, 0.0), (2552, 0.0), (2553, 0.01671987820263917), (2554, 0.0), (2555, 0.0), (2556, 0.0), (2557, 0.0), (2558, 0.0), (2559, 0.0), (2560, 0.0), (2561, 0.0), (2562, 0.014242801619290164), (2563, 0.0), (2564, 0.0), (2565, 0.0), (2566, 0.0), (2567, 0.0), (2568, 0.0), (2569, 0.0), (2570, 0.022153885837983694), (2571, 0.0), (2572, 0.0), (2573, 0.0), (2574, 0.0), (2575, 0.0), (2576, 0.0), (2577, 0.0), (2578, 0.0), (2579, 0.020201739748844896), (2580, 0.035456772830880195), (2581, 0.0), (2582, 0.0), (2583, 0.0), (2584, 0.0), (2585, 0.0), (2586, 0.0), (2587, 0.0), (2588, 0.0210835093065884), (2589, 0.0), (2590, 0.0), (2591, 0.0), (2592, 0.0), (2593, 0.0), (2594, 0.0), (2595, 0.0), (2596, 0.0), (2597, 0.0), (2598, 0.0), (2599, 0.0), (2600, 0.0), (2601, 0.0), (2602, 0.015397323127273599), (2603, 0.0), (2604, 0.041667143897190374), (2605, 0.0), (2606, 0.0), (2607, 0.0), (2608, 0.0), (2609, 0.0), (2610, 0.0), (2611, 0.0), (2612, 0.0), (2613, 0.0), (2614, 0.0), (2615, 0.0), (2616, 0.0), (2617, 0.0), (2618, 0.0), (2619, 0.0), (2620, 0.018436245271131572), (2621, 0.0), (2622, 0.0), (2623, 0.0), (2624, 0.0), (2625, 0.019907339957062075), (2626, 0.021408247806493877), (2627, 0.016192709211831597), (2628, 0.0), (2629, 0.0), (2630, 0.0), (2631, 0.0), (2632, 0.0), (2633, 0.0), (2634, 0.0), (2635, 0.0), (2636, 0.0), (2637, 0.0), (2638, 0.0), (2639, 0.07023782047034777), (2640, 0.0), (2641, 0.0), (2642, 0.0), (2643, 0.0), (2644, 0.0), (2645, 0.0), (2646, 0.0), (2647, 0.020036223298866465), (2648, 0.0), (2649, 0.0), (2650, 0.0), (2651, 0.0), (2652, 0.0), (2653, 0.0), (2654, 0.01684833172552301), (2655, 0.0), (2656, 0.0), (2657, 0.0), (2658, 0.0), (2659, 0.0), (2660, 0.0), (2661, 0.0), (2662, 0.0), (2663, 0.0), (2664, 0.0), (2665, 0.0), (2666, 0.0), (2667, 0.0), (2668, 0.0), (2669, 0.0), (2670, 0.02158191463436436), (2671, 0.0), (2672, 0.0), (2673, 0.0416937199819924), (2674, 0.0), (2675, 0.04677860423926557), (2676, 0.0), (2677, 0.06181956998901373), (2678, 0.0), (2679, 0.0), (2680, 0.0), (2681, 0.018093182254274223), (2682, 0.0), (2683, 0.0), (2684, 0.0), (2685, 0.0), (2686, 0.0), (2687, 0.0), (2688, 0.0), (2689, 0.0), (2690, 0.0), (2691, 0.0), (2692, 0.0), (2693, 0.0), (2694, 0.0), (2695, 0.0), (2696, 0.0), (2697, 0.0), (2698, 0.0), (2699, 0.0), (2700, 0.0), (2701, 0.07621512882062279), (2702, 0.0), (2703, 0.0), (2704, 0.0), (2705, 0.0), (2706, 0.0), (2707, 0.0), (2708, 0.0), (2709, 0.0), (2710, 0.0), (2711, 0.022355938228627102), (2712, 0.0), (2713, 0.0), (2714, 0.0), (2715, 0.0), (2716, 0.0), (2717, 0.0), (2718, 0.0), (2719, 0.0), (2720, 0.0), (2721, 0.0), (2722, 0.0), (2723, 0.04975413001380699), (2724, 0.0), (2725, 0.0), (2726, 0.0), (2727, 0.0), (2728, 0.0), (2729, 0.0), (2730, 0.0), (2731, 0.0), (2732, 0.0), (2733, 0.0), (2734, 0.0), (2735, 0.0), (2736, 0.0), (2737, 0.0), (2738, 0.0), (2739, 0.0), (2740, 0.0), (2741, 0.0), (2742, 0.0), (2743, 0.0), (2744, 0.0), (2745, 0.0), (2746, 0.0), (2747, 0.018049864456323172), (2748, 0.0), (2749, 0.0), (2750, 0.0), (2751, 0.0), (2752, 0.0), (2753, 0.017558789083795837), (2754, 0.0), (2755, 0.019046698886188828), (2756, 0.0), (2757, 0.0), (2758, 0.0), (2759, 0.0), (2760, 0.0), (2761, 0.0), (2762, 0.0), (2763, 0.0), (2764, 0.0), (2765, 0.0), (2766, 0.02886127784657583), (2767, 0.0), (2768, 0.0), (2769, 0.0), (2770, 0.0), (2771, 0.0), (2772, 0.0), (2773, 0.0), (2774, 0.0), (2775, 0.0), (2776, 0.0), (2777, 0.0), (2778, 0.0), (2779, 0.0), (2780, 0.0), (2781, 0.0), (2782, 0.0), (2783, 0.0), (2784, 0.0), (2785, 0.0), (2786, 0.0), (2787, 0.0), (2788, 0.0), (2789, 0.0), (2790, 0.024921765528620892), (2791, 0.0), (2792, 0.0), (2793, 0.0), (2794, 0.0), (2795, 0.0), (2796, 0.0), (2797, 0.0), (2798, 0.01815657721511173), (2799, 0.0), (2800, 0.0), (2801, 0.020748134168738525), (2802, 0.01806062849009712), (2803, 0.0), (2804, 0.0), (2805, 0.03649397652876209), (2806, 0.0), (2807, 0.0), (2808, 0.0), (2809, 0.0), (2810, 0.0), (2811, 0.0), (2812, 0.0), (2813, 0.043945420380204575), (2814, 0.0), (2815, 0.0), (2816, 0.0), (2817, 0.0), (2818, 0.0), (2819, 0.0), (2820, 0.0), (2821, 0.0), (2822, 0.0), (2823, 0.0), (2824, 0.0), (2825, 0.0), (2826, 0.0), (2827, 0.0), (2828, 0.0), (2829, 0.022490538952019808), (2830, 0.0), (2831, 0.0), (2832, 0.0), (2833, 0.015326866446931577), (2834, 0.028658100605814852), (2835, 0.03609897434622604), (2836, 0.01864865094225241), (2837, 0.0), (2838, 0.0), (2839, 0.0), (2840, 0.0), (2841, 0.0), (2842, 0.020299767546346863), (2843, 0.0), (2844, 0.014190805104165843), (2845, 0.01567521212928234), (2846, 0.0), (2847, 0.0), (2848, 0.0), (2849, 0.0), (2850, 0.0), (2851, 0.0), (2852, 0.0), (2853, 0.0), (2854, 0.019990533147786742), (2855, 0.0), (2856, 0.0), (2857, 0.0), (2858, 0.0), (2859, 0.0), (2860, 0.0), (2861, 0.0), (2862, 0.016351212195116538), (2863, 0.0), (2864, 0.0), (2865, 0.0), (2866, 0.0), (2867, 0.0), (2868, 0.0), (2869, 0.0), (2870, 0.0), (2871, 0.0), (2872, 0.0), (2873, 0.0), (2874, 0.0), (2875, 0.0), (2876, 0.04399244670769674), (2877, 0.0), (2878, 0.0), (2879, 0.0), (2880, 0.0), (2881, 0.0), (2882, 0.025257458942115993), (2883, 0.0), (2884, 0.022866604470917904), (2885, 0.0), (2886, 0.0), (2887, 0.0), (2888, 0.0), (2889, 0.0), (2890, 0.0), (2891, 0.0), (2892, 0.0), (2893, 0.0), (2894, 0.0), (2895, 0.0), (2896, 0.0), (2897, 0.0), (2898, 0.0), (2899, 0.0), (2900, 0.0), (2901, 0.0), (2902, 0.0), (2903, 0.019290829593576624), (2904, 0.0), (2905, 0.0), (2906, 0.030365097835407157), (2907, 0.0), (2908, 0.0), (2909, 0.0), (2910, 0.03242879208948922), (2911, 0.0), (2912, 0.0), (2913, 0.0), (2914, 0.0), (2915, 0.0), (2916, 0.0), (2917, 0.015107585817246265), (2918, 0.03657491246622466), (2919, 0.019016960825418896), (2920, 0.0), (2921, 0.0), (2922, 0.0), (2923, 0.0), (2924, 0.0), (2925, 0.0), (2926, 0.0), (2927, 0.0), (2928, 0.03995097140432253), (2929, 0.0), (2930, 0.018689593821102444), (2931, 0.0), (2932, 0.0), (2933, 0.0), (2934, 0.0), (2935, 0.016387159935420982), (2936, 0.020898480609044687), (2937, 0.0), (2938, 0.0), (2939, 0.0), (2940, 0.0), (2941, 0.0), (2942, 0.0), (2943, 0.0), (2944, 0.0), (2945, 0.0), (2946, 0.0), (2947, 0.0), (2948, 0.0), (2949, 0.0), (2950, 0.0), (2951, 0.0), (2952, 0.0), (2953, 0.03308993571629111), (2954, 0.0), (2955, 0.0), (2956, 0.02165886810018322), (2957, 0.0), (2958, 0.0), (2959, 0.0), (2960, 0.0), (2961, 0.0), (2962, 0.0), (2963, 0.0), (2964, 0.0), (2965, 0.019534019881031817), (2966, 0.0), (2967, 0.0), (2968, 0.032995581390851646), (2969, 0.0), (2970, 0.0), (2971, 0.0), (2972, 0.0), (2973, 0.0), (2974, 0.0), (2975, 0.0), (2976, 0.0), (2977, 0.0), (2978, 0.0), (2979, 0.0), (2980, 0.018025705243348764), (2981, 0.0), (2982, 0.0), (2983, 0.0), (2984, 0.0), (2985, 0.0), (2986, 0.0), (2987, 0.0), (2988, 0.024712504925277566), (2989, 0.0), (2990, 0.0), (2991, 0.0), (2992, 0.0), (2993, 0.0), (2994, 0.0), (2995, 0.0), (2996, 0.0), (2997, 0.0), (2998, 0.0), (2999, 0.0), (3000, 0.031742554972467404), (3001, 0.020236418002929753), (3002, 0.0), (3003, 0.0), (3004, 0.0), (3005, 0.0), (3006, 0.0), (3007, 0.0), (3008, 0.020834283989504213), (3009, 0.0), (3010, 0.03518488735379631), (3011, 0.0), (3012, 0.0), (3013, 0.0), (3014, 0.0), (3015, 0.0), (3016, 0.0), (3017, 0.0), (3018, 0.0), (3019, 0.0), (3020, 0.0), (3021, 0.0), (3022, 0.0), (3023, 0.0), (3024, 0.03132220157124026), (3025, 0.0), (3026, 0.0), (3027, 0.0), (3028, 0.0), (3029, 0.02120749633580532), (3030, 0.0), (3031, 0.0), (3032, 0.0), (3033, 0.0), (3034, 0.0), (3035, 0.0), (3036, 0.0), (3037, 0.0), (3038, 0.0), (3039, 0.0), (3040, 0.0), (3041, 0.0), (3042, 0.0), (3043, 0.02076474266149041), (3044, 0.0), (3045, 0.01436600898035652), (3046, 0.0), (3047, 0.019471442583418958), (3048, 0.0200027771068559), (3049, 0.0), (3050, 0.0), (3051, 0.0), (3052, 0.0), (3053, 0.0), (3054, 0.022604222476815875), (3055, 0.0), (3056, 0.028509931424256674), (3057, 0.017830212659467087), (3058, 0.0), (3059, 0.0), (3060, 0.0), (3061, 0.0), (3062, 0.0), (3063, 0.0), (3064, 0.0), (3065, 0.0), (3066, 0.0), (3067, 0.0), (3068, 0.0), (3069, 0.0), (3070, 0.03462779354604848), (3071, 0.02193631074867841), (3072, 0.0), (3073, 0.0), (3074, 0.0), (3075, 0.0), (3076, 0.0), (3077, 0.0), (3078, 0.0), (3079, 0.0), (3080, 0.0), (3081, 0.046978783800761266), (3082, 0.0), (3083, 0.0), (3084, 0.0), (3085, 0.02976974132102713), (3086, 0.024895677808325113), (3087, 0.0), (3088, 0.0), (3089, 0.0), (3090, 0.02342214778903574), (3091, 0.03642490725919387), (3092, 0.0), (3093, 0.01955979184785199), (3094, 0.0), (3095, 0.0), (3096, 0.015051224943780413), (3097, 0.0), (3098, 0.021253211386962408), (3099, 0.0), (3100, 0.0), (3101, 0.0), (3102, 0.0), (3103, 0.0), (3104, 0.0), (3105, 0.0), (3106, 0.02014037835095934), (3107, 0.0), (3108, 0.0), (3109, 0.022195272202009286), (3110, 0.0), (3111, 0.0), (3112, 0.0), (3113, 0.0), (3114, 0.0), (3115, 0.0), (3116, 0.01932688175336561), (3117, 0.0), (3118, 0.0), (3119, 0.0), (3120, 0.0159369811477147), (3121, 0.0), (3122, 0.0), (3123, 0.0), (3124, 0.0), (3125, 0.0), (3126, 0.0), (3127, 0.0), (3128, 0.0), (3129, 0.0), (3130, 0.01694846380851692), (3131, 0.0), (3132, 0.0), (3133, 0.0), (3134, 0.0), (3135, 0.0), (3136, 0.0), (3137, 0.0), (3138, 0.0), (3139, 0.0), (3140, 0.0), (3141, 0.0), (3142, 0.0), (3143, 0.0), (3144, 0.0), (3145, 0.0), (3146, 0.0), (3147, 0.0), (3148, 0.0), (3149, 0.0), (3150, 0.0), (3151, 0.0), (3152, 0.0), (3153, 0.0), (3154, 0.0), (3155, 0.0), (3156, 0.019279201479908886), (3157, 0.0), (3158, 0.0), (3159, 0.0), (3160, 0.0), (3161, 0.0), (3162, 0.0), (3163, 0.0), (3164, 0.0), (3165, 0.0), (3166, 0.0), (3167, 0.0), (3168, 0.0), (3169, 0.017585385414540508), (3170, 0.0), (3171, 0.0), (3172, 0.0), (3173, 0.0), (3174, 0.0), (3175, 0.0), (3176, 0.0), (3177, 0.0), (3178, 0.0), (3179, 0.0), (3180, 0.03396388188848663), (3181, 0.0), (3182, 0.0), (3183, 0.0), (3184, 0.0), (3185, 0.0), (3186, 0.020794470454607007), (3187, 0.0), (3188, 0.0), (3189, 0.05610523872270249), (3190, 0.0), (3191, 0.0), (3192, 0.0), (3193, 0.0), (3194, 0.0), (3195, 0.0), (3196, 0.0), (3197, 0.0), (3198, 0.0), (3199, 0.0), (3200, 0.0), (3201, 0.048696562389750536), (3202, 0.0), (3203, 0.0), (3204, 0.0), (3205, 0.02756735597178394), (3206, 0.020411359660966424), (3207, 0.0), (3208, 0.0), (3209, 0.0), (3210, 0.0), (3211, 0.0), (3212, 0.0), (3213, 0.03347371245518513), (3214, 0.0), (3215, 0.0), (3216, 0.0), (3217, 0.0), (3218, 0.0), (3219, 0.0), (3220, 0.0), (3221, 0.0), (3222, 0.0), (3223, 0.0), (3224, 0.018098912822710735), (3225, 0.0), (3226, 0.0), (3227, 0.0), (3228, 0.0), (3229, 0.0), (3230, 0.0), (3231, 0.0), (3232, 0.0), (3233, 0.0), (3234, 0.0), (3235, 0.0), (3236, 0.0), (3237, 0.018021457837734296), (3238, 0.03404024448612267), (3239, 0.0), (3240, 0.0), (3241, 0.018875267134339152), (3242, 0.0), (3243, 0.02213233437015002), (3244, 0.0), (3245, 0.0), (3246, 0.0), (3247, 0.017073647067773593), (3248, 0.0), (3249, 0.0), (3250, 0.0), (3251, 0.0), (3252, 0.0), (3253, 0.0), (3254, 0.051069529424592836), (3255, 0.0230918130168166), (3256, 0.021649617198675107), (3257, 0.0), (3258, 0.0), (3259, 0.0), (3260, 0.0), (3261, 0.0), (3262, 0.0), (3263, 0.0), (3264, 0.0), (3265, 0.0), (3266, 0.02487236689623837), (3267, 0.0), (3268, 0.0), (3269, 0.0), (3270, 0.0), (3271, 0.0), (3272, 0.0), (3273, 0.0), (3274, 0.0), (3275, 0.02323756613159846), (3276, 0.0), (3277, 0.0), (3278, 0.017207364299170035), (3279, 0.0), (3280, 0.0), (3281, 0.0), (3282, 0.0), (3283, 0.05336995810053351), (3284, 0.0), (3285, 0.0), (3286, 0.0), (3287, 0.0), (3288, 0.0), (3289, 0.0), (3290, 0.04012094511950383), (3291, 0.0), (3292, 0.0), (3293, 0.0), (3294, 0.0), (3295, 0.01676986186420473), (3296, 0.0), (3297, 0.0), (3298, 0.04186212394610731), (3299, 0.0), (3300, 0.0), (3301, 0.0155385411640495), (3302, 0.0), (3303, 0.0), (3304, 0.0), (3305, 0.0), (3306, 0.01828030058778948), (3307, 0.0), (3308, 0.0), (3309, 0.0), (3310, 0.0), (3311, 0.03534979341122879), (3312, 0.0), (3313, 0.02064993096935162), (3314, 0.0), (3315, 0.0), (3316, 0.0), (3317, 0.014327571643853511), (3318, 0.0), (3319, 0.0), (3320, 0.0), (3321, 0.0), (3322, 0.0), (3323, 0.0), (3324, 0.0), (3325, 0.0), (3326, 0.0), (3327, 0.0), (3328, 0.0), (3329, 0.0), (3330, 0.0), (3331, 0.05105867327186532), (3332, 0.01927026414910427), (3333, 0.0), (3334, 0.0), (3335, 0.0), (3336, 0.0), (3337, 0.0), (3338, 0.0), (3339, 0.0), (3340, 0.0), (3341, 0.0), (3342, 0.01757122639308315), (3343, 0.0), (3344, 0.0), (3345, 0.0), (3346, 0.0), (3347, 0.0), (3348, 0.0), (3349, 0.0), (3350, 0.0), (3351, 0.0), (3352, 0.058194966891000996), (3353, 0.0), (3354, 0.0), (3355, 0.0), (3356, 0.0), (3357, 0.0), (3358, 0.0), (3359, 0.0), (3360, 0.0), (3361, 0.0), (3362, 0.0), (3363, 0.0), (3364, 0.0), (3365, 0.026123232733611626), (3366, 0.0), (3367, 0.0), (3368, 0.0), (3369, 0.0), (3370, 0.0), (3371, 0.0), (3372, 0.0), (3373, 0.0), (3374, 0.0), (3375, 0.0), (3376, 0.0), (3377, 0.0), (3378, 0.039334500060668916), (3379, 0.0), (3380, 0.0), (3381, 0.0), (3382, 0.0), (3383, 0.0), (3384, 0.020901748731549052), (3385, 0.0), (3386, 0.0), (3387, 0.0), (3388, 0.0), (3389, 0.015916853739603887), (3390, 0.0), (3391, 0.0), (3392, 0.0), (3393, 0.0), (3394, 0.0), (3395, 0.021944468164038767), (3396, 0.0), (3397, 0.0), (3398, 0.0), (3399, 0.0), (3400, 0.0), (3401, 0.0), (3402, 0.0), (3403, 0.0), (3404, 0.0), (3405, 0.019739287665112137), (3406, 0.0), (3407, 0.018151240679237263), (3408, 0.0), (3409, 0.0), (3410, 0.0), (3411, 0.0), (3412, 0.0), (3413, 0.0), (3414, 0.0), (3415, 0.02134527741325389), (3416, 0.0), (3417, 0.0), (3418, 0.015532832465420822), (3419, 0.0), (3420, 0.0), (3421, 0.0), (3422, 0.0), (3423, 0.0), (3424, 0.0), (3425, 0.0), (3426, 0.0), (3427, 0.020016395099639022), (3428, 0.0), (3429, 0.0), (3430, 0.0), (3431, 0.0), (3432, 0.0), (3433, 0.0), (3434, 0.0), (3435, 0.0), (3436, 0.0), (3437, 0.0), (3438, 0.019594483093839075), (3439, 0.0), (3440, 0.0), (3441, 0.0), (3442, 0.01994314888139635), (3443, 0.0), (3444, 0.0), (3445, 0.0), (3446, 0.0), (3447, 0.0), (3448, 0.02165727507101489), (3449, 0.0), (3450, 0.0), (3451, 0.0), (3452, 0.0), (3453, 0.0), (3454, 0.01759999574575276), (3455, 0.0), (3456, 0.0), (3457, 0.0), (3458, 0.026003439308104205), (3459, 0.040098192527041096), (3460, 0.0), (3461, 0.0), (3462, 0.018481050647047435), (3463, 0.018108244735492204), (3464, 0.0), (3465, 0.0), (3466, 0.01619062526001924), (3467, 0.0), (3468, 0.0), (3469, 0.0), (3470, 0.0), (3471, 0.0), (3472, 0.0), (3473, 0.0), (3474, 0.0), (3475, 0.0), (3476, 0.0), (3477, 0.0), (3478, 0.0), (3479, 0.0), (3480, 0.0), (3481, 0.0), (3482, 0.0), (3483, 0.0), (3484, 0.0), (3485, 0.0), (3486, 0.0), (3487, 0.0), (3488, 0.0), (3489, 0.0), (3490, 0.0), (3491, 0.0), (3492, 0.0), (3493, 0.0), (3494, 0.031297100641497606), (3495, 0.018273731563893645), (3496, 0.0), (3497, 0.0), (3498, 0.0), (3499, 0.0), (3500, 0.0), (3501, 0.0), (3502, 0.0), (3503, 0.0), (3504, 0.017934287709948322), (3505, 0.0), (3506, 0.0), (3507, 0.0), (3508, 0.0), (3509, 0.0), (3510, 0.0), (3511, 0.0), (3512, 0.029685150633376838), (3513, 0.0), (3514, 0.0), (3515, 0.0), (3516, 0.0), (3517, 0.053220262325521586), (3518, 0.0), (3519, 0.0), (3520, 0.0), (3521, 0.0), (3522, 0.0), (3523, 0.0), (3524, 0.06286644857010504), (3525, 0.0), (3526, 0.0), (3527, 0.0), (3528, 0.0), (3529, 0.0), (3530, 0.0), (3531, 0.0), (3532, 0.0), (3533, 0.0), (3534, 0.0), (3535, 0.06198300135059756), (3536, 0.0), (3537, 0.0), (3538, 0.0), (3539, 0.0), (3540, 0.0), (3541, 0.0), (3542, 0.0), (3543, 0.0), (3544, 0.0), (3545, 0.0), (3546, 0.0), (3547, 0.0), (3548, 0.0), (3549, 0.0), (3550, 0.0), (3551, 0.0), (3552, 0.0), (3553, 0.0), (3554, 0.0), (3555, 0.037264248742788275), (3556, 0.031782295575112064), (3557, 0.0), (3558, 0.0), (3559, 0.017047248795501336), (3560, 0.0), (3561, 0.0), (3562, 0.0), (3563, 0.0), (3564, 0.0), (3565, 0.0), (3566, 0.01792412880729306), (3567, 0.0), (3568, 0.0), (3569, 0.0), (3570, 0.0), (3571, 0.0), (3572, 0.0), (3573, 0.0), (3574, 0.0), (3575, 0.0), (3576, 0.0), (3577, 0.0), (3578, 0.022781703383066704), (3579, 0.0), (3580, 0.0), (3581, 0.0), (3582, 0.03511455243394054), (3583, 0.0), (3584, 0.0), (3585, 0.0), (3586, 0.0), (3587, 0.0), (3588, 0.0), (3589, 0.0), (3590, 0.0), (3591, 0.0), (3592, 0.0), (3593, 0.0), (3594, 0.0), (3595, 0.0), (3596, 0.0), (3597, 0.0), (3598, 0.0), (3599, 0.0), (3600, 0.0), (3601, 0.0), (3602, 0.0), (3603, 0.0), (3604, 0.0), (3605, 0.0), (3606, 0.0), (3607, 0.0), (3608, 0.0), (3609, 0.0), (3610, 0.0), (3611, 0.0), (3612, 0.01827731388975662), (3613, 0.0), (3614, 0.0), (3615, 0.0), (3616, 0.0), (3617, 0.0), (3618, 0.06224020601618894), (3619, 0.0), (3620, 0.0), (3621, 0.0), (3622, 0.0), (3623, 0.0), (3624, 0.0), (3625, 0.0), (3626, 0.013518169459203986), (3627, 0.0), (3628, 0.0), (3629, 0.0), (3630, 0.0), (3631, 0.0), (3632, 0.0), (3633, 0.0), (3634, 0.0), (3635, 0.0), (3636, 0.0), (3637, 0.0), (3638, 0.0), (3639, 0.0), (3640, 0.0), (3641, 0.0), (3642, 0.0), (3643, 0.0), (3644, 0.0), (3645, 0.0), (3646, 0.0), (3647, 0.019055433970349794), (3648, 0.0), (3649, 0.0), (3650, 0.0), (3651, 0.021322181807062603), (3652, 0.0), (3653, 0.0), (3654, 0.0), (3655, 0.0), (3656, 0.0), (3657, 0.0), (3658, 0.01693124993810769), (3659, 0.0), (3660, 0.0179381987866393), (3661, 0.0), (3662, 0.0), (3663, 0.0), (3664, 0.0), (3665, 0.0), (3666, 0.020673644563129596), (3667, 0.0), (3668, 0.0), (3669, 0.0), (3670, 0.0), (3671, 0.0), (3672, 0.0), (3673, 0.0), (3674, 0.0), (3675, 0.0), (3676, 0.0), (3677, 0.0), (3678, 0.034959030510406844), (3679, 0.0), (3680, 0.0), (3681, 0.0), (3682, 0.0), (3683, 0.019420351057419644), (3684, 0.0), (3685, 0.0), (3686, 0.0), (3687, 0.0), (3688, 0.0), (3689, 0.0), (3690, 0.0), (3691, 0.016891545715497953), (3692, 0.0), (3693, 0.0), (3694, 0.0), (3695, 0.0), (3696, 0.0), (3697, 0.0), (3698, 0.0), (3699, 0.0), (3700, 0.0), (3701, 0.0), (3702, 0.0), (3703, 0.0), (3704, 0.0), (3705, 0.0), (3706, 0.033430237903262446), (3707, 0.0), (3708, 0.0), (3709, 0.0), (3710, 0.019904059809196517), (3711, 0.015717233825859152), (3712, 0.0), (3713, 0.0), (3714, 0.0), (3715, 0.0), (3716, 0.0), (3717, 0.0), (3718, 0.0), (3719, 0.0), (3720, 0.0), (3721, 0.0), (3722, 0.0), (3723, 0.0), (3724, 0.0), (3725, 0.0), (3726, 0.0), (3727, 0.0), (3728, 0.0), (3729, 0.0), (3730, 0.0), (3731, 0.014714800584289953), (3732, 0.0), (3733, 0.01921058954237129), (3734, 0.0), (3735, 0.0), (3736, 0.0), (3737, 0.0), (3738, 0.0), (3739, 0.0), (3740, 0.0), (3741, 0.0), (3742, 0.0), (3743, 0.0), (3744, 0.0), (3745, 0.0), (3746, 0.030801411557680194), (3747, 0.0), (3748, 0.0), (3749, 0.0), (3750, 0.0), (3751, 0.0), (3752, 0.0), (3753, 0.0), (3754, 0.0), (3755, 0.0), (3756, 0.0), (3757, 0.01844381831308349), (3758, 0.021748609684866582), (3759, 0.0), (3760, 0.0), (3761, 0.0), (3762, 0.0), (3763, 0.0), (3764, 0.0), (3765, 0.0), (3766, 0.0), (3767, 0.0), (3768, 0.0), (3769, 0.0), (3770, 0.0), (3771, 0.0), (3772, 0.0), (3773, 0.0), (3774, 0.0), (3775, 0.017241216953117332), (3776, 0.0), (3777, 0.019140783727748658), (3778, 0.0), (3779, 0.0), (3780, 0.0), (3781, 0.0), (3782, 0.0), (3783, 0.0), (3784, 0.0), (3785, 0.0), (3786, 0.0), (3787, 0.0), (3788, 0.0), (3789, 0.0), (3790, 0.0), (3791, 0.0), (3792, 0.0), (3793, 0.0), (3794, 0.0), (3795, 0.017805068540532345), (3796, 0.0), (3797, 0.0), (3798, 0.0), (3799, 0.0), (3800, 0.0), (3801, 0.01818842644176186), (3802, 0.0), (3803, 0.0), (3804, 0.0), (3805, 0.0), (3806, 0.0), (3807, 0.0), (3808, 0.0), (3809, 0.0), (3810, 0.0), (3811, 0.0), (3812, 0.0), (3813, 0.0), (3814, 0.0), (3815, 0.0), (3816, 0.02068114410799739), (3817, 0.0), (3818, 0.0), (3819, 0.0), (3820, 0.0), (3821, 0.0), (3822, 0.021350991151496666), (3823, 0.0), (3824, 0.0), (3825, 0.01688767515493319), (3826, 0.0), (3827, 0.0), (3828, 0.0), (3829, 0.0), (3830, 0.0), (3831, 0.0), (3832, 0.0), (3833, 0.0), (3834, 0.0), (3835, 0.0), (3836, 0.0), (3837, 0.08871492737032893), (3838, 0.0), (3839, 0.0), (3840, 0.0), (3841, 0.0), (3842, 0.0), (3843, 0.037350977467630234), (3844, 0.0), (3845, 0.0), (3846, 0.0), (3847, 0.0), (3848, 0.0), (3849, 0.0), (3850, 0.019698707731445893), (3851, 0.0), (3852, 0.0), (3853, 0.0), (3854, 0.0), (3855, 0.0), (3856, 0.0), (3857, 0.0), (3858, 0.0), (3859, 0.0), (3860, 0.036416980449787126), (3861, 0.0), (3862, 0.04083714963191589), (3863, 0.0), (3864, 0.0), (3865, 0.0), (3866, 0.0), (3867, 0.0), (3868, 0.0), (3869, 0.0), (3870, 0.0), (3871, 0.0), (3872, 0.0), (3873, 0.0), (3874, 0.0), (3875, 0.0), (3876, 0.0), (3877, 0.0), (3878, 0.0), (3879, 0.0), (3880, 0.0), (3881, 0.0), (3882, 0.0), (3883, 0.0), (3884, 0.0), (3885, 0.028802633178869382), (3886, 0.01760398525853642), (3887, 0.0), (3888, 0.023817604140945463), (3889, 0.0), (3890, 0.0), (3891, 0.016618391719109768), (3892, 0.0), (3893, 0.0), (3894, 0.0), (3895, 0.0), (3896, 0.0), (3897, 0.019132939731588392), (3898, 0.0), (3899, 0.0), (3900, 0.0), (3901, 0.0), (3902, 0.0), (3903, 0.0), (3904, 0.0), (3905, 0.0), (3906, 0.019258697760394856), (3907, 0.0), (3908, 0.0), (3909, 0.0), (3910, 0.0), (3911, 0.0), (3912, 0.0), (3913, 0.015711351680791637), (3914, 0.0), (3915, 0.0), (3916, 0.0), (3917, 0.0), (3918, 0.0), (3919, 0.0), (3920, 0.0), (3921, 0.0), (3922, 0.0), (3923, 0.0), (3924, 0.01884706395567853), (3925, 0.02693582395860583), (3926, 0.0), (3927, 0.0), (3928, 0.0), (3929, 0.0), (3930, 0.0), (3931, 0.0), (3932, 0.0), (3933, 0.0), (3934, 0.0), (3935, 0.0), (3936, 0.0), (3937, 0.0), (3938, 0.0), (3939, 0.0), (3940, 0.0), (3941, 0.0), (3942, 0.023076664751390755), (3943, 0.0), (3944, 0.0), (3945, 0.0), (3946, 0.0), (3947, 0.0), (3948, 0.0), (3949, 0.0), (3950, 0.0), (3951, 0.0), (3952, 0.0), (3953, 0.0), (3954, 0.0), (3955, 0.0), (3956, 0.0), (3957, 0.0), (3958, 0.0), (3959, 0.0), (3960, 0.0), (3961, 0.0), (3962, 0.0), (3963, 0.0), (3964, 0.0), (3965, 0.0), (3966, 0.0), (3967, 0.0), (3968, 0.0), (3969, 0.0), (3970, 0.0), (3971, 0.0), (3972, 0.0), (3973, 0.018981907726652442), (3974, 0.0), (3975, 0.0), (3976, 0.0), (3977, 0.0), (3978, 0.0), (3979, 0.0), (3980, 0.0), (3981, 0.0), (3982, 0.0), (3983, 0.013393964996754382), (3984, 0.021972114896171364), (3985, 0.0), (3986, 0.0), (3987, 0.0), (3988, 0.0), (3989, 0.032650427937839184), (3990, 0.0), (3991, 0.0), (3992, 0.0), (3993, 0.0), (3994, 0.03889874252465065), (3995, 0.0), (3996, 0.0), (3997, 0.0), (3998, 0.0), (3999, 0.0), (4000, 0.0), (4001, 0.0), (4002, 0.0), (4003, 0.04303222592413156), (4004, 0.0), (4005, 0.0), (4006, 0.0), (4007, 0.0), (4008, 0.0), (4009, 0.0), (4010, 0.0), (4011, 0.0), (4012, 0.0), (4013, 0.0), (4014, 0.05742496134607177), (4015, 0.0), (4016, 0.0), (4017, 0.0), (4018, 0.016621262766327707), (4019, 0.0), (4020, 0.0), (4021, 0.0), (4022, 0.0), (4023, 0.0), (4024, 0.01994393793681248), (4025, 0.0), (4026, 0.0), (4027, 0.0), (4028, 0.0), (4029, 0.0), (4030, 0.0), (4031, 0.0), (4032, 0.0), (4033, 0.0), (4034, 0.0), (4035, 0.0), (4036, 0.0), (4037, 0.0), (4038, 0.01923956449010894), (4039, 0.0), (4040, 0.0), (4041, 0.0), (4042, 0.0), (4043, 0.0), (4044, 0.0), (4045, 0.024579694703401326), (4046, 0.0), (4047, 0.023050814509521175), (4048, 0.0), (4049, 0.0), (4050, 0.0), (4051, 0.0), (4052, 0.0), (4053, 0.0), (4054, 0.0), (4055, 0.016430153626543136), (4056, 0.024477549258479694), (4057, 0.01819928990297638), (4058, 0.0), (4059, 0.0), (4060, 0.018121431553290004), (4061, 0.0), (4062, 0.0), (4063, 0.01871550559763836), (4064, 0.0), (4065, 0.0), (4066, 0.0), (4067, 0.0), (4068, 0.0), (4069, 0.0), (4070, 0.019313966674955888), (4071, 0.0), (4072, 0.0), (4073, 0.0), (4074, 0.0), (4075, 0.0), (4076, 0.0), (4077, 0.0), (4078, 0.0), (4079, 0.0), (4080, 0.0), (4081, 0.0), (4082, 0.0), (4083, 0.0), (4084, 0.0), (4085, 0.0), (4086, 0.0), (4087, 0.0), (4088, 0.0), (4089, 0.0), (4090, 0.0), (4091, 0.0), (4092, 0.0), (4093, 0.0), (4094, 0.0), (4095, 0.0), (4096, 0.0), (4097, 0.0), (4098, 0.020609464116488303), (4099, 0.0), (4100, 0.0), (4101, 0.0), (4102, 0.0), (4103, 0.0), (4104, 0.0), (4105, 0.0), (4106, 0.0), (4107, 0.0), (4108, 0.0), (4109, 0.016962713957679648), (4110, 0.0), (4111, 0.0), (4112, 0.0), (4113, 0.0), (4114, 0.0), (4115, 0.0), (4116, 0.0206361222782516), (4117, 0.0), (4118, 0.0), (4119, 0.0), (4120, 0.0), (4121, 0.0), (4122, 0.0), (4123, 0.0), (4124, 0.0), (4125, 0.0), (4126, 0.0), (4127, 0.0), (4128, 0.04065307685983346), (4129, 0.0), (4130, 0.0), (4131, 0.0), (4132, 0.0), (4133, 0.0), (4134, 0.0), (4135, 0.01824961614557431), (4136, 0.01925286575997695), (4137, 0.0), (4138, 0.0), (4139, 0.0), (4140, 0.0), (4141, 0.0), (4142, 0.0), (4143, 0.0), (4144, 0.0), (4145, 0.0), (4146, 0.0), (4147, 0.0), (4148, 0.0), (4149, 0.02424746214604394), (4150, 0.0), (4151, 0.027202885294775537), (4152, 0.0), (4153, 0.0), (4154, 0.0), (4155, 0.0), (4156, 0.0), (4157, 0.0), (4158, 0.020375449986627575), (4159, 0.0), (4160, 0.0), (4161, 0.036005793776789974), (4162, 0.0), (4163, 0.0), (4164, 0.0), (4165, 0.0), (4166, 0.0), (4167, 0.0), (4168, 0.0), (4169, 0.024927114925145374), (4170, 0.0), (4171, 0.0), (4172, 0.0), (4173, 0.0), (4174, 0.01863026085984026), (4175, 0.0), (4176, 0.0), (4177, 0.0), (4178, 0.0), (4179, 0.0), (4180, 0.0), (4181, 0.0), (4182, 0.0), (4183, 0.0), (4184, 0.0), (4185, 0.0), (4186, 0.0), (4187, 0.0), (4188, 0.0), (4189, 0.0), (4190, 0.0), (4191, 0.0), (4192, 0.0), (4193, 0.03590609661701923), (4194, 0.0), (4195, 0.0), (4196, 0.0), (4197, 0.0), (4198, 0.0), (4199, 0.0), (4200, 0.0), (4201, 0.0), (4202, 0.0), (4203, 0.0), (4204, 0.0), (4205, 0.0), (4206, 0.0), (4207, 0.0), (4208, 0.0), (4209, 0.0), (4210, 0.0), (4211, 0.0), (4212, 0.0), (4213, 0.0), (4214, 0.021492529262816515), (4215, 0.0), (4216, 0.0), (4217, 0.0), (4218, 0.0), (4219, 0.0), (4220, 0.0), (4221, 0.0), (4222, 0.0), (4223, 0.0), (4224, 0.01732102063490433), (4225, 0.019947213924302716), (4226, 0.0), (4227, 0.0), (4228, 0.0), (4229, 0.0), (4230, 0.0), (4231, 0.0), (4232, 0.0), (4233, 0.0), (4234, 0.0), (4235, 0.0), (4236, 0.01685598385728736), (4237, 0.03664606169926804), (4238, 0.0), (4239, 0.0), (4240, 0.0), (4241, 0.0), (4242, 0.0), (4243, 0.0), (4244, 0.0), (4245, 0.018940710792826634), (4246, 0.017400401439903106), (4247, 0.0), (4248, 0.019212869352998922), (4249, 0.0), (4250, 0.0), (4251, 0.0), (4252, 0.0), (4253, 0.0), (4254, 0.0), (4255, 0.0), (4256, 0.0), (4257, 0.0), (4258, 0.0), (4259, 0.0), (4260, 0.0), (4261, 0.0), (4262, 0.024777107313657454), (4263, 0.0), (4264, 0.0), (4265, 0.01819016478430897), (4266, 0.0), (4267, 0.0), (4268, 0.01878719431130928), (4269, 0.0), (4270, 0.0), (4271, 0.0), (4272, 0.0), (4273, 0.0), (4274, 0.0), (4275, 0.0), (4276, 0.0), (4277, 0.0), (4278, 0.0), (4279, 0.0), (4280, 0.0), (4281, 0.0), (4282, 0.016403621478788277), (4283, 0.0), (4284, 0.0), (4285, 0.0), (4286, 0.0), (4287, 0.0), (4288, 0.0), (4289, 0.019957309041354777), (4290, 0.0), (4291, 0.0), (4292, 0.0), (4293, 0.0), (4294, 0.0), (4295, 0.0), (4296, 0.0), (4297, 0.0), (4298, 0.0), (4299, 0.0), (4300, 0.0), (4301, 0.0), (4302, 0.0), (4303, 0.019715779300741913), (4304, 0.0), (4305, 0.0), (4306, 0.047912986633347796), (4307, 0.0), (4308, 0.0), (4309, 0.0), (4310, 0.0), (4311, 0.0), (4312, 0.0), (4313, 0.0), (4314, 0.0), (4315, 0.0), (4316, 0.0), (4317, 0.0), (4318, 0.0), (4319, 0.0), (4320, 0.0), (4321, 0.022231020860325197), (4322, 0.0), (4323, 0.0), (4324, 0.0), (4325, 0.0), (4326, 0.0), (4327, 0.0), (4328, 0.0), (4329, 0.019639146743028187), (4330, 0.0), (4331, 0.0), (4332, 0.0), (4333, 0.0), (4334, 0.0), (4335, 0.0), (4336, 0.0), (4337, 0.019421056392980248), (4338, 0.0), (4339, 0.0), (4340, 0.0), (4341, 0.0), (4342, 0.0), (4343, 0.0), (4344, 0.0), (4345, 0.0), (4346, 0.0), (4347, 0.0), (4348, 0.0), (4349, 0.0), (4350, 0.0), (4351, 0.0), (4352, 0.0), (4353, 0.0), (4354, 0.0), (4355, 0.0), (4356, 0.0), (4357, 0.0), (4358, 0.016948529238242978), (4359, 0.0), (4360, 0.0), (4361, 0.0), (4362, 0.0), (4363, 0.0), (4364, 0.0), (4365, 0.03127464418907198), (4366, 0.0), (4367, 0.0), (4368, 0.0), (4369, 0.0), (4370, 0.0), (4371, 0.018469745737481662), (4372, 0.0), (4373, 0.0), (4374, 0.0), (4375, 0.0), (4376, 0.0), (4377, 0.0), (4378, 0.0), (4379, 0.0), (4380, 0.0), (4381, 0.0), (4382, 0.0), (4383, 0.0), (4384, 0.0), (4385, 0.0), (4386, 0.0), (4387, 0.0), (4388, 0.0), (4389, 0.0), (4390, 0.0), (4391, 0.0), (4392, 0.0), (4393, 0.0), (4394, 0.0), (4395, 0.0), (4396, 0.0), (4397, 0.0), (4398, 0.0), (4399, 0.0), (4400, 0.0), (4401, 0.0), (4402, 0.018389164652678543), (4403, 0.0), (4404, 0.0), (4405, 0.0), (4406, 0.0), (4407, 0.025767879618864228), (4408, 0.0), (4409, 0.0), (4410, 0.0), (4411, 0.015147757355658991), (4412, 0.0), (4413, 0.0), (4414, 0.0), (4415, 0.0), (4416, 0.0), (4417, 0.0), (4418, 0.0), (4419, 0.0), (4420, 0.0), (4421, 0.0), (4422, 0.0), (4423, 0.0), (4424, 0.0), (4425, 0.0), (4426, 0.0), (4427, 0.0), (4428, 0.0), (4429, 0.0), (4430, 0.0), (4431, 0.0), (4432, 0.0), (4433, 0.0), (4434, 0.0), (4435, 0.0), (4436, 0.0), (4437, 0.030874220742029355), (4438, 0.0), (4439, 0.0), (4440, 0.0), (4441, 0.0), (4442, 0.016750622998047988), (4443, 0.0), (4444, 0.0), (4445, 0.0), (4446, 0.0), (4447, 0.0), (4448, 0.0), (4449, 0.0), (4450, 0.0), (4451, 0.0), (4452, 0.0), (4453, 0.0), (4454, 0.0), (4455, 0.0), (4456, 0.0), (4457, 0.0), (4458, 0.0), (4459, 0.028982166278015892), (4460, 0.0), (4461, 0.0), (4462, 0.0), (4463, 0.0), (4464, 0.0), (4465, 0.0), (4466, 0.0), (4467, 0.0), (4468, 0.0), (4469, 0.0), (4470, 0.019825829395665764), (4471, 0.0), (4472, 0.0), (4473, 0.0), (4474, 0.018041393945473362), (4475, 0.0), (4476, 0.0), (4477, 0.0), (4478, 0.0), (4479, 0.0), (4480, 0.0), (4481, 0.04568538362060866), (4482, 0.0), (4483, 0.0), (4484, 0.023688710803752018), (4485, 0.0), (4486, 0.01866983969138979), (4487, 0.0), (4488, 0.0), (4489, 0.0), (4490, 0.0), (4491, 0.0), (4492, 0.0), (4493, 0.0), (4494, 0.0), (4495, 0.041484307807772895), (4496, 0.0), (4497, 0.0), (4498, 0.019943964453025053), (4499, 0.0), (4500, 0.0), (4501, 0.03297648736119646), (4502, 0.0), (4503, 0.0), (4504, 0.0), (4505, 0.0), (4506, 0.0), (4507, 0.0), (4508, 0.0), (4509, 0.0), (4510, 0.0), (4511, 0.0), (4512, 0.0), (4513, 0.0), (4514, 0.0), (4515, 0.0), (4516, 0.0), (4517, 0.0), (4518, 0.023083052097358808), (4519, 0.0), (4520, 0.0), (4521, 0.0), (4522, 0.0), (4523, 0.0), (4524, 0.0), (4525, 0.0), (4526, 0.0), (4527, 0.0), (4528, 0.0), (4529, 0.0), (4530, 0.0), (4531, 0.0), (4532, 0.0), (4533, 0.0), (4534, 0.0), (4535, 0.0), (4536, 0.0), (4537, 0.05054730182754544), (4538, 0.0), (4539, 0.0), (4540, 0.0), (4541, 0.0), (4542, 0.0), (4543, 0.0), (4544, 0.0), (4545, 0.0), (4546, 0.0), (4547, 0.0), (4548, 0.0), (4549, 0.0), (4550, 0.0), (4551, 0.0), (4552, 0.0), (4553, 0.0), (4554, 0.0), (4555, 0.0), (4556, 0.0), (4557, 0.0), (4558, 0.0), (4559, 0.0), (4560, 0.0), (4561, 0.0), (4562, 0.0), (4563, 0.0), (4564, 0.0), (4565, 0.0), (4566, 0.0), (4567, 0.0), (4568, 0.0), (4569, 0.0), (4570, 0.0), (4571, 0.0), (4572, 0.0), (4573, 0.0), (4574, 0.01822843143256782), (4575, 0.0), (4576, 0.016466059918431305), (4577, 0.0), (4578, 0.0), (4579, 0.0), (4580, 0.0), (4581, 0.0), (4582, 0.0), (4583, 0.038349671960835385), (4584, 0.0), (4585, 0.0), (4586, 0.0), (4587, 0.023374005313678045), (4588, 0.0), (4589, 0.0), (4590, 0.0), (4591, 0.0), (4592, 0.0), (4593, 0.0), (4594, 0.0), (4595, 0.0), (4596, 0.0), (4597, 0.0), (4598, 0.0), (4599, 0.0), (4600, 0.0), (4601, 0.0), (4602, 0.0), (4603, 0.0), (4604, 0.020022058470034076), (4605, 0.0), (4606, 0.0), (4607, 0.0), (4608, 0.0), (4609, 0.0), (4610, 0.0), (4611, 0.0), (4612, 0.02323568046994749), (4613, 0.0), (4614, 0.0), (4615, 0.0), (4616, 0.0), (4617, 0.0), (4618, 0.0), (4619, 0.0), (4620, 0.0), (4621, 0.0), (4622, 0.0), (4623, 0.01853186984868729), (4624, 0.0), (4625, 0.0), (4626, 0.0), (4627, 0.017065676979718603), (4628, 0.0), (4629, 0.0), (4630, 0.0), (4631, 0.0), (4632, 0.0), (4633, 0.0), (4634, 0.0), (4635, 0.0), (4636, 0.0), (4637, 0.0), (4638, 0.0), (4639, 0.0331270549313776), (4640, 0.03470188296667465), (4641, 0.0), (4642, 0.0), (4643, 0.0), (4644, 0.0), (4645, 0.0), (4646, 0.0), (4647, 0.0), (4648, 0.0), (4649, 0.0), (4650, 0.0), (4651, 0.0), (4652, 0.0), (4653, 0.0), (4654, 0.0), (4655, 0.0), (4656, 0.0), (4657, 0.0), (4658, 0.016494642163445424), (4659, 0.0), (4660, 0.0), (4661, 0.01667670500019166), (4662, 0.020629039439699126), (4663, 0.0), (4664, 0.0), (4665, 0.0), (4666, 0.0), (4667, 0.018534254156613122), (4668, 0.0), (4669, 0.0), (4670, 0.0), (4671, 0.0), (4672, 0.0), (4673, 0.0), (4674, 0.0), (4675, 0.0), (4676, 0.0), (4677, 0.0), (4678, 0.0), (4679, 0.0), (4680, 0.0), (4681, 0.0), (4682, 0.0), (4683, 0.01880979359084241), (4684, 0.0), (4685, 0.0), (4686, 0.0), (4687, 0.03792290426495339), (4688, 0.0), (4689, 0.0), (4690, 0.01626803368597302), (4691, 0.0), (4692, 0.0), (4693, 0.0), (4694, 0.0), (4695, 0.0), (4696, 0.0), (4697, 0.05544706966627294), (4698, 0.0), (4699, 0.0), (4700, 0.0), (4701, 0.021125150890835533), (4702, 0.0), (4703, 0.0), (4704, 0.0), (4705, 0.0), (4706, 0.0), (4707, 0.0), (4708, 0.0), (4709, 0.0), (4710, 0.0), (4711, 0.0), (4712, 0.0), (4713, 0.0), (4714, 0.0), (4715, 0.0), (4716, 0.0), (4717, 0.02205403890093516), (4718, 0.0), (4719, 0.0), (4720, 0.0), (4721, 0.0), (4722, 0.0), (4723, 0.0), (4724, 0.0), (4725, 0.0), (4726, 0.0), (4727, 0.0), (4728, 0.0), (4729, 0.0), (4730, 0.0), (4731, 0.0), (4732, 0.0), (4733, 0.0), (4734, 0.0), (4735, 0.0), (4736, 0.0), (4737, 0.0), (4738, 0.03074215757362938), (4739, 0.0), (4740, 0.0), (4741, 0.0), (4742, 0.0), (4743, 0.018314326833305264), (4744, 0.015994798210305073), (4745, 0.0), (4746, 0.0), (4747, 0.021295678988365402), (4748, 0.0), (4749, 0.0), (4750, 0.0), (4751, 0.0), (4752, 0.014264142926673532), (4753, 0.0), (4754, 0.0), (4755, 0.0), (4756, 0.0), (4757, 0.0), (4758, 0.0), (4759, 0.0)]\n"
          ]
        }
      ]
    },
    {
      "cell_type": "code",
      "source": [
        "len(Recommendation_Score)\n",
        "\n"
      ],
      "metadata": {
        "colab": {
          "base_uri": "https://localhost:8080/"
        },
        "id": "qQPdvpMevJnh",
        "outputId": "fcc0bc6c-bf23-48e3-dbf1-b96fc734937e"
      },
      "execution_count": 29,
      "outputs": [
        {
          "output_type": "execute_result",
          "data": {
            "text/plain": [
              "4760"
            ]
          },
          "metadata": {},
          "execution_count": 29
        }
      ]
    },
    {
      "cell_type": "markdown",
      "source": [
        "# **Get All Movies Sorted Based on Recommendation Score for your Favourite Movie**\n"
      ],
      "metadata": {
        "id": "gxu7GYlmvUeP"
      }
    },
    {
      "cell_type": "code",
      "source": [
        "#sorting the movies based on their similarity score\n",
        "\n",
        "Sorted_Similar_Movies = sorted(Recommendation_Score, key = lambda x:x[1], reverse=True)\n",
        "print (Sorted_Similar_Movies)\n"
      ],
      "metadata": {
        "colab": {
          "base_uri": "https://localhost:8080/"
        },
        "id": "JDksS_ukvMbC",
        "outputId": "69d1041b-64e8-4684-df69-3e63a2017d97"
      },
      "execution_count": 30,
      "outputs": [
        {
          "output_type": "stream",
          "name": "stdout",
          "text": [
            "[(557, 1.0), (1339, 0.10678550988814772), (3837, 0.08871492737032893), (1482, 0.08760284628562734), (1954, 0.08261549810548931), (1867, 0.07725968711141262), (2701, 0.07621512882062279), (1797, 0.07215901613741946), (801, 0.07097318839241458), (2639, 0.07023782047034777), (1968, 0.06365101286780148), (3524, 0.06286644857010504), (3618, 0.06224020601618894), (3535, 0.06198300135059756), (2677, 0.06181956998901373), (881, 0.060418261545864035), (1282, 0.0595913446772242), (3352, 0.058194966891000996), (4014, 0.05742496134607177), (2416, 0.05625050535469184), (3189, 0.05610523872270249), (310, 0.056026107427031055), (1105, 0.05580744532745411), (4697, 0.05544706966627294), (3283, 0.05336995810053351), (3517, 0.053220262325521586), (1450, 0.052815150332714285), (306, 0.0527385057968751), (2063, 0.05258086856300288), (581, 0.05227027586757509), (3254, 0.051069529424592836), (3331, 0.05105867327186532), (4537, 0.05054730182754544), (1293, 0.05034357178920613), (2723, 0.04975413001380699), (314, 0.04959478779994887), (3201, 0.048696562389750536), (2461, 0.04857397640200295), (2359, 0.04827898881907396), (4306, 0.047912986633347796), (2077, 0.047702940599566916), (3081, 0.046978783800761266), (2675, 0.04677860423926557), (395, 0.04595525862456193), (4481, 0.04568538362060866), (574, 0.04555953091633397), (2028, 0.04532309830676483), (820, 0.04425076558786366), (560, 0.044241716101774284), (2346, 0.04415759200743334), (2155, 0.04399504495689953), (2876, 0.04399244670769674), (2813, 0.043945420380204575), (2383, 0.043745127627610736), (2261, 0.0437301403358923), (1611, 0.0435330987305842), (156, 0.0431919863392554), (2299, 0.04316284991775028), (711, 0.0431292918994755), (4003, 0.04303222592413156), (207, 0.042795752163539404), (690, 0.04202433968529363), (3298, 0.04186212394610731), (2673, 0.0416937199819924), (2604, 0.041667143897190374), (2516, 0.04156622549572381), (118, 0.041491777529482646), (4495, 0.041484307807772895), (849, 0.04144368201253615), (708, 0.04131346957598422), (542, 0.041259409063261365), (541, 0.04092183089207076), (320, 0.040875501594296745), (3862, 0.04083714963191589), (1104, 0.040766865301548744), (4128, 0.04065307685983346), (382, 0.04035418173286414), (3290, 0.04012094511950383), (3459, 0.040098192527041096), (2928, 0.03995097140432253), (647, 0.039565680283928796), (386, 0.03950652678476105), (3378, 0.039334500060668916), (875, 0.039245029827280044), (379, 0.039172447560585216), (1901, 0.03911236310288273), (364, 0.03907488215371246), (3994, 0.03889874252465065), (315, 0.03880347610543537), (1237, 0.03879525457882238), (1192, 0.03862190901421755), (1113, 0.03852603653478401), (1936, 0.038415110834694795), (368, 0.038394622886369995), (4583, 0.038349671960835385), (556, 0.038236306558322185), (91, 0.038120157441250815), (1082, 0.038035193641516606), (1855, 0.03794458437495734), (4687, 0.03792290426495339), (1476, 0.037865687801795854), (1046, 0.037747886100915846), (1238, 0.0376919531523574), (546, 0.03765794462125888), (185, 0.03739421098844992), (2209, 0.037380691275693635), (3843, 0.037350977467630234), (3555, 0.037264248742788275), (1505, 0.037263978307622264), (1481, 0.03718901542155936), (686, 0.03718588391165831), (1152, 0.03715686964328142), (78, 0.03708511689510111), (316, 0.036972654642206684), (1216, 0.03695158790070424), (2540, 0.03675550942194088), (2147, 0.03672658046874991), (1928, 0.03668390507044304), (4237, 0.03664606169926804), (2918, 0.03657491246622466), (2805, 0.03649397652876209), (1829, 0.036468477129934604), (1595, 0.036446651529498365), (3091, 0.03642490725919387), (3860, 0.036416980449787126), (968, 0.03637594960671272), (1903, 0.036353270235063226), (2835, 0.03609897434622604), (4161, 0.036005793776789974), (341, 0.03600058270850192), (4193, 0.03590609661701923), (373, 0.03587222554177902), (911, 0.03580303014044278), (1898, 0.03575809698205103), (501, 0.03571624902248462), (1802, 0.03570880265641952), (1662, 0.035517263218864406), (2580, 0.035456772830880195), (3311, 0.03534979341122879), (397, 0.03532874834869253), (434, 0.03532000585766915), (3010, 0.03518488735379631), (2005, 0.03512457366763103), (3582, 0.03511455243394054), (1760, 0.03509898073485163), (1107, 0.035024278996465416), (3678, 0.034959030510406844), (1699, 0.03478539636196586), (4640, 0.03470188296667465), (3070, 0.03462779354604848), (748, 0.03456182082033326), (323, 0.03452196441609876), (936, 0.034465334036223205), (565, 0.034384460405049035), (148, 0.03436449155245242), (3238, 0.03404024448612267), (265, 0.03403907041886808), (1769, 0.03397720441242676), (3180, 0.03396388188848663), (612, 0.03390917821911169), (2065, 0.03364347873849984), (1441, 0.033629049216712344), (1010, 0.03349859494415057), (1537, 0.03348405644042188), (3213, 0.03347371245518513), (1993, 0.03346294390012903), (3706, 0.033430237903262446), (709, 0.03318013711313873), (4639, 0.0331270549313776), (2953, 0.03308993571629111), (2968, 0.032995581390851646), (4501, 0.03297648736119646), (1635, 0.03287036035185211), (1309, 0.03277408525622446), (515, 0.03269240619792031), (3989, 0.032650427937839184), (2195, 0.03258529753766762), (1676, 0.032545226939835206), (2910, 0.03242879208948922), (92, 0.032364193917435995), (752, 0.032363501573618156), (2526, 0.03221833261587679), (2064, 0.0321393765664022), (1779, 0.032115972386490756), (1963, 0.032073111230383644), (1878, 0.031855462806748294), (3556, 0.031782295575112064), (3000, 0.031742554972467404), (1342, 0.03168604313578595), (697, 0.03155826556482661), (106, 0.031504898721774616), (3024, 0.03132220157124026), (1562, 0.0313008256247481), (3494, 0.031297100641497606), (4365, 0.03127464418907198), (2422, 0.031228096500156944), (1326, 0.03112865623214335), (2161, 0.03097860265280922), (1200, 0.030956756624530443), (4437, 0.030874220742029355), (3746, 0.030801411557680194), (1341, 0.0307792365074284), (4738, 0.03074215757362938), (973, 0.03073242352621399), (435, 0.030577814930762757), (1026, 0.030520169663847362), (2906, 0.030365097835407157), (837, 0.029904578613294718), (3085, 0.02976974132102713), (1210, 0.029709711556303666), (3512, 0.029685150633376838), (2443, 0.029607529490764502), (2517, 0.029519363607554937), (824, 0.02948611930274736), (1203, 0.029378467407629807), (2110, 0.029332376797954675), (1523, 0.02931762373515414), (562, 0.029035189627519824), (4459, 0.028982166278015892), (2766, 0.02886127784657583), (3885, 0.028802633178869382), (454, 0.02880191977593271), (2834, 0.028658100605814852), (3056, 0.028509931424256674), (670, 0.028332977860181116), (1348, 0.028049431350611668), (0, 0.027931429388393214), (3205, 0.02756735597178394), (163, 0.027226236984362284), (4151, 0.027202885294775537), (3925, 0.02693582395860583), (1624, 0.02618389214066831), (3365, 0.026123232733611626), (235, 0.02611837104004401), (3458, 0.026003439308104205), (1486, 0.025921621835054278), (4407, 0.025767879618864228), (1351, 0.025412311690775978), (2882, 0.025257458942115993), (728, 0.025032667457681734), (2030, 0.02502758349005464), (4169, 0.024927114925145374), (2790, 0.024921765528620892), (3086, 0.024895677808325113), (3266, 0.02487236689623837), (4262, 0.024777107313657454), (2988, 0.024712504925277566), (1445, 0.02470111861098723), (4045, 0.024579694703401326), (4056, 0.024477549258479694), (4149, 0.02424746214604394), (375, 0.024172809280682606), (115, 0.0241029023279751), (3888, 0.023817604140945463), (4484, 0.023688710803752018), (1915, 0.023647977643751598), (59, 0.023569712890044232), (1720, 0.023439801140986462), (3090, 0.02342214778903574), (4587, 0.023374005313678045), (3275, 0.02323756613159846), (4612, 0.02323568046994749), (1247, 0.023118195112639867), (3255, 0.0230918130168166), (4518, 0.023083052097358808), (3942, 0.023076664751390755), (4047, 0.023050814509521175), (1021, 0.023036451809589437), (2884, 0.022866604470917904), (1548, 0.02279905585907276), (2266, 0.02278579754165811), (3578, 0.022781703383066704), (1592, 0.022746209192774265), (1130, 0.022702699688445134), (3054, 0.022604222476815875), (2829, 0.022490538952019808), (2711, 0.022355938228627102), (304, 0.022232318777182642), (4321, 0.022231020860325197), (3109, 0.022195272202009286), (2368, 0.022168243526736447), (1780, 0.022161246666586823), (889, 0.022157807697611248), (659, 0.022154606319040704), (2570, 0.022153885837983694), (3243, 0.02213233437015002), (111, 0.02207982146704244), (4717, 0.02205403890093516), (3984, 0.021972114896171364), (1540, 0.02195196218097907), (3395, 0.021944468164038767), (3071, 0.02193631074867841), (2497, 0.021907080418427136), (916, 0.021828967520013256), (291, 0.021819054077076024), (2488, 0.021809501100943398), (3758, 0.021748609684866582), (2213, 0.02174668105304586), (1270, 0.02173870708389802), (2129, 0.021675864925174065), (1827, 0.021660676828551616), (2956, 0.02165886810018322), (3448, 0.02165727507101489), (3256, 0.021649617198675107), (2670, 0.02158191463436436), (4214, 0.021492529262816515), (2218, 0.021477723536105452), (2264, 0.021452151155522587), (1784, 0.021415219930827043), (2626, 0.021408247806493877), (3822, 0.021350991151496666), (3415, 0.02134527741325389), (458, 0.021340302149161862), (1460, 0.02133985818774437), (1383, 0.02132643388071975), (3651, 0.021322181807062603), (161, 0.021303847781443494), (4747, 0.021295678988365402), (3098, 0.021253211386962408), (1390, 0.021251713291136932), (3029, 0.02120749633580532), (1454, 0.02117151811345928), (4701, 0.021125150890835533), (1249, 0.021119790433500568), (891, 0.021104197298803203), (991, 0.021097691595219528), (2588, 0.0210835093065884), (892, 0.021015076885082907), (2413, 0.020983026135145785), (3384, 0.020901748731549052), (2936, 0.020898480609044687), (415, 0.020896827384333443), (1786, 0.020849400616138446), (3008, 0.020834283989504213), (3186, 0.020794470454607007), (3043, 0.02076474266149041), (2801, 0.020748134168738525), (2476, 0.020697907497630057), (3816, 0.02068114410799739), (89, 0.02067832291201732), (6, 0.020676095775773815), (3666, 0.020673644563129596), (3313, 0.02064993096935162), (4116, 0.0206361222782516), (4662, 0.020629039439699126), (4098, 0.020609464116488303), (950, 0.020576530204897282), (425, 0.020568257171654482), (679, 0.02053569781506677), (2494, 0.020529291197397676), (1379, 0.020456596104216795), (479, 0.020451368095714163), (3206, 0.020411359660966424), (4158, 0.020375449986627575), (2177, 0.02034560923625097), (739, 0.020338191115616532), (208, 0.0203026783848139), (2842, 0.020299767546346863), (2204, 0.02028372641419973), (946, 0.020260645065971833), (3001, 0.020236418002929753), (1656, 0.02021098343339583), (2579, 0.020201739748844896), (1712, 0.02017885066997845), (3106, 0.02014037835095934), (696, 0.02010783336328222), (2647, 0.020036223298866465), (1933, 0.02003379789736808), (4604, 0.020022058470034076), (3427, 0.020016395099639022), (3048, 0.0200027771068559), (2854, 0.019990533147786742), (1531, 0.019978606617316843), (2325, 0.019973358462581272), (2088, 0.019970981032334183), (4289, 0.019957309041354777), (4225, 0.019947213924302716), (4498, 0.019943964453025053), (4024, 0.01994393793681248), (3442, 0.01994314888139635), (1228, 0.019932820292290983), (2625, 0.019907339957062075), (3710, 0.019904059809196517), (1700, 0.01988795635889335), (1798, 0.01988700353064252), (1356, 0.019828459727227743), (4470, 0.019825829395665764), (658, 0.019825374443604195), (1894, 0.019811290550548456), (873, 0.0197995977213249), (750, 0.019768234391668284), (429, 0.01976779102459901), (3405, 0.019739287665112137), (1926, 0.01973043320205273), (178, 0.019717097482268315), (4303, 0.019715779300741913), (747, 0.019704440057597025), (3850, 0.019698707731445893), (41, 0.01967406248740282), (4329, 0.019639146743028187), (3438, 0.019594483093839075), (1849, 0.01958876986644811), (1902, 0.01957092917213501), (1513, 0.019562212263987244), (3093, 0.01955979184785199), (2965, 0.019534019881031817), (1023, 0.019498711487663523), (3047, 0.019471442583418958), (2108, 0.019457116989702396), (2496, 0.019435864455949713), (4337, 0.019421056392980248), (3683, 0.019420351057419644), (1874, 0.019406779244908003), (2518, 0.019391829076373435), (1932, 0.01938311581867245), (1097, 0.019378031514872794), (2086, 0.019370547385097067), (1227, 0.019370452790878328), (1731, 0.019348645779576696), (2044, 0.01933824229366739), (3116, 0.01932688175336561), (1109, 0.019319667513583164), (4070, 0.019313966674955888), (358, 0.019307230200898265), (2903, 0.019290829593576624), (3156, 0.019279201479908886), (994, 0.019277131363516168), (1610, 0.019272212571421633), (3332, 0.01927026414910427), (3906, 0.019258697760394856), (931, 0.019253464745849803), (4136, 0.01925286575997695), (4038, 0.01923956449010894), (1159, 0.01923209421571639), (1735, 0.019230244720692177), (1550, 0.019228230395837938), (2322, 0.019227515455903156), (567, 0.01922325894366315), (1544, 0.019219511866453914), (4248, 0.019212869352998922), (3733, 0.01921058954237129), (1989, 0.019207394044722624), (1677, 0.01919067584984977), (297, 0.01915106266046546), (1638, 0.019148380303209162), (980, 0.019147871912092433), (3777, 0.019140783727748658), (192, 0.019140346689848188), (3897, 0.019132939731588392), (217, 0.01912107101284233), (298, 0.019120243001184086), (83, 0.01911447204996909), (995, 0.01909915839230514), (781, 0.01906053677726425), (3647, 0.019055433970349794), (797, 0.019053170900431973), (2755, 0.019046698886188828), (151, 0.01904183775606096), (2214, 0.01902550627663019), (2919, 0.019016960825418896), (239, 0.01899694731888636), (3973, 0.018981907726652442), (4245, 0.018940710792826634), (2073, 0.018901507242823936), (3241, 0.018875267134339152), (668, 0.018863527889143472), (2148, 0.018853091115564113), (3924, 0.01884706395567853), (347, 0.018819540078337554), (4683, 0.01880979359084241), (4268, 0.01878719431130928), (624, 0.01876589461330097), (806, 0.018746055510179906), (4063, 0.01871550559763836), (1889, 0.01870936826874886), (2930, 0.018689593821102444), (1244, 0.018688923422568685), (4486, 0.01866983969138979), (1682, 0.018665842049563952), (1373, 0.018663064427205146), (2836, 0.01864865094225241), (4174, 0.01863026085984026), (378, 0.018613696375774764), (1488, 0.018609448563878136), (483, 0.01859854604273664), (2121, 0.01857746222381163), (1937, 0.018545465721492647), (2170, 0.018536676217821565), (4667, 0.018534254156613122), (4623, 0.01853186984868729), (893, 0.01851845592954015), (3462, 0.018481050647047435), (1494, 0.01847787324321172), (4371, 0.018469745737481662), (3757, 0.01844381831308349), (2620, 0.018436245271131572), (1252, 0.018415470561416673), (4402, 0.018389164652678543), (2385, 0.018382327019517457), (2445, 0.01838179596889379), (2182, 0.01836334330367638), (377, 0.01835444587837321), (1568, 0.018328887077778015), (2092, 0.018328202326944196), (1831, 0.01831907599882888), (4743, 0.018314326833305264), (3306, 0.01828030058778948), (3612, 0.01827731388975662), (3495, 0.018273731563893645), (4135, 0.01824961614557431), (989, 0.018233913240979054), (4574, 0.01822843143256782), (1235, 0.01820091967449633), (1617, 0.018200765303157215), (4057, 0.01819928990297638), (4265, 0.01819016478430897), (3801, 0.01818842644176186), (2366, 0.018180464607822366), (1969, 0.018177007740837033), (2798, 0.01815657721511173), (3407, 0.018151240679237263), (2300, 0.018147806834251767), (4060, 0.018121431553290004), (3463, 0.018108244735492204), (1028, 0.018107934942451786), (201, 0.018101185598655537), (3224, 0.018098912822710735), (2681, 0.018093182254274223), (131, 0.018078623607599625), (2802, 0.01806062849009712), (150, 0.01805614600927108), (2055, 0.01805586191404499), (2747, 0.018049864456323172), (1234, 0.018047349535279266), (1151, 0.018044610840193598), (1665, 0.018042157137918707), (4474, 0.018041393945473362), (1386, 0.01803049201175003), (439, 0.018026002854969286), (2980, 0.018025705243348764), (3237, 0.018021457837734296), (656, 0.01799605967275067), (2360, 0.01797011760803314), (1183, 0.017957212135111724), (109, 0.017946980581574224), (3660, 0.0179381987866393), (3504, 0.017934287709948322), (467, 0.017926937824266735), (2465, 0.017925760999376126), (3566, 0.01792412880729306), (276, 0.017916488787489453), (1527, 0.01788688182853703), (2026, 0.017866039636185525), (339, 0.017857197846550724), (966, 0.017834097509496178), (3057, 0.017830212659467087), (815, 0.017827794701992566), (3795, 0.017805068540532345), (1431, 0.017790182184090644), (1749, 0.01777747949148568), (1443, 0.017759293117250222), (1251, 0.017756089544432693), (1931, 0.017733044234978387), (2430, 0.01772907256346357), (912, 0.0177111183197151), (1435, 0.01768348862918821), (1131, 0.017679430160171223), (2068, 0.017676301835959717), (1060, 0.017640986053913486), (49, 0.01762747970323185), (3886, 0.01760398525853642), (3454, 0.01759999574575276), (3169, 0.017585385414540508), (836, 0.01758391724438576), (3342, 0.01757122639308315), (2753, 0.017558789083795837), (2119, 0.01754803211023008), (1680, 0.017540902881803433), (1694, 0.017536405927129704), (2205, 0.017520214247329267), (1776, 0.017512548707265718), (200, 0.017496947904149907), (387, 0.017487966113467656), (280, 0.017484711558282164), (259, 0.017474049956711122), (1814, 0.01746942477121256), (2528, 0.01743941700693484), (906, 0.017426435231111214), (1269, 0.017425155067747843), (1988, 0.01741554392309786), (4246, 0.017400401439903106), (1302, 0.017392529253837156), (218, 0.01738437627843054), (1111, 0.017334423484582952), (1256, 0.017323342057596024), (2248, 0.017323320352646113), (1018, 0.017323254042036558), (4224, 0.01732102063490433), (2234, 0.01731923844777416), (354, 0.01731308141375278), (422, 0.01730451643241542), (19, 0.017293104722901242), (3775, 0.017241216953117332), (1485, 0.017234927792005632), (160, 0.017231417234498562), (3278, 0.017207364299170035), (861, 0.017203901883309117), (694, 0.01720176074922482), (135, 0.01719398678406087), (2327, 0.017192635371337358), (2, 0.017189629022629604), (2226, 0.017189144163762122), (96, 0.017179721341958297), (938, 0.017179597699441076), (1178, 0.017166946058376664), (372, 0.017159132168660437), (1292, 0.017136180965264078), (260, 0.017131223133911154), (1115, 0.017122817907272873), (1170, 0.017105734677672773), (3247, 0.017073647067773593), (613, 0.017072294929956232), (1008, 0.017066290059331402), (4627, 0.017065676979718603), (285, 0.017052150737167978), (3559, 0.017047248795501336), (2160, 0.017031706492227516), (1693, 0.017028493821100967), (2197, 0.017027380058947304), (851, 0.01700782164904097), (1442, 0.01700154075149979), (4109, 0.016962713957679648), (261, 0.01695878858032989), (4358, 0.016948529238242978), (3130, 0.01694846380851692), (468, 0.016948431121576017), (1830, 0.016933846797555545), (3658, 0.01693124993810769), (39, 0.016928229308203417), (305, 0.016910829533357638), (1202, 0.016893768151772817), (3691, 0.016891545715497953), (3825, 0.01688767515493319), (4236, 0.01685598385728736), (2654, 0.01684833172552301), (2432, 0.016847060643412248), (1425, 0.01678815513740882), (3295, 0.01676986186420473), (4442, 0.016750622998047988), (1164, 0.016749362946306627), (2402, 0.01672608033762012), (2553, 0.01671987820263917), (702, 0.016686947484241602), (4661, 0.01667670500019166), (287, 0.01667454011176308), (2156, 0.016673906120114806), (1207, 0.016654847898116127), (1944, 0.0166467270391912), (1650, 0.0166391644591321), (1990, 0.01662338600385226), (1096, 0.016622851985132154), (4018, 0.016621262766327707), (3891, 0.016618391719109768), (1793, 0.016587026122908084), (1509, 0.016502273324451682), (4658, 0.016494642163445424), (866, 0.016466694005570593), (4576, 0.016466059918431305), (496, 0.016463553785760743), (4055, 0.016430153626543136), (1920, 0.016420384958298506), (915, 0.016415530396576613), (408, 0.0164066986219508), (4282, 0.016403621478788277), (2935, 0.016387159935420982), (31, 0.016372612188666324), (2862, 0.016351212195116538), (1934, 0.016343851907476968), (337, 0.016314106626357582), (742, 0.016302104790588853), (1412, 0.01627945028489466), (4690, 0.01626803368597302), (1818, 0.01624997304833743), (2141, 0.016238091664089432), (1061, 0.01623079869713883), (1746, 0.016227691174174018), (963, 0.01622270331648857), (657, 0.01620996603583379), (2627, 0.016192709211831597), (3466, 0.01619062526001924), (1377, 0.016141532903650124), (214, 0.016133271116609497), (13, 0.016128461469789107), (32, 0.016095051435699045), (1579, 0.016067201933503687), (212, 0.016052618968928258), (4744, 0.015994798210305073), (1093, 0.01594718259293983), (648, 0.01593766032042534), (3120, 0.0159369811477147), (3389, 0.015916853739603887), (1503, 0.01591263933128601), (2203, 0.015890791315004746), (2043, 0.015856353795599226), (2315, 0.015831114507183316), (1456, 0.015812156674027817), (1149, 0.015796840523222555), (327, 0.015782917255926916), (706, 0.015747192328744455), (37, 0.01573773140387208), (566, 0.01573613523289864), (1219, 0.01571850544092591), (3711, 0.015717233825859152), (1241, 0.01571565613831292), (3913, 0.015711351680791637), (410, 0.01569052885324183), (2845, 0.01567521212928234), (1690, 0.015660524942246627), (1281, 0.015641116663352453), (1870, 0.015609214884674873), (2296, 0.015598715596204769), (664, 0.015596092006513225), (1415, 0.015572381307669237), (1576, 0.01555126460168947), (2398, 0.015549206545257814), (3301, 0.0155385411640495), (3418, 0.015532832465420822), (1764, 0.015463874720794267), (853, 0.015429791579135963), (1743, 0.01539921920169571), (2602, 0.015397323127273599), (477, 0.01539245689672069), (1458, 0.015379344585117603), (2833, 0.015326866446931577), (394, 0.015180356064053947), (1553, 0.015172335914354141), (4411, 0.015147757355658991), (642, 0.015134689213219685), (2917, 0.015107585817246265), (469, 0.015094763259322344), (1492, 0.015079585368970631), (3096, 0.015051224943780413), (269, 0.01488021272194819), (412, 0.014840959482074692), (1153, 0.014834285634263833), (626, 0.014817203231609255), (2025, 0.014721507139747823), (3731, 0.014714800584289953), (1306, 0.014682799374222118), (1728, 0.014367675239635657), (3045, 0.01436600898035652), (3317, 0.014327571643853511), (4752, 0.014264142926673532), (2562, 0.014242801619290164), (684, 0.01420681256794026), (7, 0.014192159469626922), (2844, 0.014190805104165843), (609, 0.014028398851655249), (2078, 0.01401191855491361), (168, 0.013920779330604071), (740, 0.013779640851340457), (1701, 0.013611771096781532), (3626, 0.013518169459203986), (3983, 0.013393964996754382), (929, 0.013333009265257009), (940, 0.013250171262273942), (858, 0.012818122864006673), (787, 0.011833174500549038), (1, 0.0), (3, 0.0), (4, 0.0), (5, 0.0), (8, 0.0), (9, 0.0), (10, 0.0), (11, 0.0), (12, 0.0), (14, 0.0), (15, 0.0), (16, 0.0), (17, 0.0), (18, 0.0), (20, 0.0), (21, 0.0), (22, 0.0), (23, 0.0), (24, 0.0), (25, 0.0), (26, 0.0), (27, 0.0), (28, 0.0), (29, 0.0), (30, 0.0), (33, 0.0), (34, 0.0), (35, 0.0), (36, 0.0), (38, 0.0), (40, 0.0), (42, 0.0), (43, 0.0), (44, 0.0), (45, 0.0), (46, 0.0), (47, 0.0), (48, 0.0), (50, 0.0), (51, 0.0), (52, 0.0), (53, 0.0), (54, 0.0), (55, 0.0), (56, 0.0), (57, 0.0), (58, 0.0), (60, 0.0), (61, 0.0), (62, 0.0), (63, 0.0), (64, 0.0), (65, 0.0), (66, 0.0), (67, 0.0), (68, 0.0), (69, 0.0), (70, 0.0), (71, 0.0), (72, 0.0), (73, 0.0), (74, 0.0), (75, 0.0), (76, 0.0), (77, 0.0), (79, 0.0), (80, 0.0), (81, 0.0), (82, 0.0), (84, 0.0), (85, 0.0), (86, 0.0), (87, 0.0), (88, 0.0), (90, 0.0), (93, 0.0), (94, 0.0), (95, 0.0), (97, 0.0), (98, 0.0), (99, 0.0), (100, 0.0), (101, 0.0), (102, 0.0), (103, 0.0), (104, 0.0), (105, 0.0), (107, 0.0), (108, 0.0), (110, 0.0), (112, 0.0), (113, 0.0), (114, 0.0), (116, 0.0), (117, 0.0), (119, 0.0), (120, 0.0), (121, 0.0), (122, 0.0), (123, 0.0), (124, 0.0), (125, 0.0), (126, 0.0), (127, 0.0), (128, 0.0), (129, 0.0), (130, 0.0), (132, 0.0), (133, 0.0), (134, 0.0), (136, 0.0), (137, 0.0), (138, 0.0), (139, 0.0), (140, 0.0), (141, 0.0), (142, 0.0), (143, 0.0), (144, 0.0), (145, 0.0), (146, 0.0), (147, 0.0), (149, 0.0), (152, 0.0), (153, 0.0), (154, 0.0), (155, 0.0), (157, 0.0), (158, 0.0), (159, 0.0), (162, 0.0), (164, 0.0), (165, 0.0), (166, 0.0), (167, 0.0), (169, 0.0), (170, 0.0), (171, 0.0), (172, 0.0), (173, 0.0), (174, 0.0), (175, 0.0), (176, 0.0), (177, 0.0), (179, 0.0), (180, 0.0), (181, 0.0), (182, 0.0), (183, 0.0), (184, 0.0), (186, 0.0), (187, 0.0), (188, 0.0), (189, 0.0), (190, 0.0), (191, 0.0), (193, 0.0), (194, 0.0), (195, 0.0), (196, 0.0), (197, 0.0), (198, 0.0), (199, 0.0), (202, 0.0), (203, 0.0), (204, 0.0), (205, 0.0), (206, 0.0), (209, 0.0), (210, 0.0), (211, 0.0), (213, 0.0), (215, 0.0), (216, 0.0), (219, 0.0), (220, 0.0), (221, 0.0), (222, 0.0), (223, 0.0), (224, 0.0), (225, 0.0), (226, 0.0), (227, 0.0), (228, 0.0), (229, 0.0), (230, 0.0), (231, 0.0), (232, 0.0), (233, 0.0), (234, 0.0), (236, 0.0), (237, 0.0), (238, 0.0), (240, 0.0), (241, 0.0), (242, 0.0), (243, 0.0), (244, 0.0), (245, 0.0), (246, 0.0), (247, 0.0), (248, 0.0), (249, 0.0), (250, 0.0), (251, 0.0), (252, 0.0), (253, 0.0), (254, 0.0), (255, 0.0), (256, 0.0), (257, 0.0), (258, 0.0), (262, 0.0), (263, 0.0), (264, 0.0), (266, 0.0), (267, 0.0), (268, 0.0), (270, 0.0), (271, 0.0), (272, 0.0), (273, 0.0), (274, 0.0), (275, 0.0), (277, 0.0), (278, 0.0), (279, 0.0), (281, 0.0), (282, 0.0), (283, 0.0), (284, 0.0), (286, 0.0), (288, 0.0), (289, 0.0), (290, 0.0), (292, 0.0), (293, 0.0), (294, 0.0), (295, 0.0), (296, 0.0), (299, 0.0), (300, 0.0), (301, 0.0), (302, 0.0), (303, 0.0), (307, 0.0), (308, 0.0), (309, 0.0), (311, 0.0), (312, 0.0), (313, 0.0), (317, 0.0), (318, 0.0), (319, 0.0), (321, 0.0), (322, 0.0), (324, 0.0), (325, 0.0), (326, 0.0), (328, 0.0), (329, 0.0), (330, 0.0), (331, 0.0), (332, 0.0), (333, 0.0), (334, 0.0), (335, 0.0), (336, 0.0), (338, 0.0), (340, 0.0), (342, 0.0), (343, 0.0), (344, 0.0), (345, 0.0), (346, 0.0), (348, 0.0), (349, 0.0), (350, 0.0), (351, 0.0), (352, 0.0), (353, 0.0), (355, 0.0), (356, 0.0), (357, 0.0), (359, 0.0), (360, 0.0), (361, 0.0), (362, 0.0), (363, 0.0), (365, 0.0), (366, 0.0), (367, 0.0), (369, 0.0), (370, 0.0), (371, 0.0), (374, 0.0), (376, 0.0), (380, 0.0), (381, 0.0), (383, 0.0), (384, 0.0), (385, 0.0), (388, 0.0), (389, 0.0), (390, 0.0), (391, 0.0), (392, 0.0), (393, 0.0), (396, 0.0), (398, 0.0), (399, 0.0), (400, 0.0), (401, 0.0), (402, 0.0), (403, 0.0), (404, 0.0), (405, 0.0), (406, 0.0), (407, 0.0), (409, 0.0), (411, 0.0), (413, 0.0), (414, 0.0), (416, 0.0), (417, 0.0), (418, 0.0), (419, 0.0), (420, 0.0), (421, 0.0), (423, 0.0), (424, 0.0), (426, 0.0), (427, 0.0), (428, 0.0), (430, 0.0), (431, 0.0), (432, 0.0), (433, 0.0), (436, 0.0), (437, 0.0), (438, 0.0), (440, 0.0), (441, 0.0), (442, 0.0), (443, 0.0), (444, 0.0), (445, 0.0), (446, 0.0), (447, 0.0), (448, 0.0), (449, 0.0), (450, 0.0), (451, 0.0), (452, 0.0), (453, 0.0), (455, 0.0), (456, 0.0), (457, 0.0), (459, 0.0), (460, 0.0), (461, 0.0), (462, 0.0), (463, 0.0), (464, 0.0), (465, 0.0), (466, 0.0), (470, 0.0), (471, 0.0), (472, 0.0), (473, 0.0), (474, 0.0), (475, 0.0), (476, 0.0), (478, 0.0), (480, 0.0), (481, 0.0), (482, 0.0), (484, 0.0), (485, 0.0), (486, 0.0), (487, 0.0), (488, 0.0), (489, 0.0), (490, 0.0), (491, 0.0), (492, 0.0), (493, 0.0), (494, 0.0), (495, 0.0), (497, 0.0), (498, 0.0), (499, 0.0), (500, 0.0), (502, 0.0), (503, 0.0), (504, 0.0), (505, 0.0), (506, 0.0), (507, 0.0), (508, 0.0), (509, 0.0), (510, 0.0), (511, 0.0), (512, 0.0), (513, 0.0), (514, 0.0), (516, 0.0), (517, 0.0), (518, 0.0), (519, 0.0), (520, 0.0), (521, 0.0), (522, 0.0), (523, 0.0), (524, 0.0), (525, 0.0), (526, 0.0), (527, 0.0), (528, 0.0), (529, 0.0), (530, 0.0), (531, 0.0), (532, 0.0), (533, 0.0), (534, 0.0), (535, 0.0), (536, 0.0), (537, 0.0), (538, 0.0), (539, 0.0), (540, 0.0), (543, 0.0), (544, 0.0), (545, 0.0), (547, 0.0), (548, 0.0), (549, 0.0), (550, 0.0), (551, 0.0), (552, 0.0), (553, 0.0), (554, 0.0), (555, 0.0), (558, 0.0), (559, 0.0), (561, 0.0), (563, 0.0), (564, 0.0), (568, 0.0), (569, 0.0), (570, 0.0), (571, 0.0), (572, 0.0), (573, 0.0), (575, 0.0), (576, 0.0), (577, 0.0), (578, 0.0), (579, 0.0), (580, 0.0), (582, 0.0), (583, 0.0), (584, 0.0), (585, 0.0), (586, 0.0), (587, 0.0), (588, 0.0), (589, 0.0), (590, 0.0), (591, 0.0), (592, 0.0), (593, 0.0), (594, 0.0), (595, 0.0), (596, 0.0), (597, 0.0), (598, 0.0), (599, 0.0), (600, 0.0), (601, 0.0), (602, 0.0), (603, 0.0), (604, 0.0), (605, 0.0), (606, 0.0), (607, 0.0), (608, 0.0), (610, 0.0), (611, 0.0), (614, 0.0), (615, 0.0), (616, 0.0), (617, 0.0), (618, 0.0), (619, 0.0), (620, 0.0), (621, 0.0), (622, 0.0), (623, 0.0), (625, 0.0), (627, 0.0), (628, 0.0), (629, 0.0), (630, 0.0), (631, 0.0), (632, 0.0), (633, 0.0), (634, 0.0), (635, 0.0), (636, 0.0), (637, 0.0), (638, 0.0), (639, 0.0), (640, 0.0), (641, 0.0), (643, 0.0), (644, 0.0), (645, 0.0), (646, 0.0), (649, 0.0), (650, 0.0), (651, 0.0), (652, 0.0), (653, 0.0), (654, 0.0), (655, 0.0), (660, 0.0), (661, 0.0), (662, 0.0), (663, 0.0), (665, 0.0), (666, 0.0), (667, 0.0), (669, 0.0), (671, 0.0), (672, 0.0), (673, 0.0), (674, 0.0), (675, 0.0), (676, 0.0), (677, 0.0), (678, 0.0), (680, 0.0), (681, 0.0), (682, 0.0), (683, 0.0), (685, 0.0), (687, 0.0), (688, 0.0), (689, 0.0), (691, 0.0), (692, 0.0), (693, 0.0), (695, 0.0), (698, 0.0), (699, 0.0), (700, 0.0), (701, 0.0), (703, 0.0), (704, 0.0), (705, 0.0), (707, 0.0), (710, 0.0), (712, 0.0), (713, 0.0), (714, 0.0), (715, 0.0), (716, 0.0), (717, 0.0), (718, 0.0), (719, 0.0), (720, 0.0), (721, 0.0), (722, 0.0), (723, 0.0), (724, 0.0), (725, 0.0), (726, 0.0), (727, 0.0), (729, 0.0), (730, 0.0), (731, 0.0), (732, 0.0), (733, 0.0), (734, 0.0), (735, 0.0), (736, 0.0), (737, 0.0), (738, 0.0), (741, 0.0), (743, 0.0), (744, 0.0), (745, 0.0), (746, 0.0), (749, 0.0), (751, 0.0), (753, 0.0), (754, 0.0), (755, 0.0), (756, 0.0), (757, 0.0), (758, 0.0), (759, 0.0), (760, 0.0), (761, 0.0), (762, 0.0), (763, 0.0), (764, 0.0), (765, 0.0), (766, 0.0), (767, 0.0), (768, 0.0), (769, 0.0), (770, 0.0), (771, 0.0), (772, 0.0), (773, 0.0), (774, 0.0), (775, 0.0), (776, 0.0), (777, 0.0), (778, 0.0), (779, 0.0), (780, 0.0), (782, 0.0), (783, 0.0), (784, 0.0), (785, 0.0), (786, 0.0), (788, 0.0), (789, 0.0), (790, 0.0), (791, 0.0), (792, 0.0), (793, 0.0), (794, 0.0), (795, 0.0), (796, 0.0), (798, 0.0), (799, 0.0), (800, 0.0), (802, 0.0), (803, 0.0), (804, 0.0), (805, 0.0), (807, 0.0), (808, 0.0), (809, 0.0), (810, 0.0), (811, 0.0), (812, 0.0), (813, 0.0), (814, 0.0), (816, 0.0), (817, 0.0), (818, 0.0), (819, 0.0), (821, 0.0), (822, 0.0), (823, 0.0), (825, 0.0), (826, 0.0), (827, 0.0), (828, 0.0), (829, 0.0), (830, 0.0), (831, 0.0), (832, 0.0), (833, 0.0), (834, 0.0), (835, 0.0), (838, 0.0), (839, 0.0), (840, 0.0), (841, 0.0), (842, 0.0), (843, 0.0), (844, 0.0), (845, 0.0), (846, 0.0), (847, 0.0), (848, 0.0), (850, 0.0), (852, 0.0), (854, 0.0), (855, 0.0), (856, 0.0), (857, 0.0), (859, 0.0), (860, 0.0), (862, 0.0), (863, 0.0), (864, 0.0), (865, 0.0), (867, 0.0), (868, 0.0), (869, 0.0), (870, 0.0), (871, 0.0), (872, 0.0), (874, 0.0), (876, 0.0), (877, 0.0), (878, 0.0), (879, 0.0), (880, 0.0), (882, 0.0), (883, 0.0), (884, 0.0), (885, 0.0), (886, 0.0), (887, 0.0), (888, 0.0), (890, 0.0), (894, 0.0), (895, 0.0), (896, 0.0), (897, 0.0), (898, 0.0), (899, 0.0), (900, 0.0), (901, 0.0), (902, 0.0), (903, 0.0), (904, 0.0), (905, 0.0), (907, 0.0), (908, 0.0), (909, 0.0), (910, 0.0), (913, 0.0), (914, 0.0), (917, 0.0), (918, 0.0), (919, 0.0), (920, 0.0), (921, 0.0), (922, 0.0), (923, 0.0), (924, 0.0), (925, 0.0), (926, 0.0), (927, 0.0), (928, 0.0), (930, 0.0), (932, 0.0), (933, 0.0), (934, 0.0), (935, 0.0), (937, 0.0), (939, 0.0), (941, 0.0), (942, 0.0), (943, 0.0), (944, 0.0), (945, 0.0), (947, 0.0), (948, 0.0), (949, 0.0), (951, 0.0), (952, 0.0), (953, 0.0), (954, 0.0), (955, 0.0), (956, 0.0), (957, 0.0), (958, 0.0), (959, 0.0), (960, 0.0), (961, 0.0), (962, 0.0), (964, 0.0), (965, 0.0), (967, 0.0), (969, 0.0), (970, 0.0), (971, 0.0), (972, 0.0), (974, 0.0), (975, 0.0), (976, 0.0), (977, 0.0), (978, 0.0), (979, 0.0), (981, 0.0), (982, 0.0), (983, 0.0), (984, 0.0), (985, 0.0), (986, 0.0), (987, 0.0), (988, 0.0), (990, 0.0), (992, 0.0), (993, 0.0), (996, 0.0), (997, 0.0), (998, 0.0), (999, 0.0), (1000, 0.0), (1001, 0.0), (1002, 0.0), (1003, 0.0), (1004, 0.0), (1005, 0.0), (1006, 0.0), (1007, 0.0), (1009, 0.0), (1011, 0.0), (1012, 0.0), (1013, 0.0), (1014, 0.0), (1015, 0.0), (1016, 0.0), (1017, 0.0), (1019, 0.0), (1020, 0.0), (1022, 0.0), (1024, 0.0), (1025, 0.0), (1027, 0.0), (1029, 0.0), (1030, 0.0), (1031, 0.0), (1032, 0.0), (1033, 0.0), (1034, 0.0), (1035, 0.0), (1036, 0.0), (1037, 0.0), (1038, 0.0), (1039, 0.0), (1040, 0.0), (1041, 0.0), (1042, 0.0), (1043, 0.0), (1044, 0.0), (1045, 0.0), (1047, 0.0), (1048, 0.0), (1049, 0.0), (1050, 0.0), (1051, 0.0), (1052, 0.0), (1053, 0.0), (1054, 0.0), (1055, 0.0), (1056, 0.0), (1057, 0.0), (1058, 0.0), (1059, 0.0), (1062, 0.0), (1063, 0.0), (1064, 0.0), (1065, 0.0), (1066, 0.0), (1067, 0.0), (1068, 0.0), (1069, 0.0), (1070, 0.0), (1071, 0.0), (1072, 0.0), (1073, 0.0), (1074, 0.0), (1075, 0.0), (1076, 0.0), (1077, 0.0), (1078, 0.0), (1079, 0.0), (1080, 0.0), (1081, 0.0), (1083, 0.0), (1084, 0.0), (1085, 0.0), (1086, 0.0), (1087, 0.0), (1088, 0.0), (1089, 0.0), (1090, 0.0), (1091, 0.0), (1092, 0.0), (1094, 0.0), (1095, 0.0), (1098, 0.0), (1099, 0.0), (1100, 0.0), (1101, 0.0), (1102, 0.0), (1103, 0.0), (1106, 0.0), (1108, 0.0), (1110, 0.0), (1112, 0.0), (1114, 0.0), (1116, 0.0), (1117, 0.0), (1118, 0.0), (1119, 0.0), (1120, 0.0), (1121, 0.0), (1122, 0.0), (1123, 0.0), (1124, 0.0), (1125, 0.0), (1126, 0.0), (1127, 0.0), (1128, 0.0), (1129, 0.0), (1132, 0.0), (1133, 0.0), (1134, 0.0), (1135, 0.0), (1136, 0.0), (1137, 0.0), (1138, 0.0), (1139, 0.0), (1140, 0.0), (1141, 0.0), (1142, 0.0), (1143, 0.0), (1144, 0.0), (1145, 0.0), (1146, 0.0), (1147, 0.0), (1148, 0.0), (1150, 0.0), (1154, 0.0), (1155, 0.0), (1156, 0.0), (1157, 0.0), (1158, 0.0), (1160, 0.0), (1161, 0.0), (1162, 0.0), (1163, 0.0), (1165, 0.0), (1166, 0.0), (1167, 0.0), (1168, 0.0), (1169, 0.0), (1171, 0.0), (1172, 0.0), (1173, 0.0), (1174, 0.0), (1175, 0.0), (1176, 0.0), (1177, 0.0), (1179, 0.0), (1180, 0.0), (1181, 0.0), (1182, 0.0), (1184, 0.0), (1185, 0.0), (1186, 0.0), (1187, 0.0), (1188, 0.0), (1189, 0.0), (1190, 0.0), (1191, 0.0), (1193, 0.0), (1194, 0.0), (1195, 0.0), (1196, 0.0), (1197, 0.0), (1198, 0.0), (1199, 0.0), (1201, 0.0), (1204, 0.0), (1205, 0.0), (1206, 0.0), (1208, 0.0), (1209, 0.0), (1211, 0.0), (1212, 0.0), (1213, 0.0), (1214, 0.0), (1215, 0.0), (1217, 0.0), (1218, 0.0), (1220, 0.0), (1221, 0.0), (1222, 0.0), (1223, 0.0), (1224, 0.0), (1225, 0.0), (1226, 0.0), (1229, 0.0), (1230, 0.0), (1231, 0.0), (1232, 0.0), (1233, 0.0), (1236, 0.0), (1239, 0.0), (1240, 0.0), (1242, 0.0), (1243, 0.0), (1245, 0.0), (1246, 0.0), (1248, 0.0), (1250, 0.0), (1253, 0.0), (1254, 0.0), (1255, 0.0), (1257, 0.0), (1258, 0.0), (1259, 0.0), (1260, 0.0), (1261, 0.0), (1262, 0.0), (1263, 0.0), (1264, 0.0), (1265, 0.0), (1266, 0.0), (1267, 0.0), (1268, 0.0), (1271, 0.0), (1272, 0.0), (1273, 0.0), (1274, 0.0), (1275, 0.0), (1276, 0.0), (1277, 0.0), (1278, 0.0), (1279, 0.0), (1280, 0.0), (1283, 0.0), (1284, 0.0), (1285, 0.0), (1286, 0.0), (1287, 0.0), (1288, 0.0), (1289, 0.0), (1290, 0.0), (1291, 0.0), (1294, 0.0), (1295, 0.0), (1296, 0.0), (1297, 0.0), (1298, 0.0), (1299, 0.0), (1300, 0.0), (1301, 0.0), (1303, 0.0), (1304, 0.0), (1305, 0.0), (1307, 0.0), (1308, 0.0), (1310, 0.0), (1311, 0.0), (1312, 0.0), (1313, 0.0), (1314, 0.0), (1315, 0.0), (1316, 0.0), (1317, 0.0), (1318, 0.0), (1319, 0.0), (1320, 0.0), (1321, 0.0), (1322, 0.0), (1323, 0.0), (1324, 0.0), (1325, 0.0), (1327, 0.0), (1328, 0.0), (1329, 0.0), (1330, 0.0), (1331, 0.0), (1332, 0.0), (1333, 0.0), (1334, 0.0), (1335, 0.0), (1336, 0.0), (1337, 0.0), (1338, 0.0), (1340, 0.0), (1343, 0.0), (1344, 0.0), (1345, 0.0), (1346, 0.0), (1347, 0.0), (1349, 0.0), (1350, 0.0), (1352, 0.0), (1353, 0.0), (1354, 0.0), (1355, 0.0), (1357, 0.0), (1358, 0.0), (1359, 0.0), (1360, 0.0), (1361, 0.0), (1362, 0.0), (1363, 0.0), (1364, 0.0), (1365, 0.0), (1366, 0.0), (1367, 0.0), (1368, 0.0), (1369, 0.0), (1370, 0.0), (1371, 0.0), (1372, 0.0), (1374, 0.0), (1375, 0.0), (1376, 0.0), (1378, 0.0), (1380, 0.0), (1381, 0.0), (1382, 0.0), (1384, 0.0), (1385, 0.0), (1387, 0.0), (1388, 0.0), (1389, 0.0), (1391, 0.0), (1392, 0.0), (1393, 0.0), (1394, 0.0), (1395, 0.0), (1396, 0.0), (1397, 0.0), (1398, 0.0), (1399, 0.0), (1400, 0.0), (1401, 0.0), (1402, 0.0), (1403, 0.0), (1404, 0.0), (1405, 0.0), (1406, 0.0), (1407, 0.0), (1408, 0.0), (1409, 0.0), (1410, 0.0), (1411, 0.0), (1413, 0.0), (1414, 0.0), (1416, 0.0), (1417, 0.0), (1418, 0.0), (1419, 0.0), (1420, 0.0), (1421, 0.0), (1422, 0.0), (1423, 0.0), (1424, 0.0), (1426, 0.0), (1427, 0.0), (1428, 0.0), (1429, 0.0), (1430, 0.0), (1432, 0.0), (1433, 0.0), (1434, 0.0), (1436, 0.0), (1437, 0.0), (1438, 0.0), (1439, 0.0), (1440, 0.0), (1444, 0.0), (1446, 0.0), (1447, 0.0), (1448, 0.0), (1449, 0.0), (1451, 0.0), (1452, 0.0), (1453, 0.0), (1455, 0.0), (1457, 0.0), (1459, 0.0), (1461, 0.0), (1462, 0.0), (1463, 0.0), (1464, 0.0), (1465, 0.0), (1466, 0.0), (1467, 0.0), (1468, 0.0), (1469, 0.0), (1470, 0.0), (1471, 0.0), (1472, 0.0), (1473, 0.0), (1474, 0.0), (1475, 0.0), (1477, 0.0), (1478, 0.0), (1479, 0.0), (1480, 0.0), (1483, 0.0), (1484, 0.0), (1487, 0.0), (1489, 0.0), (1490, 0.0), (1491, 0.0), (1493, 0.0), (1495, 0.0), (1496, 0.0), (1497, 0.0), (1498, 0.0), (1499, 0.0), (1500, 0.0), (1501, 0.0), (1502, 0.0), (1504, 0.0), (1506, 0.0), (1507, 0.0), (1508, 0.0), (1510, 0.0), (1511, 0.0), (1512, 0.0), (1514, 0.0), (1515, 0.0), (1516, 0.0), (1517, 0.0), (1518, 0.0), (1519, 0.0), (1520, 0.0), (1521, 0.0), (1522, 0.0), (1524, 0.0), (1525, 0.0), (1526, 0.0), (1528, 0.0), (1529, 0.0), (1530, 0.0), (1532, 0.0), (1533, 0.0), (1534, 0.0), (1535, 0.0), (1536, 0.0), (1538, 0.0), (1539, 0.0), (1541, 0.0), (1542, 0.0), (1543, 0.0), (1545, 0.0), (1546, 0.0), (1547, 0.0), (1549, 0.0), (1551, 0.0), (1552, 0.0), (1554, 0.0), (1555, 0.0), (1556, 0.0), (1557, 0.0), (1558, 0.0), (1559, 0.0), (1560, 0.0), (1561, 0.0), (1563, 0.0), (1564, 0.0), (1565, 0.0), (1566, 0.0), (1567, 0.0), (1569, 0.0), (1570, 0.0), (1571, 0.0), (1572, 0.0), (1573, 0.0), (1574, 0.0), (1575, 0.0), (1577, 0.0), (1578, 0.0), (1580, 0.0), (1581, 0.0), (1582, 0.0), (1583, 0.0), (1584, 0.0), (1585, 0.0), (1586, 0.0), (1587, 0.0), (1588, 0.0), (1589, 0.0), (1590, 0.0), (1591, 0.0), (1593, 0.0), (1594, 0.0), (1596, 0.0), (1597, 0.0), (1598, 0.0), (1599, 0.0), (1600, 0.0), (1601, 0.0), (1602, 0.0), (1603, 0.0), (1604, 0.0), (1605, 0.0), (1606, 0.0), (1607, 0.0), (1608, 0.0), (1609, 0.0), (1612, 0.0), (1613, 0.0), (1614, 0.0), (1615, 0.0), (1616, 0.0), (1618, 0.0), (1619, 0.0), (1620, 0.0), (1621, 0.0), (1622, 0.0), (1623, 0.0), (1625, 0.0), (1626, 0.0), (1627, 0.0), (1628, 0.0), (1629, 0.0), (1630, 0.0), (1631, 0.0), (1632, 0.0), (1633, 0.0), (1634, 0.0), (1636, 0.0), (1637, 0.0), (1639, 0.0), (1640, 0.0), (1641, 0.0), (1642, 0.0), (1643, 0.0), (1644, 0.0), (1645, 0.0), (1646, 0.0), (1647, 0.0), (1648, 0.0), (1649, 0.0), (1651, 0.0), (1652, 0.0), (1653, 0.0), (1654, 0.0), (1655, 0.0), (1657, 0.0), (1658, 0.0), (1659, 0.0), (1660, 0.0), (1661, 0.0), (1663, 0.0), (1664, 0.0), (1666, 0.0), (1667, 0.0), (1668, 0.0), (1669, 0.0), (1670, 0.0), (1671, 0.0), (1672, 0.0), (1673, 0.0), (1674, 0.0), (1675, 0.0), (1678, 0.0), (1679, 0.0), (1681, 0.0), (1683, 0.0), (1684, 0.0), (1685, 0.0), (1686, 0.0), (1687, 0.0), (1688, 0.0), (1689, 0.0), (1691, 0.0), (1692, 0.0), (1695, 0.0), (1696, 0.0), (1697, 0.0), (1698, 0.0), (1702, 0.0), (1703, 0.0), (1704, 0.0), (1705, 0.0), (1706, 0.0), (1707, 0.0), (1708, 0.0), (1709, 0.0), (1710, 0.0), (1711, 0.0), (1713, 0.0), (1714, 0.0), (1715, 0.0), (1716, 0.0), (1717, 0.0), (1718, 0.0), (1719, 0.0), (1721, 0.0), (1722, 0.0), (1723, 0.0), (1724, 0.0), (1725, 0.0), (1726, 0.0), (1727, 0.0), (1729, 0.0), (1730, 0.0), (1732, 0.0), (1733, 0.0), (1734, 0.0), (1736, 0.0), (1737, 0.0), (1738, 0.0), (1739, 0.0), (1740, 0.0), (1741, 0.0), (1742, 0.0), (1744, 0.0), (1745, 0.0), (1747, 0.0), (1748, 0.0), (1750, 0.0), (1751, 0.0), (1752, 0.0), (1753, 0.0), (1754, 0.0), (1755, 0.0), (1756, 0.0), (1757, 0.0), (1758, 0.0), (1759, 0.0), (1761, 0.0), (1762, 0.0), (1763, 0.0), (1765, 0.0), (1766, 0.0), (1767, 0.0), (1768, 0.0), (1770, 0.0), (1771, 0.0), (1772, 0.0), (1773, 0.0), (1774, 0.0), (1775, 0.0), (1777, 0.0), (1778, 0.0), (1781, 0.0), (1782, 0.0), (1783, 0.0), (1785, 0.0), (1787, 0.0), (1788, 0.0), (1789, 0.0), (1790, 0.0), (1791, 0.0), (1792, 0.0), (1794, 0.0), (1795, 0.0), (1796, 0.0), (1799, 0.0), (1800, 0.0), (1801, 0.0), (1803, 0.0), (1804, 0.0), (1805, 0.0), (1806, 0.0), (1807, 0.0), (1808, 0.0), (1809, 0.0), (1810, 0.0), (1811, 0.0), (1812, 0.0), (1813, 0.0), (1815, 0.0), (1816, 0.0), (1817, 0.0), (1819, 0.0), (1820, 0.0), (1821, 0.0), (1822, 0.0), (1823, 0.0), (1824, 0.0), (1825, 0.0), (1826, 0.0), (1828, 0.0), (1832, 0.0), (1833, 0.0), (1834, 0.0), (1835, 0.0), (1836, 0.0), (1837, 0.0), (1838, 0.0), (1839, 0.0), (1840, 0.0), (1841, 0.0), (1842, 0.0), (1843, 0.0), (1844, 0.0), (1845, 0.0), (1846, 0.0), (1847, 0.0), (1848, 0.0), (1850, 0.0), (1851, 0.0), (1852, 0.0), (1853, 0.0), (1854, 0.0), (1856, 0.0), (1857, 0.0), (1858, 0.0), (1859, 0.0), (1860, 0.0), (1861, 0.0), (1862, 0.0), (1863, 0.0), (1864, 0.0), (1865, 0.0), (1866, 0.0), (1868, 0.0), (1869, 0.0), (1871, 0.0), (1872, 0.0), (1873, 0.0), (1875, 0.0), (1876, 0.0), (1877, 0.0), (1879, 0.0), (1880, 0.0), (1881, 0.0), (1882, 0.0), (1883, 0.0), (1884, 0.0), (1885, 0.0), (1886, 0.0), (1887, 0.0), (1888, 0.0), (1890, 0.0), (1891, 0.0), (1892, 0.0), (1893, 0.0), (1895, 0.0), (1896, 0.0), (1897, 0.0), (1899, 0.0), (1900, 0.0), (1904, 0.0), (1905, 0.0), (1906, 0.0), (1907, 0.0), (1908, 0.0), (1909, 0.0), (1910, 0.0), (1911, 0.0), (1912, 0.0), (1913, 0.0), (1914, 0.0), (1916, 0.0), (1917, 0.0), (1918, 0.0), (1919, 0.0), (1921, 0.0), (1922, 0.0), (1923, 0.0), (1924, 0.0), (1925, 0.0), (1927, 0.0), (1929, 0.0), (1930, 0.0), (1935, 0.0), (1938, 0.0), (1939, 0.0), (1940, 0.0), (1941, 0.0), (1942, 0.0), (1943, 0.0), (1945, 0.0), (1946, 0.0), (1947, 0.0), (1948, 0.0), (1949, 0.0), (1950, 0.0), (1951, 0.0), (1952, 0.0), (1953, 0.0), (1955, 0.0), (1956, 0.0), (1957, 0.0), (1958, 0.0), (1959, 0.0), (1960, 0.0), (1961, 0.0), (1962, 0.0), (1964, 0.0), (1965, 0.0), (1966, 0.0), (1967, 0.0), (1970, 0.0), (1971, 0.0), (1972, 0.0), (1973, 0.0), (1974, 0.0), (1975, 0.0), (1976, 0.0), (1977, 0.0), (1978, 0.0), (1979, 0.0), (1980, 0.0), (1981, 0.0), (1982, 0.0), (1983, 0.0), (1984, 0.0), (1985, 0.0), (1986, 0.0), (1987, 0.0), (1991, 0.0), (1992, 0.0), (1994, 0.0), (1995, 0.0), (1996, 0.0), (1997, 0.0), (1998, 0.0), (1999, 0.0), (2000, 0.0), (2001, 0.0), (2002, 0.0), (2003, 0.0), (2004, 0.0), (2006, 0.0), (2007, 0.0), (2008, 0.0), (2009, 0.0), (2010, 0.0), (2011, 0.0), (2012, 0.0), (2013, 0.0), (2014, 0.0), (2015, 0.0), (2016, 0.0), (2017, 0.0), (2018, 0.0), (2019, 0.0), (2020, 0.0), (2021, 0.0), (2022, 0.0), (2023, 0.0), (2024, 0.0), (2027, 0.0), (2029, 0.0), (2031, 0.0), (2032, 0.0), (2033, 0.0), (2034, 0.0), (2035, 0.0), (2036, 0.0), (2037, 0.0), (2038, 0.0), (2039, 0.0), (2040, 0.0), (2041, 0.0), (2042, 0.0), (2045, 0.0), (2046, 0.0), (2047, 0.0), (2048, 0.0), (2049, 0.0), (2050, 0.0), (2051, 0.0), (2052, 0.0), (2053, 0.0), (2054, 0.0), (2056, 0.0), (2057, 0.0), (2058, 0.0), (2059, 0.0), (2060, 0.0), (2061, 0.0), (2062, 0.0), (2066, 0.0), (2067, 0.0), (2069, 0.0), (2070, 0.0), (2071, 0.0), (2072, 0.0), (2074, 0.0), (2075, 0.0), (2076, 0.0), (2079, 0.0), (2080, 0.0), (2081, 0.0), (2082, 0.0), (2083, 0.0), (2084, 0.0), (2085, 0.0), (2087, 0.0), (2089, 0.0), (2090, 0.0), (2091, 0.0), (2093, 0.0), (2094, 0.0), (2095, 0.0), (2096, 0.0), (2097, 0.0), (2098, 0.0), (2099, 0.0), (2100, 0.0), (2101, 0.0), (2102, 0.0), (2103, 0.0), (2104, 0.0), (2105, 0.0), (2106, 0.0), (2107, 0.0), (2109, 0.0), (2111, 0.0), (2112, 0.0), (2113, 0.0), (2114, 0.0), (2115, 0.0), (2116, 0.0), (2117, 0.0), (2118, 0.0), (2120, 0.0), (2122, 0.0), (2123, 0.0), (2124, 0.0), (2125, 0.0), (2126, 0.0), (2127, 0.0), (2128, 0.0), (2130, 0.0), (2131, 0.0), (2132, 0.0), (2133, 0.0), (2134, 0.0), (2135, 0.0), (2136, 0.0), (2137, 0.0), (2138, 0.0), (2139, 0.0), (2140, 0.0), (2142, 0.0), (2143, 0.0), (2144, 0.0), (2145, 0.0), (2146, 0.0), (2149, 0.0), (2150, 0.0), (2151, 0.0), (2152, 0.0), (2153, 0.0), (2154, 0.0), (2157, 0.0), (2158, 0.0), (2159, 0.0), (2162, 0.0), (2163, 0.0), (2164, 0.0), (2165, 0.0), (2166, 0.0), (2167, 0.0), (2168, 0.0), (2169, 0.0), (2171, 0.0), (2172, 0.0), (2173, 0.0), (2174, 0.0), (2175, 0.0), (2176, 0.0), (2178, 0.0), (2179, 0.0), (2180, 0.0), (2181, 0.0), (2183, 0.0), (2184, 0.0), (2185, 0.0), (2186, 0.0), (2187, 0.0), (2188, 0.0), (2189, 0.0), (2190, 0.0), (2191, 0.0), (2192, 0.0), (2193, 0.0), (2194, 0.0), (2196, 0.0), (2198, 0.0), (2199, 0.0), (2200, 0.0), (2201, 0.0), (2202, 0.0), (2206, 0.0), (2207, 0.0), (2208, 0.0), (2210, 0.0), (2211, 0.0), (2212, 0.0), (2215, 0.0), (2216, 0.0), (2217, 0.0), (2219, 0.0), (2220, 0.0), (2221, 0.0), (2222, 0.0), (2223, 0.0), (2224, 0.0), (2225, 0.0), (2227, 0.0), (2228, 0.0), (2229, 0.0), (2230, 0.0), (2231, 0.0), (2232, 0.0), (2233, 0.0), (2235, 0.0), (2236, 0.0), (2237, 0.0), (2238, 0.0), (2239, 0.0), (2240, 0.0), (2241, 0.0), (2242, 0.0), (2243, 0.0), (2244, 0.0), (2245, 0.0), (2246, 0.0), (2247, 0.0), (2249, 0.0), (2250, 0.0), (2251, 0.0), (2252, 0.0), (2253, 0.0), (2254, 0.0), (2255, 0.0), (2256, 0.0), (2257, 0.0), (2258, 0.0), (2259, 0.0), (2260, 0.0), (2262, 0.0), (2263, 0.0), (2265, 0.0), (2267, 0.0), (2268, 0.0), (2269, 0.0), (2270, 0.0), (2271, 0.0), (2272, 0.0), (2273, 0.0), (2274, 0.0), (2275, 0.0), (2276, 0.0), (2277, 0.0), (2278, 0.0), (2279, 0.0), (2280, 0.0), (2281, 0.0), (2282, 0.0), (2283, 0.0), (2284, 0.0), (2285, 0.0), (2286, 0.0), (2287, 0.0), (2288, 0.0), (2289, 0.0), (2290, 0.0), (2291, 0.0), (2292, 0.0), (2293, 0.0), (2294, 0.0), (2295, 0.0), (2297, 0.0), (2298, 0.0), (2301, 0.0), (2302, 0.0), (2303, 0.0), (2304, 0.0), (2305, 0.0), (2306, 0.0), (2307, 0.0), (2308, 0.0), (2309, 0.0), (2310, 0.0), (2311, 0.0), (2312, 0.0), (2313, 0.0), (2314, 0.0), (2316, 0.0), (2317, 0.0), (2318, 0.0), (2319, 0.0), (2320, 0.0), (2321, 0.0), (2323, 0.0), (2324, 0.0), (2326, 0.0), (2328, 0.0), (2329, 0.0), (2330, 0.0), (2331, 0.0), (2332, 0.0), (2333, 0.0), (2334, 0.0), (2335, 0.0), (2336, 0.0), (2337, 0.0), (2338, 0.0), (2339, 0.0), (2340, 0.0), (2341, 0.0), (2342, 0.0), (2343, 0.0), (2344, 0.0), (2345, 0.0), (2347, 0.0), (2348, 0.0), (2349, 0.0), (2350, 0.0), (2351, 0.0), (2352, 0.0), (2353, 0.0), (2354, 0.0), (2355, 0.0), (2356, 0.0), (2357, 0.0), (2358, 0.0), (2361, 0.0), (2362, 0.0), (2363, 0.0), (2364, 0.0), (2365, 0.0), (2367, 0.0), (2369, 0.0), (2370, 0.0), (2371, 0.0), (2372, 0.0), (2373, 0.0), (2374, 0.0), (2375, 0.0), (2376, 0.0), (2377, 0.0), (2378, 0.0), (2379, 0.0), (2380, 0.0), (2381, 0.0), (2382, 0.0), (2384, 0.0), (2386, 0.0), (2387, 0.0), (2388, 0.0), (2389, 0.0), (2390, 0.0), (2391, 0.0), (2392, 0.0), (2393, 0.0), (2394, 0.0), (2395, 0.0), (2396, 0.0), (2397, 0.0), (2399, 0.0), (2400, 0.0), (2401, 0.0), (2403, 0.0), (2404, 0.0), (2405, 0.0), (2406, 0.0), (2407, 0.0), (2408, 0.0), (2409, 0.0), (2410, 0.0), (2411, 0.0), (2412, 0.0), (2414, 0.0), (2415, 0.0), (2417, 0.0), (2418, 0.0), (2419, 0.0), (2420, 0.0), (2421, 0.0), (2423, 0.0), (2424, 0.0), (2425, 0.0), (2426, 0.0), (2427, 0.0), (2428, 0.0), (2429, 0.0), (2431, 0.0), (2433, 0.0), (2434, 0.0), (2435, 0.0), (2436, 0.0), (2437, 0.0), (2438, 0.0), (2439, 0.0), (2440, 0.0), (2441, 0.0), (2442, 0.0), (2444, 0.0), (2446, 0.0), (2447, 0.0), (2448, 0.0), (2449, 0.0), (2450, 0.0), (2451, 0.0), (2452, 0.0), (2453, 0.0), (2454, 0.0), (2455, 0.0), (2456, 0.0), (2457, 0.0), (2458, 0.0), (2459, 0.0), (2460, 0.0), (2462, 0.0), (2463, 0.0), (2464, 0.0), (2466, 0.0), (2467, 0.0), (2468, 0.0), (2469, 0.0), (2470, 0.0), (2471, 0.0), (2472, 0.0), (2473, 0.0), (2474, 0.0), (2475, 0.0), (2477, 0.0), (2478, 0.0), (2479, 0.0), (2480, 0.0), (2481, 0.0), (2482, 0.0), (2483, 0.0), (2484, 0.0), (2485, 0.0), (2486, 0.0), (2487, 0.0), (2489, 0.0), (2490, 0.0), (2491, 0.0), (2492, 0.0), (2493, 0.0), (2495, 0.0), (2498, 0.0), (2499, 0.0), (2500, 0.0), (2501, 0.0), (2502, 0.0), (2503, 0.0), (2504, 0.0), (2505, 0.0), (2506, 0.0), (2507, 0.0), (2508, 0.0), (2509, 0.0), (2510, 0.0), (2511, 0.0), (2512, 0.0), (2513, 0.0), (2514, 0.0), (2515, 0.0), (2519, 0.0), (2520, 0.0), (2521, 0.0), (2522, 0.0), (2523, 0.0), (2524, 0.0), (2525, 0.0), (2527, 0.0), (2529, 0.0), (2530, 0.0), (2531, 0.0), (2532, 0.0), (2533, 0.0), (2534, 0.0), (2535, 0.0), (2536, 0.0), (2537, 0.0), (2538, 0.0), (2539, 0.0), (2541, 0.0), (2542, 0.0), (2543, 0.0), (2544, 0.0), (2545, 0.0), (2546, 0.0), (2547, 0.0), (2548, 0.0), (2549, 0.0), (2550, 0.0), (2551, 0.0), (2552, 0.0), (2554, 0.0), (2555, 0.0), (2556, 0.0), (2557, 0.0), (2558, 0.0), (2559, 0.0), (2560, 0.0), (2561, 0.0), (2563, 0.0), (2564, 0.0), (2565, 0.0), (2566, 0.0), (2567, 0.0), (2568, 0.0), (2569, 0.0), (2571, 0.0), (2572, 0.0), (2573, 0.0), (2574, 0.0), (2575, 0.0), (2576, 0.0), (2577, 0.0), (2578, 0.0), (2581, 0.0), (2582, 0.0), (2583, 0.0), (2584, 0.0), (2585, 0.0), (2586, 0.0), (2587, 0.0), (2589, 0.0), (2590, 0.0), (2591, 0.0), (2592, 0.0), (2593, 0.0), (2594, 0.0), (2595, 0.0), (2596, 0.0), (2597, 0.0), (2598, 0.0), (2599, 0.0), (2600, 0.0), (2601, 0.0), (2603, 0.0), (2605, 0.0), (2606, 0.0), (2607, 0.0), (2608, 0.0), (2609, 0.0), (2610, 0.0), (2611, 0.0), (2612, 0.0), (2613, 0.0), (2614, 0.0), (2615, 0.0), (2616, 0.0), (2617, 0.0), (2618, 0.0), (2619, 0.0), (2621, 0.0), (2622, 0.0), (2623, 0.0), (2624, 0.0), (2628, 0.0), (2629, 0.0), (2630, 0.0), (2631, 0.0), (2632, 0.0), (2633, 0.0), (2634, 0.0), (2635, 0.0), (2636, 0.0), (2637, 0.0), (2638, 0.0), (2640, 0.0), (2641, 0.0), (2642, 0.0), (2643, 0.0), (2644, 0.0), (2645, 0.0), (2646, 0.0), (2648, 0.0), (2649, 0.0), (2650, 0.0), (2651, 0.0), (2652, 0.0), (2653, 0.0), (2655, 0.0), (2656, 0.0), (2657, 0.0), (2658, 0.0), (2659, 0.0), (2660, 0.0), (2661, 0.0), (2662, 0.0), (2663, 0.0), (2664, 0.0), (2665, 0.0), (2666, 0.0), (2667, 0.0), (2668, 0.0), (2669, 0.0), (2671, 0.0), (2672, 0.0), (2674, 0.0), (2676, 0.0), (2678, 0.0), (2679, 0.0), (2680, 0.0), (2682, 0.0), (2683, 0.0), (2684, 0.0), (2685, 0.0), (2686, 0.0), (2687, 0.0), (2688, 0.0), (2689, 0.0), (2690, 0.0), (2691, 0.0), (2692, 0.0), (2693, 0.0), (2694, 0.0), (2695, 0.0), (2696, 0.0), (2697, 0.0), (2698, 0.0), (2699, 0.0), (2700, 0.0), (2702, 0.0), (2703, 0.0), (2704, 0.0), (2705, 0.0), (2706, 0.0), (2707, 0.0), (2708, 0.0), (2709, 0.0), (2710, 0.0), (2712, 0.0), (2713, 0.0), (2714, 0.0), (2715, 0.0), (2716, 0.0), (2717, 0.0), (2718, 0.0), (2719, 0.0), (2720, 0.0), (2721, 0.0), (2722, 0.0), (2724, 0.0), (2725, 0.0), (2726, 0.0), (2727, 0.0), (2728, 0.0), (2729, 0.0), (2730, 0.0), (2731, 0.0), (2732, 0.0), (2733, 0.0), (2734, 0.0), (2735, 0.0), (2736, 0.0), (2737, 0.0), (2738, 0.0), (2739, 0.0), (2740, 0.0), (2741, 0.0), (2742, 0.0), (2743, 0.0), (2744, 0.0), (2745, 0.0), (2746, 0.0), (2748, 0.0), (2749, 0.0), (2750, 0.0), (2751, 0.0), (2752, 0.0), (2754, 0.0), (2756, 0.0), (2757, 0.0), (2758, 0.0), (2759, 0.0), (2760, 0.0), (2761, 0.0), (2762, 0.0), (2763, 0.0), (2764, 0.0), (2765, 0.0), (2767, 0.0), (2768, 0.0), (2769, 0.0), (2770, 0.0), (2771, 0.0), (2772, 0.0), (2773, 0.0), (2774, 0.0), (2775, 0.0), (2776, 0.0), (2777, 0.0), (2778, 0.0), (2779, 0.0), (2780, 0.0), (2781, 0.0), (2782, 0.0), (2783, 0.0), (2784, 0.0), (2785, 0.0), (2786, 0.0), (2787, 0.0), (2788, 0.0), (2789, 0.0), (2791, 0.0), (2792, 0.0), (2793, 0.0), (2794, 0.0), (2795, 0.0), (2796, 0.0), (2797, 0.0), (2799, 0.0), (2800, 0.0), (2803, 0.0), (2804, 0.0), (2806, 0.0), (2807, 0.0), (2808, 0.0), (2809, 0.0), (2810, 0.0), (2811, 0.0), (2812, 0.0), (2814, 0.0), (2815, 0.0), (2816, 0.0), (2817, 0.0), (2818, 0.0), (2819, 0.0), (2820, 0.0), (2821, 0.0), (2822, 0.0), (2823, 0.0), (2824, 0.0), (2825, 0.0), (2826, 0.0), (2827, 0.0), (2828, 0.0), (2830, 0.0), (2831, 0.0), (2832, 0.0), (2837, 0.0), (2838, 0.0), (2839, 0.0), (2840, 0.0), (2841, 0.0), (2843, 0.0), (2846, 0.0), (2847, 0.0), (2848, 0.0), (2849, 0.0), (2850, 0.0), (2851, 0.0), (2852, 0.0), (2853, 0.0), (2855, 0.0), (2856, 0.0), (2857, 0.0), (2858, 0.0), (2859, 0.0), (2860, 0.0), (2861, 0.0), (2863, 0.0), (2864, 0.0), (2865, 0.0), (2866, 0.0), (2867, 0.0), (2868, 0.0), (2869, 0.0), (2870, 0.0), (2871, 0.0), (2872, 0.0), (2873, 0.0), (2874, 0.0), (2875, 0.0), (2877, 0.0), (2878, 0.0), (2879, 0.0), (2880, 0.0), (2881, 0.0), (2883, 0.0), (2885, 0.0), (2886, 0.0), (2887, 0.0), (2888, 0.0), (2889, 0.0), (2890, 0.0), (2891, 0.0), (2892, 0.0), (2893, 0.0), (2894, 0.0), (2895, 0.0), (2896, 0.0), (2897, 0.0), (2898, 0.0), (2899, 0.0), (2900, 0.0), (2901, 0.0), (2902, 0.0), (2904, 0.0), (2905, 0.0), (2907, 0.0), (2908, 0.0), (2909, 0.0), (2911, 0.0), (2912, 0.0), (2913, 0.0), (2914, 0.0), (2915, 0.0), (2916, 0.0), (2920, 0.0), (2921, 0.0), (2922, 0.0), (2923, 0.0), (2924, 0.0), (2925, 0.0), (2926, 0.0), (2927, 0.0), (2929, 0.0), (2931, 0.0), (2932, 0.0), (2933, 0.0), (2934, 0.0), (2937, 0.0), (2938, 0.0), (2939, 0.0), (2940, 0.0), (2941, 0.0), (2942, 0.0), (2943, 0.0), (2944, 0.0), (2945, 0.0), (2946, 0.0), (2947, 0.0), (2948, 0.0), (2949, 0.0), (2950, 0.0), (2951, 0.0), (2952, 0.0), (2954, 0.0), (2955, 0.0), (2957, 0.0), (2958, 0.0), (2959, 0.0), (2960, 0.0), (2961, 0.0), (2962, 0.0), (2963, 0.0), (2964, 0.0), (2966, 0.0), (2967, 0.0), (2969, 0.0), (2970, 0.0), (2971, 0.0), (2972, 0.0), (2973, 0.0), (2974, 0.0), (2975, 0.0), (2976, 0.0), (2977, 0.0), (2978, 0.0), (2979, 0.0), (2981, 0.0), (2982, 0.0), (2983, 0.0), (2984, 0.0), (2985, 0.0), (2986, 0.0), (2987, 0.0), (2989, 0.0), (2990, 0.0), (2991, 0.0), (2992, 0.0), (2993, 0.0), (2994, 0.0), (2995, 0.0), (2996, 0.0), (2997, 0.0), (2998, 0.0), (2999, 0.0), (3002, 0.0), (3003, 0.0), (3004, 0.0), (3005, 0.0), (3006, 0.0), (3007, 0.0), (3009, 0.0), (3011, 0.0), (3012, 0.0), (3013, 0.0), (3014, 0.0), (3015, 0.0), (3016, 0.0), (3017, 0.0), (3018, 0.0), (3019, 0.0), (3020, 0.0), (3021, 0.0), (3022, 0.0), (3023, 0.0), (3025, 0.0), (3026, 0.0), (3027, 0.0), (3028, 0.0), (3030, 0.0), (3031, 0.0), (3032, 0.0), (3033, 0.0), (3034, 0.0), (3035, 0.0), (3036, 0.0), (3037, 0.0), (3038, 0.0), (3039, 0.0), (3040, 0.0), (3041, 0.0), (3042, 0.0), (3044, 0.0), (3046, 0.0), (3049, 0.0), (3050, 0.0), (3051, 0.0), (3052, 0.0), (3053, 0.0), (3055, 0.0), (3058, 0.0), (3059, 0.0), (3060, 0.0), (3061, 0.0), (3062, 0.0), (3063, 0.0), (3064, 0.0), (3065, 0.0), (3066, 0.0), (3067, 0.0), (3068, 0.0), (3069, 0.0), (3072, 0.0), (3073, 0.0), (3074, 0.0), (3075, 0.0), (3076, 0.0), (3077, 0.0), (3078, 0.0), (3079, 0.0), (3080, 0.0), (3082, 0.0), (3083, 0.0), (3084, 0.0), (3087, 0.0), (3088, 0.0), (3089, 0.0), (3092, 0.0), (3094, 0.0), (3095, 0.0), (3097, 0.0), (3099, 0.0), (3100, 0.0), (3101, 0.0), (3102, 0.0), (3103, 0.0), (3104, 0.0), (3105, 0.0), (3107, 0.0), (3108, 0.0), (3110, 0.0), (3111, 0.0), (3112, 0.0), (3113, 0.0), (3114, 0.0), (3115, 0.0), (3117, 0.0), (3118, 0.0), (3119, 0.0), (3121, 0.0), (3122, 0.0), (3123, 0.0), (3124, 0.0), (3125, 0.0), (3126, 0.0), (3127, 0.0), (3128, 0.0), (3129, 0.0), (3131, 0.0), (3132, 0.0), (3133, 0.0), (3134, 0.0), (3135, 0.0), (3136, 0.0), (3137, 0.0), (3138, 0.0), (3139, 0.0), (3140, 0.0), (3141, 0.0), (3142, 0.0), (3143, 0.0), (3144, 0.0), (3145, 0.0), (3146, 0.0), (3147, 0.0), (3148, 0.0), (3149, 0.0), (3150, 0.0), (3151, 0.0), (3152, 0.0), (3153, 0.0), (3154, 0.0), (3155, 0.0), (3157, 0.0), (3158, 0.0), (3159, 0.0), (3160, 0.0), (3161, 0.0), (3162, 0.0), (3163, 0.0), (3164, 0.0), (3165, 0.0), (3166, 0.0), (3167, 0.0), (3168, 0.0), (3170, 0.0), (3171, 0.0), (3172, 0.0), (3173, 0.0), (3174, 0.0), (3175, 0.0), (3176, 0.0), (3177, 0.0), (3178, 0.0), (3179, 0.0), (3181, 0.0), (3182, 0.0), (3183, 0.0), (3184, 0.0), (3185, 0.0), (3187, 0.0), (3188, 0.0), (3190, 0.0), (3191, 0.0), (3192, 0.0), (3193, 0.0), (3194, 0.0), (3195, 0.0), (3196, 0.0), (3197, 0.0), (3198, 0.0), (3199, 0.0), (3200, 0.0), (3202, 0.0), (3203, 0.0), (3204, 0.0), (3207, 0.0), (3208, 0.0), (3209, 0.0), (3210, 0.0), (3211, 0.0), (3212, 0.0), (3214, 0.0), (3215, 0.0), (3216, 0.0), (3217, 0.0), (3218, 0.0), (3219, 0.0), (3220, 0.0), (3221, 0.0), (3222, 0.0), (3223, 0.0), (3225, 0.0), (3226, 0.0), (3227, 0.0), (3228, 0.0), (3229, 0.0), (3230, 0.0), (3231, 0.0), (3232, 0.0), (3233, 0.0), (3234, 0.0), (3235, 0.0), (3236, 0.0), (3239, 0.0), (3240, 0.0), (3242, 0.0), (3244, 0.0), (3245, 0.0), (3246, 0.0), (3248, 0.0), (3249, 0.0), (3250, 0.0), (3251, 0.0), (3252, 0.0), (3253, 0.0), (3257, 0.0), (3258, 0.0), (3259, 0.0), (3260, 0.0), (3261, 0.0), (3262, 0.0), (3263, 0.0), (3264, 0.0), (3265, 0.0), (3267, 0.0), (3268, 0.0), (3269, 0.0), (3270, 0.0), (3271, 0.0), (3272, 0.0), (3273, 0.0), (3274, 0.0), (3276, 0.0), (3277, 0.0), (3279, 0.0), (3280, 0.0), (3281, 0.0), (3282, 0.0), (3284, 0.0), (3285, 0.0), (3286, 0.0), (3287, 0.0), (3288, 0.0), (3289, 0.0), (3291, 0.0), (3292, 0.0), (3293, 0.0), (3294, 0.0), (3296, 0.0), (3297, 0.0), (3299, 0.0), (3300, 0.0), (3302, 0.0), (3303, 0.0), (3304, 0.0), (3305, 0.0), (3307, 0.0), (3308, 0.0), (3309, 0.0), (3310, 0.0), (3312, 0.0), (3314, 0.0), (3315, 0.0), (3316, 0.0), (3318, 0.0), (3319, 0.0), (3320, 0.0), (3321, 0.0), (3322, 0.0), (3323, 0.0), (3324, 0.0), (3325, 0.0), (3326, 0.0), (3327, 0.0), (3328, 0.0), (3329, 0.0), (3330, 0.0), (3333, 0.0), (3334, 0.0), (3335, 0.0), (3336, 0.0), (3337, 0.0), (3338, 0.0), (3339, 0.0), (3340, 0.0), (3341, 0.0), (3343, 0.0), (3344, 0.0), (3345, 0.0), (3346, 0.0), (3347, 0.0), (3348, 0.0), (3349, 0.0), (3350, 0.0), (3351, 0.0), (3353, 0.0), (3354, 0.0), (3355, 0.0), (3356, 0.0), (3357, 0.0), (3358, 0.0), (3359, 0.0), (3360, 0.0), (3361, 0.0), (3362, 0.0), (3363, 0.0), (3364, 0.0), (3366, 0.0), (3367, 0.0), (3368, 0.0), (3369, 0.0), (3370, 0.0), (3371, 0.0), (3372, 0.0), (3373, 0.0), (3374, 0.0), (3375, 0.0), (3376, 0.0), (3377, 0.0), (3379, 0.0), (3380, 0.0), (3381, 0.0), (3382, 0.0), (3383, 0.0), (3385, 0.0), (3386, 0.0), (3387, 0.0), (3388, 0.0), (3390, 0.0), (3391, 0.0), (3392, 0.0), (3393, 0.0), (3394, 0.0), (3396, 0.0), (3397, 0.0), (3398, 0.0), (3399, 0.0), (3400, 0.0), (3401, 0.0), (3402, 0.0), (3403, 0.0), (3404, 0.0), (3406, 0.0), (3408, 0.0), (3409, 0.0), (3410, 0.0), (3411, 0.0), (3412, 0.0), (3413, 0.0), (3414, 0.0), (3416, 0.0), (3417, 0.0), (3419, 0.0), (3420, 0.0), (3421, 0.0), (3422, 0.0), (3423, 0.0), (3424, 0.0), (3425, 0.0), (3426, 0.0), (3428, 0.0), (3429, 0.0), (3430, 0.0), (3431, 0.0), (3432, 0.0), (3433, 0.0), (3434, 0.0), (3435, 0.0), (3436, 0.0), (3437, 0.0), (3439, 0.0), (3440, 0.0), (3441, 0.0), (3443, 0.0), (3444, 0.0), (3445, 0.0), (3446, 0.0), (3447, 0.0), (3449, 0.0), (3450, 0.0), (3451, 0.0), (3452, 0.0), (3453, 0.0), (3455, 0.0), (3456, 0.0), (3457, 0.0), (3460, 0.0), (3461, 0.0), (3464, 0.0), (3465, 0.0), (3467, 0.0), (3468, 0.0), (3469, 0.0), (3470, 0.0), (3471, 0.0), (3472, 0.0), (3473, 0.0), (3474, 0.0), (3475, 0.0), (3476, 0.0), (3477, 0.0), (3478, 0.0), (3479, 0.0), (3480, 0.0), (3481, 0.0), (3482, 0.0), (3483, 0.0), (3484, 0.0), (3485, 0.0), (3486, 0.0), (3487, 0.0), (3488, 0.0), (3489, 0.0), (3490, 0.0), (3491, 0.0), (3492, 0.0), (3493, 0.0), (3496, 0.0), (3497, 0.0), (3498, 0.0), (3499, 0.0), (3500, 0.0), (3501, 0.0), (3502, 0.0), (3503, 0.0), (3505, 0.0), (3506, 0.0), (3507, 0.0), (3508, 0.0), (3509, 0.0), (3510, 0.0), (3511, 0.0), (3513, 0.0), (3514, 0.0), (3515, 0.0), (3516, 0.0), (3518, 0.0), (3519, 0.0), (3520, 0.0), (3521, 0.0), (3522, 0.0), (3523, 0.0), (3525, 0.0), (3526, 0.0), (3527, 0.0), (3528, 0.0), (3529, 0.0), (3530, 0.0), (3531, 0.0), (3532, 0.0), (3533, 0.0), (3534, 0.0), (3536, 0.0), (3537, 0.0), (3538, 0.0), (3539, 0.0), (3540, 0.0), (3541, 0.0), (3542, 0.0), (3543, 0.0), (3544, 0.0), (3545, 0.0), (3546, 0.0), (3547, 0.0), (3548, 0.0), (3549, 0.0), (3550, 0.0), (3551, 0.0), (3552, 0.0), (3553, 0.0), (3554, 0.0), (3557, 0.0), (3558, 0.0), (3560, 0.0), (3561, 0.0), (3562, 0.0), (3563, 0.0), (3564, 0.0), (3565, 0.0), (3567, 0.0), (3568, 0.0), (3569, 0.0), (3570, 0.0), (3571, 0.0), (3572, 0.0), (3573, 0.0), (3574, 0.0), (3575, 0.0), (3576, 0.0), (3577, 0.0), (3579, 0.0), (3580, 0.0), (3581, 0.0), (3583, 0.0), (3584, 0.0), (3585, 0.0), (3586, 0.0), (3587, 0.0), (3588, 0.0), (3589, 0.0), (3590, 0.0), (3591, 0.0), (3592, 0.0), (3593, 0.0), (3594, 0.0), (3595, 0.0), (3596, 0.0), (3597, 0.0), (3598, 0.0), (3599, 0.0), (3600, 0.0), (3601, 0.0), (3602, 0.0), (3603, 0.0), (3604, 0.0), (3605, 0.0), (3606, 0.0), (3607, 0.0), (3608, 0.0), (3609, 0.0), (3610, 0.0), (3611, 0.0), (3613, 0.0), (3614, 0.0), (3615, 0.0), (3616, 0.0), (3617, 0.0), (3619, 0.0), (3620, 0.0), (3621, 0.0), (3622, 0.0), (3623, 0.0), (3624, 0.0), (3625, 0.0), (3627, 0.0), (3628, 0.0), (3629, 0.0), (3630, 0.0), (3631, 0.0), (3632, 0.0), (3633, 0.0), (3634, 0.0), (3635, 0.0), (3636, 0.0), (3637, 0.0), (3638, 0.0), (3639, 0.0), (3640, 0.0), (3641, 0.0), (3642, 0.0), (3643, 0.0), (3644, 0.0), (3645, 0.0), (3646, 0.0), (3648, 0.0), (3649, 0.0), (3650, 0.0), (3652, 0.0), (3653, 0.0), (3654, 0.0), (3655, 0.0), (3656, 0.0), (3657, 0.0), (3659, 0.0), (3661, 0.0), (3662, 0.0), (3663, 0.0), (3664, 0.0), (3665, 0.0), (3667, 0.0), (3668, 0.0), (3669, 0.0), (3670, 0.0), (3671, 0.0), (3672, 0.0), (3673, 0.0), (3674, 0.0), (3675, 0.0), (3676, 0.0), (3677, 0.0), (3679, 0.0), (3680, 0.0), (3681, 0.0), (3682, 0.0), (3684, 0.0), (3685, 0.0), (3686, 0.0), (3687, 0.0), (3688, 0.0), (3689, 0.0), (3690, 0.0), (3692, 0.0), (3693, 0.0), (3694, 0.0), (3695, 0.0), (3696, 0.0), (3697, 0.0), (3698, 0.0), (3699, 0.0), (3700, 0.0), (3701, 0.0), (3702, 0.0), (3703, 0.0), (3704, 0.0), (3705, 0.0), (3707, 0.0), (3708, 0.0), (3709, 0.0), (3712, 0.0), (3713, 0.0), (3714, 0.0), (3715, 0.0), (3716, 0.0), (3717, 0.0), (3718, 0.0), (3719, 0.0), (3720, 0.0), (3721, 0.0), (3722, 0.0), (3723, 0.0), (3724, 0.0), (3725, 0.0), (3726, 0.0), (3727, 0.0), (3728, 0.0), (3729, 0.0), (3730, 0.0), (3732, 0.0), (3734, 0.0), (3735, 0.0), (3736, 0.0), (3737, 0.0), (3738, 0.0), (3739, 0.0), (3740, 0.0), (3741, 0.0), (3742, 0.0), (3743, 0.0), (3744, 0.0), (3745, 0.0), (3747, 0.0), (3748, 0.0), (3749, 0.0), (3750, 0.0), (3751, 0.0), (3752, 0.0), (3753, 0.0), (3754, 0.0), (3755, 0.0), (3756, 0.0), (3759, 0.0), (3760, 0.0), (3761, 0.0), (3762, 0.0), (3763, 0.0), (3764, 0.0), (3765, 0.0), (3766, 0.0), (3767, 0.0), (3768, 0.0), (3769, 0.0), (3770, 0.0), (3771, 0.0), (3772, 0.0), (3773, 0.0), (3774, 0.0), (3776, 0.0), (3778, 0.0), (3779, 0.0), (3780, 0.0), (3781, 0.0), (3782, 0.0), (3783, 0.0), (3784, 0.0), (3785, 0.0), (3786, 0.0), (3787, 0.0), (3788, 0.0), (3789, 0.0), (3790, 0.0), (3791, 0.0), (3792, 0.0), (3793, 0.0), (3794, 0.0), (3796, 0.0), (3797, 0.0), (3798, 0.0), (3799, 0.0), (3800, 0.0), (3802, 0.0), (3803, 0.0), (3804, 0.0), (3805, 0.0), (3806, 0.0), (3807, 0.0), (3808, 0.0), (3809, 0.0), (3810, 0.0), (3811, 0.0), (3812, 0.0), (3813, 0.0), (3814, 0.0), (3815, 0.0), (3817, 0.0), (3818, 0.0), (3819, 0.0), (3820, 0.0), (3821, 0.0), (3823, 0.0), (3824, 0.0), (3826, 0.0), (3827, 0.0), (3828, 0.0), (3829, 0.0), (3830, 0.0), (3831, 0.0), (3832, 0.0), (3833, 0.0), (3834, 0.0), (3835, 0.0), (3836, 0.0), (3838, 0.0), (3839, 0.0), (3840, 0.0), (3841, 0.0), (3842, 0.0), (3844, 0.0), (3845, 0.0), (3846, 0.0), (3847, 0.0), (3848, 0.0), (3849, 0.0), (3851, 0.0), (3852, 0.0), (3853, 0.0), (3854, 0.0), (3855, 0.0), (3856, 0.0), (3857, 0.0), (3858, 0.0), (3859, 0.0), (3861, 0.0), (3863, 0.0), (3864, 0.0), (3865, 0.0), (3866, 0.0), (3867, 0.0), (3868, 0.0), (3869, 0.0), (3870, 0.0), (3871, 0.0), (3872, 0.0), (3873, 0.0), (3874, 0.0), (3875, 0.0), (3876, 0.0), (3877, 0.0), (3878, 0.0), (3879, 0.0), (3880, 0.0), (3881, 0.0), (3882, 0.0), (3883, 0.0), (3884, 0.0), (3887, 0.0), (3889, 0.0), (3890, 0.0), (3892, 0.0), (3893, 0.0), (3894, 0.0), (3895, 0.0), (3896, 0.0), (3898, 0.0), (3899, 0.0), (3900, 0.0), (3901, 0.0), (3902, 0.0), (3903, 0.0), (3904, 0.0), (3905, 0.0), (3907, 0.0), (3908, 0.0), (3909, 0.0), (3910, 0.0), (3911, 0.0), (3912, 0.0), (3914, 0.0), (3915, 0.0), (3916, 0.0), (3917, 0.0), (3918, 0.0), (3919, 0.0), (3920, 0.0), (3921, 0.0), (3922, 0.0), (3923, 0.0), (3926, 0.0), (3927, 0.0), (3928, 0.0), (3929, 0.0), (3930, 0.0), (3931, 0.0), (3932, 0.0), (3933, 0.0), (3934, 0.0), (3935, 0.0), (3936, 0.0), (3937, 0.0), (3938, 0.0), (3939, 0.0), (3940, 0.0), (3941, 0.0), (3943, 0.0), (3944, 0.0), (3945, 0.0), (3946, 0.0), (3947, 0.0), (3948, 0.0), (3949, 0.0), (3950, 0.0), (3951, 0.0), (3952, 0.0), (3953, 0.0), (3954, 0.0), (3955, 0.0), (3956, 0.0), (3957, 0.0), (3958, 0.0), (3959, 0.0), (3960, 0.0), (3961, 0.0), (3962, 0.0), (3963, 0.0), (3964, 0.0), (3965, 0.0), (3966, 0.0), (3967, 0.0), (3968, 0.0), (3969, 0.0), (3970, 0.0), (3971, 0.0), (3972, 0.0), (3974, 0.0), (3975, 0.0), (3976, 0.0), (3977, 0.0), (3978, 0.0), (3979, 0.0), (3980, 0.0), (3981, 0.0), (3982, 0.0), (3985, 0.0), (3986, 0.0), (3987, 0.0), (3988, 0.0), (3990, 0.0), (3991, 0.0), (3992, 0.0), (3993, 0.0), (3995, 0.0), (3996, 0.0), (3997, 0.0), (3998, 0.0), (3999, 0.0), (4000, 0.0), (4001, 0.0), (4002, 0.0), (4004, 0.0), (4005, 0.0), (4006, 0.0), (4007, 0.0), (4008, 0.0), (4009, 0.0), (4010, 0.0), (4011, 0.0), (4012, 0.0), (4013, 0.0), (4015, 0.0), (4016, 0.0), (4017, 0.0), (4019, 0.0), (4020, 0.0), (4021, 0.0), (4022, 0.0), (4023, 0.0), (4025, 0.0), (4026, 0.0), (4027, 0.0), (4028, 0.0), (4029, 0.0), (4030, 0.0), (4031, 0.0), (4032, 0.0), (4033, 0.0), (4034, 0.0), (4035, 0.0), (4036, 0.0), (4037, 0.0), (4039, 0.0), (4040, 0.0), (4041, 0.0), (4042, 0.0), (4043, 0.0), (4044, 0.0), (4046, 0.0), (4048, 0.0), (4049, 0.0), (4050, 0.0), (4051, 0.0), (4052, 0.0), (4053, 0.0), (4054, 0.0), (4058, 0.0), (4059, 0.0), (4061, 0.0), (4062, 0.0), (4064, 0.0), (4065, 0.0), (4066, 0.0), (4067, 0.0), (4068, 0.0), (4069, 0.0), (4071, 0.0), (4072, 0.0), (4073, 0.0), (4074, 0.0), (4075, 0.0), (4076, 0.0), (4077, 0.0), (4078, 0.0), (4079, 0.0), (4080, 0.0), (4081, 0.0), (4082, 0.0), (4083, 0.0), (4084, 0.0), (4085, 0.0), (4086, 0.0), (4087, 0.0), (4088, 0.0), (4089, 0.0), (4090, 0.0), (4091, 0.0), (4092, 0.0), (4093, 0.0), (4094, 0.0), (4095, 0.0), (4096, 0.0), (4097, 0.0), (4099, 0.0), (4100, 0.0), (4101, 0.0), (4102, 0.0), (4103, 0.0), (4104, 0.0), (4105, 0.0), (4106, 0.0), (4107, 0.0), (4108, 0.0), (4110, 0.0), (4111, 0.0), (4112, 0.0), (4113, 0.0), (4114, 0.0), (4115, 0.0), (4117, 0.0), (4118, 0.0), (4119, 0.0), (4120, 0.0), (4121, 0.0), (4122, 0.0), (4123, 0.0), (4124, 0.0), (4125, 0.0), (4126, 0.0), (4127, 0.0), (4129, 0.0), (4130, 0.0), (4131, 0.0), (4132, 0.0), (4133, 0.0), (4134, 0.0), (4137, 0.0), (4138, 0.0), (4139, 0.0), (4140, 0.0), (4141, 0.0), (4142, 0.0), (4143, 0.0), (4144, 0.0), (4145, 0.0), (4146, 0.0), (4147, 0.0), (4148, 0.0), (4150, 0.0), (4152, 0.0), (4153, 0.0), (4154, 0.0), (4155, 0.0), (4156, 0.0), (4157, 0.0), (4159, 0.0), (4160, 0.0), (4162, 0.0), (4163, 0.0), (4164, 0.0), (4165, 0.0), (4166, 0.0), (4167, 0.0), (4168, 0.0), (4170, 0.0), (4171, 0.0), (4172, 0.0), (4173, 0.0), (4175, 0.0), (4176, 0.0), (4177, 0.0), (4178, 0.0), (4179, 0.0), (4180, 0.0), (4181, 0.0), (4182, 0.0), (4183, 0.0), (4184, 0.0), (4185, 0.0), (4186, 0.0), (4187, 0.0), (4188, 0.0), (4189, 0.0), (4190, 0.0), (4191, 0.0), (4192, 0.0), (4194, 0.0), (4195, 0.0), (4196, 0.0), (4197, 0.0), (4198, 0.0), (4199, 0.0), (4200, 0.0), (4201, 0.0), (4202, 0.0), (4203, 0.0), (4204, 0.0), (4205, 0.0), (4206, 0.0), (4207, 0.0), (4208, 0.0), (4209, 0.0), (4210, 0.0), (4211, 0.0), (4212, 0.0), (4213, 0.0), (4215, 0.0), (4216, 0.0), (4217, 0.0), (4218, 0.0), (4219, 0.0), (4220, 0.0), (4221, 0.0), (4222, 0.0), (4223, 0.0), (4226, 0.0), (4227, 0.0), (4228, 0.0), (4229, 0.0), (4230, 0.0), (4231, 0.0), (4232, 0.0), (4233, 0.0), (4234, 0.0), (4235, 0.0), (4238, 0.0), (4239, 0.0), (4240, 0.0), (4241, 0.0), (4242, 0.0), (4243, 0.0), (4244, 0.0), (4247, 0.0), (4249, 0.0), (4250, 0.0), (4251, 0.0), (4252, 0.0), (4253, 0.0), (4254, 0.0), (4255, 0.0), (4256, 0.0), (4257, 0.0), (4258, 0.0), (4259, 0.0), (4260, 0.0), (4261, 0.0), (4263, 0.0), (4264, 0.0), (4266, 0.0), (4267, 0.0), (4269, 0.0), (4270, 0.0), (4271, 0.0), (4272, 0.0), (4273, 0.0), (4274, 0.0), (4275, 0.0), (4276, 0.0), (4277, 0.0), (4278, 0.0), (4279, 0.0), (4280, 0.0), (4281, 0.0), (4283, 0.0), (4284, 0.0), (4285, 0.0), (4286, 0.0), (4287, 0.0), (4288, 0.0), (4290, 0.0), (4291, 0.0), (4292, 0.0), (4293, 0.0), (4294, 0.0), (4295, 0.0), (4296, 0.0), (4297, 0.0), (4298, 0.0), (4299, 0.0), (4300, 0.0), (4301, 0.0), (4302, 0.0), (4304, 0.0), (4305, 0.0), (4307, 0.0), (4308, 0.0), (4309, 0.0), (4310, 0.0), (4311, 0.0), (4312, 0.0), (4313, 0.0), (4314, 0.0), (4315, 0.0), (4316, 0.0), (4317, 0.0), (4318, 0.0), (4319, 0.0), (4320, 0.0), (4322, 0.0), (4323, 0.0), (4324, 0.0), (4325, 0.0), (4326, 0.0), (4327, 0.0), (4328, 0.0), (4330, 0.0), (4331, 0.0), (4332, 0.0), (4333, 0.0), (4334, 0.0), (4335, 0.0), (4336, 0.0), (4338, 0.0), (4339, 0.0), (4340, 0.0), (4341, 0.0), (4342, 0.0), (4343, 0.0), (4344, 0.0), (4345, 0.0), (4346, 0.0), (4347, 0.0), (4348, 0.0), (4349, 0.0), (4350, 0.0), (4351, 0.0), (4352, 0.0), (4353, 0.0), (4354, 0.0), (4355, 0.0), (4356, 0.0), (4357, 0.0), (4359, 0.0), (4360, 0.0), (4361, 0.0), (4362, 0.0), (4363, 0.0), (4364, 0.0), (4366, 0.0), (4367, 0.0), (4368, 0.0), (4369, 0.0), (4370, 0.0), (4372, 0.0), (4373, 0.0), (4374, 0.0), (4375, 0.0), (4376, 0.0), (4377, 0.0), (4378, 0.0), (4379, 0.0), (4380, 0.0), (4381, 0.0), (4382, 0.0), (4383, 0.0), (4384, 0.0), (4385, 0.0), (4386, 0.0), (4387, 0.0), (4388, 0.0), (4389, 0.0), (4390, 0.0), (4391, 0.0), (4392, 0.0), (4393, 0.0), (4394, 0.0), (4395, 0.0), (4396, 0.0), (4397, 0.0), (4398, 0.0), (4399, 0.0), (4400, 0.0), (4401, 0.0), (4403, 0.0), (4404, 0.0), (4405, 0.0), (4406, 0.0), (4408, 0.0), (4409, 0.0), (4410, 0.0), (4412, 0.0), (4413, 0.0), (4414, 0.0), (4415, 0.0), (4416, 0.0), (4417, 0.0), (4418, 0.0), (4419, 0.0), (4420, 0.0), (4421, 0.0), (4422, 0.0), (4423, 0.0), (4424, 0.0), (4425, 0.0), (4426, 0.0), (4427, 0.0), (4428, 0.0), (4429, 0.0), (4430, 0.0), (4431, 0.0), (4432, 0.0), (4433, 0.0), (4434, 0.0), (4435, 0.0), (4436, 0.0), (4438, 0.0), (4439, 0.0), (4440, 0.0), (4441, 0.0), (4443, 0.0), (4444, 0.0), (4445, 0.0), (4446, 0.0), (4447, 0.0), (4448, 0.0), (4449, 0.0), (4450, 0.0), (4451, 0.0), (4452, 0.0), (4453, 0.0), (4454, 0.0), (4455, 0.0), (4456, 0.0), (4457, 0.0), (4458, 0.0), (4460, 0.0), (4461, 0.0), (4462, 0.0), (4463, 0.0), (4464, 0.0), (4465, 0.0), (4466, 0.0), (4467, 0.0), (4468, 0.0), (4469, 0.0), (4471, 0.0), (4472, 0.0), (4473, 0.0), (4475, 0.0), (4476, 0.0), (4477, 0.0), (4478, 0.0), (4479, 0.0), (4480, 0.0), (4482, 0.0), (4483, 0.0), (4485, 0.0), (4487, 0.0), (4488, 0.0), (4489, 0.0), (4490, 0.0), (4491, 0.0), (4492, 0.0), (4493, 0.0), (4494, 0.0), (4496, 0.0), (4497, 0.0), (4499, 0.0), (4500, 0.0), (4502, 0.0), (4503, 0.0), (4504, 0.0), (4505, 0.0), (4506, 0.0), (4507, 0.0), (4508, 0.0), (4509, 0.0), (4510, 0.0), (4511, 0.0), (4512, 0.0), (4513, 0.0), (4514, 0.0), (4515, 0.0), (4516, 0.0), (4517, 0.0), (4519, 0.0), (4520, 0.0), (4521, 0.0), (4522, 0.0), (4523, 0.0), (4524, 0.0), (4525, 0.0), (4526, 0.0), (4527, 0.0), (4528, 0.0), (4529, 0.0), (4530, 0.0), (4531, 0.0), (4532, 0.0), (4533, 0.0), (4534, 0.0), (4535, 0.0), (4536, 0.0), (4538, 0.0), (4539, 0.0), (4540, 0.0), (4541, 0.0), (4542, 0.0), (4543, 0.0), (4544, 0.0), (4545, 0.0), (4546, 0.0), (4547, 0.0), (4548, 0.0), (4549, 0.0), (4550, 0.0), (4551, 0.0), (4552, 0.0), (4553, 0.0), (4554, 0.0), (4555, 0.0), (4556, 0.0), (4557, 0.0), (4558, 0.0), (4559, 0.0), (4560, 0.0), (4561, 0.0), (4562, 0.0), (4563, 0.0), (4564, 0.0), (4565, 0.0), (4566, 0.0), (4567, 0.0), (4568, 0.0), (4569, 0.0), (4570, 0.0), (4571, 0.0), (4572, 0.0), (4573, 0.0), (4575, 0.0), (4577, 0.0), (4578, 0.0), (4579, 0.0), (4580, 0.0), (4581, 0.0), (4582, 0.0), (4584, 0.0), (4585, 0.0), (4586, 0.0), (4588, 0.0), (4589, 0.0), (4590, 0.0), (4591, 0.0), (4592, 0.0), (4593, 0.0), (4594, 0.0), (4595, 0.0), (4596, 0.0), (4597, 0.0), (4598, 0.0), (4599, 0.0), (4600, 0.0), (4601, 0.0), (4602, 0.0), (4603, 0.0), (4605, 0.0), (4606, 0.0), (4607, 0.0), (4608, 0.0), (4609, 0.0), (4610, 0.0), (4611, 0.0), (4613, 0.0), (4614, 0.0), (4615, 0.0), (4616, 0.0), (4617, 0.0), (4618, 0.0), (4619, 0.0), (4620, 0.0), (4621, 0.0), (4622, 0.0), (4624, 0.0), (4625, 0.0), (4626, 0.0), (4628, 0.0), (4629, 0.0), (4630, 0.0), (4631, 0.0), (4632, 0.0), (4633, 0.0), (4634, 0.0), (4635, 0.0), (4636, 0.0), (4637, 0.0), (4638, 0.0), (4641, 0.0), (4642, 0.0), (4643, 0.0), (4644, 0.0), (4645, 0.0), (4646, 0.0), (4647, 0.0), (4648, 0.0), (4649, 0.0), (4650, 0.0), (4651, 0.0), (4652, 0.0), (4653, 0.0), (4654, 0.0), (4655, 0.0), (4656, 0.0), (4657, 0.0), (4659, 0.0), (4660, 0.0), (4663, 0.0), (4664, 0.0), (4665, 0.0), (4666, 0.0), (4668, 0.0), (4669, 0.0), (4670, 0.0), (4671, 0.0), (4672, 0.0), (4673, 0.0), (4674, 0.0), (4675, 0.0), (4676, 0.0), (4677, 0.0), (4678, 0.0), (4679, 0.0), (4680, 0.0), (4681, 0.0), (4682, 0.0), (4684, 0.0), (4685, 0.0), (4686, 0.0), (4688, 0.0), (4689, 0.0), (4691, 0.0), (4692, 0.0), (4693, 0.0), (4694, 0.0), (4695, 0.0), (4696, 0.0), (4698, 0.0), (4699, 0.0), (4700, 0.0), (4702, 0.0), (4703, 0.0), (4704, 0.0), (4705, 0.0), (4706, 0.0), (4707, 0.0), (4708, 0.0), (4709, 0.0), (4710, 0.0), (4711, 0.0), (4712, 0.0), (4713, 0.0), (4714, 0.0), (4715, 0.0), (4716, 0.0), (4718, 0.0), (4719, 0.0), (4720, 0.0), (4721, 0.0), (4722, 0.0), (4723, 0.0), (4724, 0.0), (4725, 0.0), (4726, 0.0), (4727, 0.0), (4728, 0.0), (4729, 0.0), (4730, 0.0), (4731, 0.0), (4732, 0.0), (4733, 0.0), (4734, 0.0), (4735, 0.0), (4736, 0.0), (4737, 0.0), (4739, 0.0), (4740, 0.0), (4741, 0.0), (4742, 0.0), (4745, 0.0), (4746, 0.0), (4748, 0.0), (4749, 0.0), (4750, 0.0), (4751, 0.0), (4753, 0.0), (4754, 0.0), (4755, 0.0), (4756, 0.0), (4757, 0.0), (4758, 0.0), (4759, 0.0)]\n"
          ]
        }
      ]
    },
    {
      "cell_type": "code",
      "source": [
        "# print the name of similar movies based on the index\n",
        "\n",
        "print('Top 30 Movies Suggested for You :\\ n ')\n",
        "\n",
        "i=1\n",
        "\n",
        "for movie in Sorted_Similar_Movies:\n",
        "   index = movie[0]\n",
        "   title_from_index = df [df.index==index]['Movie_Title'].values[0]\n",
        "   if (i<31):\n",
        "    print(i, '.',title_from_index)\n",
        "    i+=1"
      ],
      "metadata": {
        "colab": {
          "base_uri": "https://localhost:8080/"
        },
        "id": "FnM9k7sWvi-R",
        "outputId": "0bf35ad5-3334-43bb-9ef4-206d1f127820"
      },
      "execution_count": 31,
      "outputs": [
        {
          "output_type": "stream",
          "name": "stdout",
          "text": [
            "Top 30 Movies Suggested for You :\\ n \n",
            "1 . Hostel: Part II\n",
            "2 . Bully\n",
            "3 . The Watch\n",
            "4 . The Princess Diaries\n",
            "5 . Welcome to the Dollhouse\n",
            "6 . Boomerang\n",
            "7 . Say It Isn't So\n",
            "8 . Lucky Numbers\n",
            "9 . 88 Minutes\n",
            "10 . The Hangover\n",
            "11 . Firestarter\n",
            "12 . One True Thing\n",
            "13 . Arbitrage\n",
            "14 . Malevolence\n",
            "15 . I Love You, Beth Cooper\n",
            "16 . Hang 'em High\n",
            "17 . Starsky & Hutch\n",
            "18 . Barry Munday\n",
            "19 . Hard to Be a God\n",
            "20 . Flash of Genius\n",
            "21 . Zookeeper\n",
            "22 . The Spy Who Loved Me\n",
            "23 . Dumb and Dumber\n",
            "24 . Containment\n",
            "25 . The Joneses\n",
            "26 . My Dog Tulip\n",
            "27 . Lords of Dogtown\n",
            "28 . The Man with the Golden Gun\n",
            "29 . When the Cat's Away\n",
            "30 . Phone Booth\n"
          ]
        }
      ]
    },
    {
      "cell_type": "markdown",
      "source": [
        "# **Top 10 Movies Recommended Based on Your Favorite Movie**\n"
      ],
      "metadata": {
        "id": "f3WmuvMQyHUg"
      }
    },
    {
      "cell_type": "code",
      "source": [
        "import difflib\n",
        "\n",
        "Movie_Name = input('Enter your favorite movie name: ')\n",
        "\n",
        "list_of_all_titles = df['Movie_Title'].tolist()\n",
        "\n",
        "# Find close matches to the input movie name\n",
        "close_matches = difflib.get_close_matches(Movie_Name, list_of_all_titles)\n",
        "\n",
        "if close_matches:\n",
        "    closest_match = close_matches[0]  # Get the closest match\n",
        "    Index_of_Movie = df[df.Movie_Title == closest_match]['Movie_ID'].values[0]\n",
        "\n",
        "    Recommendation_Score = list(enumerate(Similarity_Score[Index_of_Movie]))\n",
        "\n",
        "    sorted_similar_movies = sorted(Recommendation_Score, key=lambda x: x[1], reverse=True)\n",
        "\n",
        "    print('Top 10 Movies suggested for you: \\n')\n",
        "\n",
        "    i = 1\n",
        "\n",
        "    for movie in sorted_similar_movies:\n",
        "        index = movie[0]\n",
        "        if index < len(df):\n",
        "            title_from_index = df[df.Movie_ID == index]['Movie_Title'].values[0]\n",
        "            print(i, '.', title_from_index)\n",
        "            i += 1\n",
        "        else:\n",
        "            print(\"Invalid index:\", index)\n",
        "\n",
        "        if i > 10:\n",
        "            break\n",
        "else:\n",
        "    print('No close matches found for the entered movie name.')\n"
      ],
      "metadata": {
        "colab": {
          "base_uri": "https://localhost:8080/"
        },
        "id": "dzYW8eWH0tKP",
        "outputId": "16775b89-306b-4cfd-a76f-f4dfdefdd47f"
      },
      "execution_count": 32,
      "outputs": [
        {
          "output_type": "stream",
          "name": "stdout",
          "text": [
            "Enter your favorite movie name: hostel\n",
            "Top 10 Movies suggested for you: \n",
            "\n",
            "1 . Hostel\n",
            "2 . Menace II Society\n",
            "3 . The Lovers\n",
            "4 . Striptease\n",
            "5 . Halloween: Resurrection\n",
            "6 . O\n",
            "7 . Chocolate: Deep Dark Secrets\n",
            "8 . Basic\n",
            "9 . The Train\n",
            "10 . Slow Burn\n"
          ]
        }
      ]
    },
    {
      "cell_type": "markdown",
      "source": [
        "\n",
        "\n",
        "\n",
        "Movie Match, the advanced Movie Recommendation System, is powered by the **Close Match algorithm**, ensuring precise and personalized movie suggestions. By employing fuzzy matching techniques, it adeptly handles minor input variations, such as typos or incomplete titles. This innovative approach guarantees spot-on recommendations, tailored exclusively for each user's cinematic taste.\n",
        "\n",
        "\n",
        "\n",
        "In conclusion, Movie Match offers a seamless and immersive movie-watching experience. I'm delighted to assist you in discovering movies perfectly aligned with your preferences. Thank you for choosing Movie Match. For any inquiries or assistance, please don't hesitate to contact me. Happy movie watching!\n",
        "\n",
        "\n",
        "Thank you for exploring our Movie Recommendation System! I hope you enjoy your personalized movie suggestions. If you have any questions or feedback, feel free to reach out. Happy movie watching!"
      ],
      "metadata": {
        "id": "i_GCDc4MBITG"
      }
    },
    {
      "cell_type": "code",
      "source": [],
      "metadata": {
        "id": "pJzM1oJMRKtx"
      },
      "execution_count": null,
      "outputs": []
    }
  ]
}